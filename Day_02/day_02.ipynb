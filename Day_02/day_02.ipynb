{
 "cells": [
  {
   "cell_type": "markdown",
   "metadata": {},
   "source": [
    "# Day 2\n",
    "\n",
    "### Today, we will start using nf-core pipelines to find differentially abundant genes in our dataset. \n",
    "### We are using data from the following paper: https://www.nature.com/articles/s41593-023-01350-3#Sec10"
   ]
  },
  {
   "cell_type": "markdown",
   "metadata": {
    "vscode": {
     "languageId": "plaintext"
    }
   },
   "source": [
    "### 1. Please take some time to read through the paper and understand their approach, hypotheses and goals."
   ]
  },
  {
   "cell_type": "markdown",
   "metadata": {
    "vscode": {
     "languageId": "plaintext"
    }
   },
   "source": [
    "### What was the objective of the study?"
   ]
  },
  {
   "cell_type": "markdown",
   "metadata": {},
   "source": [
    "The study examines the long-term effects of chronic oxycodone exposure and subsequent withdrawal in the context of chronic neuropathic pain in a mouse model.<br> \n",
    "Specifically, it explores how this exposure influences gene expression changes in key brain regions, including the nucleus accumbens, medial prefrontal cortex, and ventral tegmental area.<br>\n",
    "Additionally, the study aims to determine whether inhibiting HDAC1/HDAC2 using the RBC1HI inhibitor could serve as a potential therapeutic strategy.\n"
   ]
  },
  {
   "cell_type": "markdown",
   "metadata": {
    "vscode": {
     "languageId": "plaintext"
    }
   },
   "source": [
    "### What do the conditions mean?"
   ]
  },
  {
   "cell_type": "markdown",
   "metadata": {},
   "source": [
    "**oxy** refers to the condition in which mice are treated with oxycodone. This is used to study the effects of chronic opioid exposure and withdrawal.\n",
    "\n",
    "\n",
    "**sal** refers to a saline, a saltwater solution, that is used as a placebo/ control treatment.\n",
    "<br><br>"
   ]
  },
  {
   "cell_type": "markdown",
   "metadata": {},
   "source": [
    "###  What do the genotypes mean?"
   ]
  },
  {
   "cell_type": "markdown",
   "metadata": {},
   "source": [
    "**SNI** refers to mice that underwent a surgical procedure that induces chronic neuropathic pain.<br>\n",
    "\n",
    "\n",
    "**Sham** refers to a control procedure where the mice undergo surgery, but it does not cause nerve injury.\n",
    "<br><br>"
   ]
  },
  {
   "cell_type": "markdown",
   "metadata": {},
   "source": [
    "### Imagine you are the bioinformatician in the group who conducted this study. They hand you the raw files and ask you to analyze them.\n",
    "### What would you do?"
   ]
  },
  {
   "cell_type": "markdown",
   "metadata": {},
   "source": [
    "I would conduct a differential expression analysis to investigate the transcriptional effects of oxycodone exposure and <br>\n",
    "chronic neuropathic pain, comparing gene expression changes between the different experimental conditions.\n",
    "<br><br>"
   ]
  },
  {
   "cell_type": "markdown",
   "metadata": {},
   "source": [
    "### Which groups would you compare to each other?\n",
    "### Please also mention which outcome you would expect to see from each comparison."
   ]
  },
  {
   "cell_type": "markdown",
   "metadata": {},
   "source": [
    "1. SNI-Oxy vs. SNI-Sal<br>\n",
    "- evaluating the effects of chronic oxycodone treatment in mice with spared nerve injury<br>\n",
    "- expected Outcome:Significant differences in gene expression (indicating that oxycodone alters the transcriptomic profile in the presence of chronic neuropathic pain) & more pronounced withdrawal symptoms in SNI-Oxy compared to SNI-Sal. <br><br>\n",
    "\n",
    "2. Sham-Oxy vs. Sham-Sal<br>\n",
    "- evaluating the effects of oxycodone treatment in the absence of sham-operated mice<br>\n",
    "- expected Outcome: less pronounced gene expression changes as there is no chronic neuropathic pain <br><br>\n",
    "\n",
    "3. SNI-Sal vs. Sham-Sal<br>\n",
    "- evaluating specific transcriptional changes associated with the pain condition alone<br>\n",
    "- expected outcome: gene expression changes specifically related to chronic neuropathic pain \n",
    "<br><br>\n",
    "\n",
    "4. SNI-Oxy vs. Sham-Sal<br>\n",
    "- evaluating the effects of oxycodone treatment and spared nerve injury<br>\n",
    "- expected outcome: gene expression changes similar but maybe amplified to what’s seen in SNI-Sal vs. Sham-Sal because of oxycodone\n",
    "<br><br>"
   ]
  },
  {
   "cell_type": "markdown",
   "metadata": {},
   "source": [
    "### Your group gave you a very suboptimal excel sheet (conditions_runs_oxy_project.xlsx) to get the information you need for each run they uploaded to the SRA.<br>\n",
    "### So, instead of directly diving into downloading the data and starting the analysis, you first need to sort the lazy table.<br>\n",
    "### Use Python and Pandas to get the table into a more sensible order.<br>\n",
    "### Then, perform some overview analysis and plot the results"
   ]
  },
  {
   "cell_type": "code",
   "execution_count": 2,
   "metadata": {},
   "outputs": [
    {
     "name": "stdout",
     "output_type": "stream",
     "text": [
      "\n",
      "Sorted Data:\n",
      "   Patient          Run RNA-seq  DNA-seq condition: Sal Condition: Oxy  \\\n",
      "0        ?  SRR23195506       x      NaN            NaN              x   \n",
      "1        ?  SRR23195508       x      NaN            NaN              x   \n",
      "2        ?  SRR23195509       x      NaN            NaN              x   \n",
      "3        ?  SRR23195511       x      NaN            NaN              x   \n",
      "4        ?  SRR23195514       x      NaN            NaN              x   \n",
      "5        ?  SRR23195516       x      NaN            NaN              x   \n",
      "6        ?  SRR23195517       x      NaN            NaN              x   \n",
      "7        ?  SRR23195519       x      NaN            NaN              x   \n",
      "8        ?  SRR23195505       x      NaN              x            NaN   \n",
      "9        ?  SRR23195507       x      NaN              x            NaN   \n",
      "10       ?  SRR23195510       x      NaN              x            NaN   \n",
      "11       ?  SRR23195512       x      NaN              x            NaN   \n",
      "12       ?  SRR23195513       x      NaN              x            NaN   \n",
      "13       ?  SRR23195515       x      NaN              x            NaN   \n",
      "14       ?  SRR23195518       x      NaN              x            NaN   \n",
      "15       ?  SRR23195520       x      NaN              x            NaN   \n",
      "\n",
      "   Genotype: SNI Genotype: Sham  \n",
      "0            NaN              x  \n",
      "1              x            NaN  \n",
      "2              x            NaN  \n",
      "3            NaN              x  \n",
      "4            NaN              x  \n",
      "5              x            NaN  \n",
      "6              x            NaN  \n",
      "7            NaN              x  \n",
      "8              x            NaN  \n",
      "9            NaN              x  \n",
      "10             x            NaN  \n",
      "11           NaN              x  \n",
      "12             x            NaN  \n",
      "13           NaN              x  \n",
      "14             x            NaN  \n",
      "15           NaN              x  \n"
     ]
    }
   ],
   "source": [
    "import pandas as pd\n",
    "import openpyxl\n",
    "\n",
    "#read the excel sheet\n",
    "df = pd.read_excel('conditions_runs_oxy_project.xlsx',header=0)\n",
    "\n",
    "#sort based on conditions and Run\n",
    "sorted_data = df.sort_values(by=['Condition: Oxy', 'condition: Sal', 'Run'])\n",
    "\n",
    "# reset the index after sorting\n",
    "sorted_data.reset_index(drop=True, inplace=True)\n",
    "\n",
    "# Display the sorted data\n",
    "print(\"\\nSorted Data:\")\n",
    "print(sorted_data)\n",
    "\n",
    "# Save the DataFrame\n",
    "sorted_data.to_excel('conditions_runs_oxy_project_sorted.xlsx', index=False)"
   ]
  },
  {
   "cell_type": "code",
   "execution_count": 3,
   "metadata": {},
   "outputs": [
    {
     "data": {
      "image/png": "[encoded data removed]",
      "text/plain": [
       "<Figure size 1500x500 with 3 Axes>"
      ]
     },
     "metadata": {},
     "output_type": "display_data"
    }
   ],
   "source": [
    "import matplotlib.pyplot as plt\n",
    "import numpy as np\n",
    "\n",
    "condition_counts = {\n",
    "    'Sal': sorted_data['condition: Sal'].value_counts()['x'],\n",
    "    'Oxy': sorted_data['Condition: Oxy'].value_counts()['x']\n",
    "}\n",
    "\n",
    "# Count the number of samples for each genotype\n",
    "genotype_counts = {\n",
    "    'SNI': sorted_data['Genotype: SNI'].value_counts()['x'],\n",
    "    'Sham': sorted_data['Genotype: Sham'].value_counts()['x']\n",
    "}\n",
    "\n",
    "SNI_Oxy_count = len(sorted_data[(sorted_data['Genotype: SNI'] == 'x') & (sorted_data['Condition: Oxy'] == 'x')])\n",
    "SNI_Sal_count = len(sorted_data[(sorted_data['Genotype: SNI'] == 'x') & (sorted_data['condition: Sal'] == 'x')])\n",
    "Sham_Oxy_count = len(sorted_data[(sorted_data['Genotype: Sham'] == 'x') & (sorted_data['Condition: Oxy'] == 'x')])\n",
    "Sham_Sal_count = len(sorted_data[(sorted_data['Genotype: Sham'] == 'x') & (sorted_data['condition: Sal'] == 'x')])\n",
    "\n",
    "genotypes = ['SNI', 'Sham']\n",
    "oxy_counts = [SNI_Oxy_count, Sham_Oxy_count]\n",
    "sal_counts = [SNI_Sal_count, Sham_Sal_count]\n",
    "\n",
    "# Plot the counts of samples for conditions and genotypes\n",
    "fig, ax = plt.subplots(1, 3, figsize=(15, 5))\n",
    "\n",
    "# Plot condition counts\n",
    "ax[0].bar(condition_counts.keys(), condition_counts.values(), color=['blue', 'orange'])\n",
    "ax[0].set_title('Number of Samples by Condition')\n",
    "ax[0].set_ylabel('Count')\n",
    "ax[0].set_xlabel('Condition')\n",
    "\n",
    "# Plot genotype counts\n",
    "ax[1].bar(genotype_counts.keys(), genotype_counts.values(), color=['green', 'red'])\n",
    "ax[1].set_title('Number of Samples by Genotype')\n",
    "ax[1].set_ylabel('Count')\n",
    "ax[1].set_xlabel('Genotype')\n",
    "\n",
    "ax[2].bar(genotypes, oxy_counts, label='Oxy', color='orange')\n",
    "ax[2].bar(genotypes, sal_counts, bottom=oxy_counts, label='Sal', color='blue')\n",
    "ax[2].set_title('Sample Distribution by Genotype and Condition (Oxy vs Sal)')\n",
    "ax[2].set_ylabel('Sample Count')\n",
    "ax[2].set_xlabel('Genotype')\n",
    "ax[2].legend(bbox_to_anchor=(1.24, 1), loc='upper right')\n",
    "\n",
    "plt.tight_layout()\n",
    "plt.show()"
   ]
  },
  {
   "cell_type": "markdown",
   "metadata": {},
   "source": [
    "### 1. How many samples do you have per condition?"
   ]
  },
  {
   "cell_type": "code",
   "execution_count": 4,
   "metadata": {},
   "outputs": [
    {
     "name": "stdout",
     "output_type": "stream",
     "text": [
      "There are 8 samples for the sal conition and 8 samples for the oxy condition.\n"
     ]
    }
   ],
   "source": [
    "\n",
    "print(f\"There are {condition_counts['Sal']} samples for the sal conition and {condition_counts['Oxy']} samples for the oxy condition.\")"
   ]
  },
  {
   "cell_type": "markdown",
   "metadata": {},
   "source": [
    "### 2. How many samples do you have per genotype?"
   ]
  },
  {
   "cell_type": "code",
   "execution_count": 5,
   "metadata": {},
   "outputs": [
    {
     "name": "stdout",
     "output_type": "stream",
     "text": [
      "There are 8 samples for the SIN genotype and 8 samples for the Sham genotype.\n"
     ]
    }
   ],
   "source": [
    "print(f\"There are {genotype_counts['SNI']} samples for the SIN genotype and {genotype_counts['Sham']} samples for the Sham genotype.\")"
   ]
  },
  {
   "cell_type": "markdown",
   "metadata": {},
   "source": [
    "### 3. How often do you have each condition per genotype?"
   ]
  },
  {
   "cell_type": "code",
   "execution_count": 6,
   "metadata": {},
   "outputs": [
    {
     "name": "stdout",
     "output_type": "stream",
     "text": [
      "There are 4 samples for the SIN genotype under the sal condition.\n",
      "There are 4 samples for the Sham genotype under the sal condition.\n",
      "There are 4 samples for the SIN genotype under the oxy condition.\n",
      "There are 4 samples for the Sham genotype under the oxy condition.\n"
     ]
    }
   ],
   "source": [
    "print(f\"There are {SNI_Sal_count} samples for the SIN genotype under the sal condition.\")\n",
    "print(f\"There are {Sham_Sal_count} samples for the Sham genotype under the sal condition.\")\n",
    "print(f\"There are {SNI_Oxy_count} samples for the SIN genotype under the oxy condition.\")\n",
    "print(f\"There are {Sham_Oxy_count} samples for the Sham genotype under the oxy condition.\")"
   ]
  },
  {
   "cell_type": "markdown",
   "metadata": {},
   "source": [
    "### They were so kind to also provide you with the information of the number of bases per run, so that you can know how much space the data will take on your Cluster.<br>\n",
    "### Add a new column to your fancy table with this information (base_counts.csv) and sort your dataframe according to this information and the condition."
   ]
  },
  {
   "cell_type": "code",
   "execution_count": 9,
   "metadata": {},
   "outputs": [
    {
     "name": "stdout",
     "output_type": "stream",
     "text": [
      "\n",
      "Sorted Data with Base Counts:\n",
      "   Patient          Run RNA-seq  DNA-seq condition: Sal Condition: Oxy  \\\n",
      "0        ?  SRR23195516       x      NaN            NaN              x   \n",
      "1        ?  SRR23195511       x      NaN            NaN              x   \n",
      "2        ?  SRR23195517       x      NaN            NaN              x   \n",
      "3        ?  SRR23195505       x      NaN              x            NaN   \n",
      "4        ?  SRR23195508       x      NaN            NaN              x   \n",
      "5        ?  SRR23195519       x      NaN            NaN              x   \n",
      "6        ?  SRR23195509       x      NaN            NaN              x   \n",
      "7        ?  SRR23195514       x      NaN            NaN              x   \n",
      "8        ?  SRR23195510       x      NaN              x            NaN   \n",
      "9        ?  SRR23195512       x      NaN              x            NaN   \n",
      "10       ?  SRR23195520       x      NaN              x            NaN   \n",
      "11       ?  SRR23195506       x      NaN            NaN              x   \n",
      "12       ?  SRR23195518       x      NaN              x            NaN   \n",
      "13       ?  SRR23195507       x      NaN              x            NaN   \n",
      "14       ?  SRR23195513       x      NaN              x            NaN   \n",
      "15       ?  SRR23195515       x      NaN              x            NaN   \n",
      "\n",
      "   Genotype: SNI Genotype: Sham       Bases  \n",
      "0              x            NaN  6203117700  \n",
      "1            NaN              x  6456390900  \n",
      "2              x            NaN  6863840400  \n",
      "3              x            NaN  6922564500  \n",
      "4              x            NaN  6927786900  \n",
      "5            NaN              x  6996050100  \n",
      "6              x            NaN  7003550100  \n",
      "7            NaN              x  7226808600  \n",
      "8              x            NaN  7377388500  \n",
      "9            NaN              x  7462857900  \n",
      "10           NaN              x  7858146000  \n",
      "11           NaN              x  7859530800  \n",
      "12             x            NaN  7908500400  \n",
      "13           NaN              x  8063298900  \n",
      "14             x            NaN  8099181600  \n",
      "15           NaN              x  8169101700  \n"
     ]
    }
   ],
   "source": [
    "#read file\n",
    "df_base_counts = pd.read_csv('base_counts.csv',header=0)\n",
    "\n",
    "# Merge the DataFrames on the 'Run' column \n",
    "merged_data = pd.merge(df, df_base_counts, on='Run', how='inner')\n",
    "\n",
    "# Sort the DataFrame by 'Base_Count' and then by condition\n",
    "sorted_data = merged_data.sort_values(by=['Bases', 'Condition: Oxy'], ascending=[True, True])\n",
    "\n",
    "# reset the index after sorting\n",
    "sorted_data.reset_index(drop=True, inplace=True)\n",
    "\n",
    "# Display the sorted data\n",
    "print(\"\\nSorted Data with Base Counts:\")\n",
    "\n",
    "print(sorted_data)\n",
    "\n",
    "# Save the DataFrame\n",
    "sorted_data.to_excel('conditions_runs_oxy_project_sorted_with_bases.xlsx', index=False)\n"
   ]
  },
  {
   "cell_type": "markdown",
   "metadata": {},
   "source": [
    "### Then select the 2 smallest runs from your dataset and download them from SRA (maybe an nf-core pipeline can help here?...)"
   ]
  },
  {
   "cell_type": "code",
   "execution_count": 11,
   "metadata": {},
   "outputs": [],
   "source": [
    "# filter the 2 smallest runs\n",
    "df_filtered = sorted_data[['Run']].head(2)\n",
    "\n",
    "# rename the column \n",
    "df_filtered.rename(columns={'Run': 'sample'}, inplace=True)\n",
    "\n",
    "# Save the filtered DataFrame to a CSV file\n",
    "df_filtered.to_csv('filtered_runs.csv', index=False, header=False)\n",
    "df_filtered.to_csv('filtered_runs_with_header.csv', index=False, header=True)\n"
   ]
  },
  {
   "cell_type": "markdown",
   "metadata": {},
   "source": [
    "The files were also provided by the tutors as the download took really long."
   ]
  },
  {
   "cell_type": "code",
   "execution_count": 8,
   "metadata": {},
   "outputs": [
    {
     "name": "stdout",
     "output_type": "stream",
     "text": [
      "\u001b[33mNextflow 24.04.4 is available - Please consider updating your version to it\u001b[m\n",
      "N E X T F L O W  ~  version 23.10.0\n",
      "Launching `https://github.com/nf-core/fetchngs` [elated_avogadro] DSL2 - revision: 8ec2d934f9 [master]\n",
      "\u001b[33mWARN: Access to undefined parameter `monochromeLogs` -- Initialise it to a default value eg. `params.monochromeLogs = some_value`\u001b[39m\u001b[K\n",
      "\n",
      "\n",
      "-\u001b[2m----------------------------------------------------\u001b[0m-\n",
      "                                        \u001b[0;32m,--.\u001b[0;30m/\u001b[0;32m,-.\u001b[0m\n",
      "\u001b[0;34m        ___     __   __   __   ___     \u001b[0;32m/,-._.--~'\u001b[0m\n",
      "\u001b[0;34m  |\\ | |__  __ /  ` /  \\ |__) |__         \u001b[0;33m}  {\u001b[0m\n",
      "\u001b[0;34m  | \\| |       \\__, \\__/ |  \\ |___     \u001b[0;32m\\`-._,-`-,\u001b[0m\n",
      "                                        \u001b[0;32m`._,._,'\u001b[0m\n",
      "\u001b[0;35m  nf-core/fetchngs v1.12.0-g8ec2d93\u001b[0m\n",
      "-\u001b[2m----------------------------------------------------\u001b[0m-\n",
      "\u001b[1mCore Nextflow options\u001b[0m\n",
      "  \u001b[0;34mrevision       : \u001b[0;32mmaster\u001b[0m\n",
      "  \u001b[0;34mrunName        : \u001b[0;32melated_avogadro\u001b[0m\n",
      "  \u001b[0;34mcontainerEngine: \u001b[0;32mdocker\u001b[0m\n",
      "  \u001b[0;34mlaunchDir      : \u001b[0;32m/home/maikenaegele/Computational Workflow/Sheet 2\u001b[0m\n",
      "  \u001b[0;34mworkDir        : \u001b[0;32m/home/maikenaegele/Computational Workflow/Sheet 2/work\u001b[0m\n",
      "  \u001b[0;34mprojectDir     : \u001b[0;32m/home/maikenaegele/.nextflow/assets/nf-core/fetchngs\u001b[0m\n",
      "  \u001b[0;34muserName       : \u001b[0;32mmaikenaegele\u001b[0m\n",
      "  \u001b[0;34mprofile        : \u001b[0;32mdocker\u001b[0m\n",
      "  \u001b[0;34mconfigFiles    : \u001b[0;32m\u001b[0m\n",
      "\n",
      "\u001b[1mInput/output options\u001b[0m\n",
      "  \u001b[0;34minput          : \u001b[0;32m./Maike_Naegele_sheet2/filtered_runs.csv\u001b[0m\n",
      "  \u001b[0;34moutdir         : \u001b[0;32m./Maike_Naegele_sheet2/SRA_runs\u001b[0m\n",
      "\n",
      "\u001b[1mMax job request options\u001b[0m\n",
      "  \u001b[0;34mmax_memory     : \u001b[0;32m7.GB\u001b[0m\n",
      "\n",
      "!! Only displaying parameters that differ from the pipeline defaults !!\n",
      "-\u001b[2m----------------------------------------------------\u001b[0m-\n",
      "If you use nf-core/fetchngs for your analysis please cite:\n",
      "\n",
      "* The pipeline\n",
      "  https://doi.org/10.5281/zenodo.5070524\n",
      "\n",
      "* The nf-core framework\n",
      "  https://doi.org/10.1038/s41587-020-0439-x\n",
      "\n",
      "* Software dependencies\n",
      "  https://github.com/nf-core/fetchngs/blob/master/CITATIONS.md\n",
      "-\u001b[2m----------------------------------------------------\u001b[0m-\n",
      "[-        ] process > NFCORE_FETCHNGS:SRA:SRA_IDS... -\u001b[K\n",
      "[-        ] process > NFCORE_FETCHNGS:SRA:SRA_RUN... -\u001b[K\n",
      "\u001b[3A\n",
      "[-        ] process > NFCORE_FETCHNGS:SRA:SRA_IDS... -\u001b[K\n",
      "[-        ] process > NFCORE_FETCHNGS:SRA:SRA_RUN... -\u001b[K\n",
      "[-        ] process > NFCORE_FETCHNGS:SRA:SRA_FAS... -\u001b[K\n",
      "[-        ] process > NFCORE_FETCHNGS:SRA:FASTQ_D... -\u001b[K\n",
      "[-        ] process > NFCORE_FETCHNGS:SRA:FASTQ_D... -\u001b[K\n",
      "[-        ] process > NFCORE_FETCHNGS:SRA:FASTQ_D... -\u001b[K\n",
      "[-        ] process > NFCORE_FETCHNGS:SRA:ASPERA_CLI -\u001b[K\n",
      "[-        ] process > NFCORE_FETCHNGS:SRA:SRA_TO_... -\u001b[K\n",
      "[-        ] process > NFCORE_FETCHNGS:SRA:MULTIQC... -\u001b[K\n",
      "\u001b[10A\n",
      "[-        ] process > NFCORE_FETCHNGS:SRA:SRA_IDS... [  0%] 0 of 2\u001b[K\n",
      "[-        ] process > NFCORE_FETCHNGS:SRA:SRA_RUN... -\u001b[K\n",
      "[-        ] process > NFCORE_FETCHNGS:SRA:SRA_FAS... -\u001b[K\n",
      "[-        ] process > NFCORE_FETCHNGS:SRA:FASTQ_D... -\u001b[K\n",
      "[-        ] process > NFCORE_FETCHNGS:SRA:FASTQ_D... -\u001b[K\n",
      "[-        ] process > NFCORE_FETCHNGS:SRA:FASTQ_D... -\u001b[K\n",
      "[-        ] process > NFCORE_FETCHNGS:SRA:ASPERA_CLI -\u001b[K\n",
      "[-        ] process > NFCORE_FETCHNGS:SRA:SRA_TO_... -\u001b[K\n",
      "[-        ] process > NFCORE_FETCHNGS:SRA:MULTIQC... -\u001b[K\n",
      "\u001b[10A\n",
      "executor >  local (1)\u001b[K\n",
      "[5a/a26f63] process > NFCORE_FETCHNGS:SRA:SRA_IDS... [  0%] 0 of 2\u001b[K\n",
      "[-        ] process > NFCORE_FETCHNGS:SRA:SRA_RUN... -\u001b[K\n",
      "[-        ] process > NFCORE_FETCHNGS:SRA:SRA_FAS... -\u001b[K\n",
      "[-        ] process > NFCORE_FETCHNGS:SRA:FASTQ_D... -\u001b[K\n",
      "[-        ] process > NFCORE_FETCHNGS:SRA:FASTQ_D... -\u001b[K\n",
      "[-        ] process > NFCORE_FETCHNGS:SRA:FASTQ_D... -\u001b[K\n",
      "[-        ] process > NFCORE_FETCHNGS:SRA:ASPERA_CLI -\u001b[K\n",
      "[-        ] process > NFCORE_FETCHNGS:SRA:SRA_TO_... -\u001b[K\n",
      "[-        ] process > NFCORE_FETCHNGS:SRA:MULTIQC... -\u001b[K\n",
      "\u001b[11A\n",
      "executor >  local (2)\u001b[K\n",
      "[5a/a26f63] process > NFCORE_FETCHNGS:SRA:SRA_IDS... [ 50%] 1 of 2\u001b[K\n",
      "[-        ] process > NFCORE_FETCHNGS:SRA:SRA_RUN... [  0%] 0 of 1\u001b[K\n",
      "[-        ] process > NFCORE_FETCHNGS:SRA:SRA_FAS... -\u001b[K\n",
      "[-        ] process > NFCORE_FETCHNGS:SRA:FASTQ_D... -\u001b[K\n",
      "[-        ] process > NFCORE_FETCHNGS:SRA:FASTQ_D... -\u001b[K\n",
      "[-        ] process > NFCORE_FETCHNGS:SRA:FASTQ_D... -\u001b[K\n",
      "[-        ] process > NFCORE_FETCHNGS:SRA:ASPERA_CLI -\u001b[K\n",
      "[-        ] process > NFCORE_FETCHNGS:SRA:SRA_TO_... -\u001b[K\n",
      "[-        ] process > NFCORE_FETCHNGS:SRA:MULTIQC... -\u001b[K\n",
      "\u001b[11A\n",
      "executor >  local (3)\u001b[K\n",
      "[bc/306b2d] process > NFCORE_FETCHNGS:SRA:SRA_IDS... [100%] 2 of 2 ✔\u001b[K\n",
      "[64/751ea8] process > NFCORE_FETCHNGS:SRA:SRA_RUN... [  0%] 0 of 2\u001b[K\n",
      "[-        ] process > NFCORE_FETCHNGS:SRA:SRA_FAS... -\u001b[K\n",
      "[-        ] process > NFCORE_FETCHNGS:SRA:FASTQ_D... -\u001b[K\n",
      "[-        ] process > NFCORE_FETCHNGS:SRA:FASTQ_D... -\u001b[K\n",
      "[-        ] process > NFCORE_FETCHNGS:SRA:FASTQ_D... -\u001b[K\n",
      "[-        ] process > NFCORE_FETCHNGS:SRA:ASPERA_CLI -\u001b[K\n",
      "[-        ] process > NFCORE_FETCHNGS:SRA:SRA_TO_... -\u001b[K\n",
      "[-        ] process > NFCORE_FETCHNGS:SRA:MULTIQC... -\u001b[K\n",
      "\u001b[11A\n",
      "executor >  local (3)\u001b[K\n",
      "[bc/306b2d] process > NFCORE_FETCHNGS:SRA:SRA_IDS... [100%] 2 of 2 ✔\u001b[K\n",
      "[64/751ea8] process > NFCORE_FETCHNGS:SRA:SRA_RUN... [  0%] 0 of 2\u001b[K\n",
      "[-        ] process > NFCORE_FETCHNGS:SRA:SRA_FAS... -\u001b[K\n",
      "[-        ] process > NFCORE_FETCHNGS:SRA:FASTQ_D... -\u001b[K\n",
      "[-        ] process > NFCORE_FETCHNGS:SRA:FASTQ_D... -\u001b[K\n",
      "[-        ] process > NFCORE_FETCHNGS:SRA:FASTQ_D... -\u001b[K\n",
      "[-        ] process > NFCORE_FETCHNGS:SRA:ASPERA_CLI -\u001b[K\n",
      "[-        ] process > NFCORE_FETCHNGS:SRA:SRA_TO_... -\u001b[K\n",
      "[-        ] process > NFCORE_FETCHNGS:SRA:MULTIQC... -\u001b[K\n",
      "\u001b[11A\n",
      "executor >  local (4)\u001b[K\n",
      "[bc/306b2d] process > NFCORE_FETCHNGS:SRA:SRA_IDS... [100%] 2 of 2 ✔\u001b[K\n",
      "[64/751ea8] process > NFCORE_FETCHNGS:SRA:SRA_RUN... [ 50%] 1 of 2\u001b[K\n",
      "[-        ] process > NFCORE_FETCHNGS:SRA:SRA_FAS... [  0%] 0 of 1\u001b[K\n",
      "[-        ] process > NFCORE_FETCHNGS:SRA:FASTQ_D... -\u001b[K\n",
      "[-        ] process > NFCORE_FETCHNGS:SRA:FASTQ_D... -\u001b[K\n",
      "[-        ] process > NFCORE_FETCHNGS:SRA:FASTQ_D... -\u001b[K\n",
      "[-        ] process > NFCORE_FETCHNGS:SRA:ASPERA_CLI -\u001b[K\n",
      "[-        ] process > NFCORE_FETCHNGS:SRA:SRA_TO_... -\u001b[K\n",
      "[-        ] process > NFCORE_FETCHNGS:SRA:MULTIQC... -\u001b[K\n",
      "\u001b[11A\n",
      "executor >  local (5)\u001b[K\n",
      "[bc/306b2d] process > NFCORE_FETCHNGS:SRA:SRA_IDS... [100%] 2 of 2 ✔\u001b[K\n",
      "[9f/a6e046] process > NFCORE_FETCHNGS:SRA:SRA_RUN... [100%] 2 of 2 ✔\u001b[K\n",
      "[a6/f6b6e0] process > NFCORE_FETCHNGS:SRA:SRA_FAS... [  0%] 0 of 2\u001b[K\n",
      "[-        ] process > NFCORE_FETCHNGS:SRA:FASTQ_D... -\u001b[K\n",
      "[-        ] process > NFCORE_FETCHNGS:SRA:FASTQ_D... -\u001b[K\n",
      "[-        ] process > NFCORE_FETCHNGS:SRA:FASTQ_D... -\u001b[K\n",
      "[-        ] process > NFCORE_FETCHNGS:SRA:ASPERA_CLI -\u001b[K\n",
      "[-        ] process > NFCORE_FETCHNGS:SRA:SRA_TO_... -\u001b[K\n",
      "[-        ] process > NFCORE_FETCHNGS:SRA:MULTIQC... -\u001b[K\n",
      "\u001b[11A\n",
      "executor >  local (6)\u001b[K\n",
      "[bc/306b2d] process > NFCORE_FETCHNGS:SRA:SRA_IDS... [100%] 2 of 2 ✔\u001b[K\n",
      "[9f/a6e046] process > NFCORE_FETCHNGS:SRA:SRA_RUN... [100%] 2 of 2 ✔\u001b[K\n",
      "[a6/f6b6e0] process > NFCORE_FETCHNGS:SRA:SRA_FAS... [ 50%] 1 of 2\u001b[K\n",
      "[-        ] process > NFCORE_FETCHNGS:SRA:FASTQ_D... -\u001b[K\n",
      "[-        ] process > NFCORE_FETCHNGS:SRA:FASTQ_D... -\u001b[K\n",
      "[-        ] process > NFCORE_FETCHNGS:SRA:FASTQ_D... -\u001b[K\n",
      "[-        ] process > NFCORE_FETCHNGS:SRA:ASPERA_CLI -\u001b[K\n",
      "[-        ] process > NFCORE_FETCHNGS:SRA:SRA_TO_... -\u001b[K\n",
      "[-        ] process > NFCORE_FETCHNGS:SRA:MULTIQC... -\u001b[K\n",
      "\u001b[11A\n",
      "executor >  local (7)\u001b[K\n",
      "[bc/306b2d] process > NFCORE_FETCHNGS:SRA:SRA_IDS... [100%] 2 of 2 ✔\u001b[K\n",
      "[9f/a6e046] process > NFCORE_FETCHNGS:SRA:SRA_RUN... [100%] 2 of 2 ✔\u001b[K\n",
      "[a6/f6b6e0] process > NFCORE_FETCHNGS:SRA:SRA_FAS... [ 50%] 1 of 2\u001b[K\n",
      "[-        ] process > NFCORE_FETCHNGS:SRA:FASTQ_D... -\u001b[K\n",
      "[-        ] process > NFCORE_FETCHNGS:SRA:FASTQ_D... -\u001b[K\n",
      "[-        ] process > NFCORE_FETCHNGS:SRA:FASTQ_D... -\u001b[K\n",
      "[-        ] process > NFCORE_FETCHNGS:SRA:ASPERA_CLI -\u001b[K\n",
      "[72/f76705] process > NFCORE_FETCHNGS:SRA:SRA_TO_... [100%] 1 of 1\u001b[K\n",
      "[-        ] process > NFCORE_FETCHNGS:SRA:MULTIQC... -\u001b[K\n",
      "\u001b[11A\n",
      "executor >  local (8)\u001b[K\n",
      "[bc/306b2d] process > NFCORE_FETCHNGS:SRA:SRA_IDS... [100%] 2 of 2 ✔\u001b[K\n",
      "[9f/a6e046] process > NFCORE_FETCHNGS:SRA:SRA_RUN... [100%] 2 of 2 ✔\u001b[K\n",
      "[86/6d0803] process > NFCORE_FETCHNGS:SRA:SRA_FAS... [100%] 2 of 2 ✔\u001b[K\n",
      "[-        ] process > NFCORE_FETCHNGS:SRA:FASTQ_D... -\u001b[K\n",
      "[-        ] process > NFCORE_FETCHNGS:SRA:FASTQ_D... -\u001b[K\n",
      "[-        ] process > NFCORE_FETCHNGS:SRA:FASTQ_D... -\u001b[K\n",
      "[-        ] process > NFCORE_FETCHNGS:SRA:ASPERA_CLI -\u001b[K\n",
      "[83/af0cb9] process > NFCORE_FETCHNGS:SRA:SRA_TO_... [100%] 2 of 2 ✔\u001b[K\n",
      "[-        ] process > NFCORE_FETCHNGS:SRA:MULTIQC... -\u001b[K\n",
      "\u001b[11A\n",
      "executor >  local (9)\u001b[K\n",
      "[bc/306b2d] process > NFCORE_FETCHNGS:SRA:SRA_IDS... [100%] 2 of 2 ✔\u001b[K\n",
      "[9f/a6e046] process > NFCORE_FETCHNGS:SRA:SRA_RUN... [100%] 2 of 2 ✔\u001b[K\n",
      "[86/6d0803] process > NFCORE_FETCHNGS:SRA:SRA_FAS... [100%] 2 of 2 ✔\u001b[K\n",
      "[-        ] process > NFCORE_FETCHNGS:SRA:FASTQ_D... -\u001b[K\n",
      "[-        ] process > NFCORE_FETCHNGS:SRA:FASTQ_D... -\u001b[K\n",
      "[-        ] process > NFCORE_FETCHNGS:SRA:FASTQ_D... -\u001b[K\n",
      "[-        ] process > NFCORE_FETCHNGS:SRA:ASPERA_CLI -\u001b[K\n",
      "[83/af0cb9] process > NFCORE_FETCHNGS:SRA:SRA_TO_... [100%] 2 of 2 ✔\u001b[K\n",
      "[d7/d6ff88] process > NFCORE_FETCHNGS:SRA:MULTIQC... [  0%] 0 of 1\u001b[K\n",
      "\u001b[11A\n",
      "executor >  local (9)\u001b[K\n",
      "[bc/306b2d] process > NFCORE_FETCHNGS:SRA:SRA_IDS... [100%] 2 of 2 ✔\u001b[K\n",
      "[9f/a6e046] process > NFCORE_FETCHNGS:SRA:SRA_RUN... [100%] 2 of 2 ✔\u001b[K\n",
      "[86/6d0803] process > NFCORE_FETCHNGS:SRA:SRA_FAS... [100%] 2 of 2 ✔\u001b[K\n",
      "[-        ] process > NFCORE_FETCHNGS:SRA:FASTQ_D... -\u001b[K\n",
      "[-        ] process > NFCORE_FETCHNGS:SRA:FASTQ_D... -\u001b[K\n",
      "[-        ] process > NFCORE_FETCHNGS:SRA:FASTQ_D... -\u001b[K\n",
      "[-        ] process > NFCORE_FETCHNGS:SRA:ASPERA_CLI -\u001b[K\n",
      "[83/af0cb9] process > NFCORE_FETCHNGS:SRA:SRA_TO_... [100%] 2 of 2 ✔\u001b[K\n",
      "[d7/d6ff88] process > NFCORE_FETCHNGS:SRA:MULTIQC... [  0%] 0 of 1\u001b[K\n",
      "\u001b[11A\n",
      "executor >  local (9)\u001b[K\n",
      "[bc/306b2d] process > NFCORE_FETCHNGS:SRA:SRA_IDS... [100%] 2 of 2 ✔\u001b[K\n",
      "[9f/a6e046] process > NFCORE_FETCHNGS:SRA:SRA_RUN... [100%] 2 of 2 ✔\u001b[K\n",
      "[86/6d0803] process > NFCORE_FETCHNGS:SRA:SRA_FAS... [100%] 2 of 2 ✔\u001b[K\n",
      "[-        ] process > NFCORE_FETCHNGS:SRA:FASTQ_D... -\u001b[K\n",
      "[-        ] process > NFCORE_FETCHNGS:SRA:FASTQ_D... -\u001b[K\n",
      "[-        ] process > NFCORE_FETCHNGS:SRA:FASTQ_D... -\u001b[K\n",
      "[-        ] process > NFCORE_FETCHNGS:SRA:ASPERA_CLI -\u001b[K\n",
      "[83/af0cb9] process > NFCORE_FETCHNGS:SRA:SRA_TO_... [100%] 2 of 2 ✔\u001b[K\n",
      "[d7/d6ff88] process > NFCORE_FETCHNGS:SRA:MULTIQC... [100%] 1 of 1 ✔\u001b[K\n",
      "\u001b[11A\n",
      "executor >  local (9)\u001b[K\n",
      "[bc/306b2d] process > NFCORE_FETCHNGS:SRA:SRA_IDS... [100%] 2 of 2 ✔\u001b[K\n",
      "[9f/a6e046] process > NFCORE_FETCHNGS:SRA:SRA_RUN... [100%] 2 of 2 ✔\u001b[K\n",
      "[86/6d0803] process > NFCORE_FETCHNGS:SRA:SRA_FAS... [100%] 2 of 2 ✔\u001b[K\n",
      "[-        ] process > NFCORE_FETCHNGS:SRA:FASTQ_D... -\u001b[K\n",
      "[-        ] process > NFCORE_FETCHNGS:SRA:FASTQ_D... -\u001b[K\n",
      "[-        ] process > NFCORE_FETCHNGS:SRA:FASTQ_D... -\u001b[K\n",
      "[-        ] process > NFCORE_FETCHNGS:SRA:ASPERA_CLI -\u001b[K\n",
      "[83/af0cb9] process > NFCORE_FETCHNGS:SRA:SRA_TO_... [100%] 2 of 2 ✔\u001b[K\n",
      "[d7/d6ff88] process > NFCORE_FETCHNGS:SRA:MULTIQC... [100%] 1 of 1 ✔\u001b[K\n",
      "Waiting for file transfers to complete (1 files)\u001b[K\n",
      "\u001b[12A\n",
      "executor >  local (9)\u001b[K\n",
      "[bc/306b2d] process > NFCORE_FETCHNGS:SRA:SRA_IDS... [100%] 2 of 2 ✔\u001b[K\n",
      "[9f/a6e046] process > NFCORE_FETCHNGS:SRA:SRA_RUN... [100%] 2 of 2 ✔\u001b[K\n",
      "[86/6d0803] process > NFCORE_FETCHNGS:SRA:SRA_FAS... [100%] 2 of 2 ✔\u001b[K\n",
      "[-        ] process > NFCORE_FETCHNGS:SRA:FASTQ_D... -\u001b[K\n",
      "[-        ] process > NFCORE_FETCHNGS:SRA:FASTQ_D... -\u001b[K\n",
      "[-        ] process > NFCORE_FETCHNGS:SRA:FASTQ_D... -\u001b[K\n",
      "[-        ] process > NFCORE_FETCHNGS:SRA:ASPERA_CLI -\u001b[K\n",
      "[83/af0cb9] process > NFCORE_FETCHNGS:SRA:SRA_TO_... [100%] 2 of 2 ✔\u001b[K\n",
      "[d7/d6ff88] process > NFCORE_FETCHNGS:SRA:MULTIQC... [100%] 1 of 1 ✔\u001b[K\n",
      "Waiting for file transfers to complete (1 files)\u001b[K\n",
      "-\u001b[0;35m[nf-core/fetchngs]\u001b[0;32m Pipeline completed successfully\u001b[0m-\u001b[K\n",
      "\u001b[33mWARN: =============================================================================\u001b[K\n",
      "  Please double-check the samplesheet that has been auto-created by the pipeline.\u001b[K\n",
      "\u001b[K\n",
      "  Public databases don't reliably hold information such as strandedness\u001b[K\n",
      "  information, controls etc\u001b[K\n",
      "\u001b[K\n",
      "  All of the sample metadata obtained from the ENA has been appended\u001b[K\n",
      "  as additional columns to help you manually curate the samplesheet before\u001b[K\n",
      "  running nf-core/other pipelines.\u001b[K\n",
      "===================================================================================\u001b[39m\u001b[K\n",
      "\u001b[23A\n",
      "executor >  local (9)\u001b[K\n",
      "[bc/306b2d] process > NFCORE_FETCHNGS:SRA:SRA_IDS... [100%] 2 of 2 ✔\u001b[K\n",
      "[9f/a6e046] process > NFCORE_FETCHNGS:SRA:SRA_RUN... [100%] 2 of 2 ✔\u001b[K\n",
      "[86/6d0803] process > NFCORE_FETCHNGS:SRA:SRA_FAS... [100%] 2 of 2 ✔\u001b[K\n",
      "[-        ] process > NFCORE_FETCHNGS:SRA:FASTQ_D... -\u001b[K\n",
      "[-        ] process > NFCORE_FETCHNGS:SRA:FASTQ_D... -\u001b[K\n",
      "[-        ] process > NFCORE_FETCHNGS:SRA:FASTQ_D... -\u001b[K\n",
      "[-        ] process > NFCORE_FETCHNGS:SRA:ASPERA_CLI -\u001b[K\n",
      "[83/af0cb9] process > NFCORE_FETCHNGS:SRA:SRA_TO_... [100%] 2 of 2 ✔\u001b[K\n",
      "[d7/d6ff88] process > NFCORE_FETCHNGS:SRA:MULTIQC... [100%] 1 of 1 ✔\u001b[K\n",
      "Waiting for file transfers to complete (1 files)\u001b[K\n",
      "-\u001b[0;35m[nf-core/fetchngs]\u001b[0;32m Pipeline completed successfully\u001b[0m-\u001b[K\n",
      "\u001b[33mWARN: =============================================================================\u001b[K\n",
      "  Please double-check the samplesheet that has been auto-created by the pipeline.\u001b[K\n",
      "\u001b[K\n",
      "  Public databases don't reliably hold information such as strandedness\u001b[K\n",
      "  information, controls etc\u001b[K\n",
      "\u001b[K\n",
      "  All of the sample metadata obtained from the ENA has been appended\u001b[K\n",
      "  as additional columns to help you manually curate the samplesheet before\u001b[K\n",
      "  running nf-core/other pipelines.\u001b[K\n",
      "===================================================================================\u001b[39m\u001b[K\n",
      "\u001b[32;1mCompleted at: 05-Oct-2024 20:49:22\n",
      "Duration    : 2h 28m 22s\n",
      "CPU hours   : 4.9\n",
      "Succeeded   : 9\n",
      "\u001b[22;39m\u001b[K\n",
      "\n"
     ]
    }
   ],
   "source": [
    "! nextflow run nf-core/fetchngs --input 'filtered_runs.csv' --outdir 'SRA_runs' -profile docker"
   ]
  },
  {
   "cell_type": "markdown",
   "metadata": {},
   "source": [
    "### While your files are downloading, get back to the paper and explain how you would try to reproduce the analysis.<br>\n",
    "### When you are done with this shout, so we can discuss the different ideas."
   ]
  },
  {
   "cell_type": "markdown",
   "metadata": {},
   "source": [
    "The paper focused on the transcriptional expression comparison of genes between different condtions and genotypes.<br>\n",
    "Therefore, the most plausibel way to reproduce the analysis is to perform a differential expression analysis using using nf-core pipelines. "
   ]
  }
 ],
 "metadata": {
  "kernelspec": {
   "display_name": "CompWorkflow",
   "language": "python",
   "name": "python3"
  },
  "language_info": {
   "codemirror_mode": {
    "name": "ipython",
    "version": 3
   },
   "file_extension": ".py",
   "mimetype": "text/x-python",
   "name": "python",
   "nbconvert_exporter": "python",
   "pygments_lexer": "ipython3",
   "version": "3.12.5"
  }
 },
 "nbformat": 4,
 "nbformat_minor": 2
}
