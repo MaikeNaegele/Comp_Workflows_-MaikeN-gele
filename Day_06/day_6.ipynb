{
 "cells": [
  {
   "cell_type": "markdown",
   "metadata": {},
   "source": [
    "# Day 6 - Nextflow Basics: Introduction to channels and operators"
   ]
  },
  {
   "cell_type": "markdown",
   "metadata": {},
   "source": [
    "Today, we will begin exploring Nextflow, the programming language that powers the advanced nf-core pipelines you worked with last week. Your task is to dive into the core concepts and syntax of Nextflow, understanding how this language enables the development of scalable and reproducible workflows.\n",
    "\n",
    "Nextflow works quite differently from traditional programming languages like Python or Java that you may already be familiar with. To get started, it is essential to understand the foundational concepts that set Nextflow apart."
   ]
  },
  {
   "cell_type": "markdown",
   "metadata": {},
   "source": [
    "### 1. Describe the concept of Workflows, Processes and Channels we deal with in Nextflow"
   ]
  },
  {
   "cell_type": "markdown",
   "metadata": {},
   "source": [
    "Workflows: it specifies a sequence of processes that are linked via channels. \n",
    "\n",
    "\n",
    "\n",
    "\n",
    "\n",
    "Processes: A process is part of the workflow and executes one specific task in the whole analysis (worklfow)\n",
    "\n",
    "\n",
    "\n",
    "\n",
    "\n",
    "\n",
    "Channels: Channels are part of worklows and are used to pass the data between processes such that we get a chain of individual tasks that can be all executed in a single workflow."
   ]
  },
  {
   "cell_type": "markdown",
   "metadata": {},
   "source": [
    "## Introduction to channels\n",
    "\n",
    "Please refer to the file  $\\texttt{channels\\_intro.nf}$ for the next exercises. Then run the code with the respective flag here below. "
   ]
  },
  {
   "cell_type": "code",
   "execution_count": 1,
   "metadata": {},
   "outputs": [
    {
     "name": "stdout",
     "output_type": "stream",
     "text": [
      "\n",
      "\u001b[1m\u001b[38;5;232m\u001b[48;5;43m N E X T F L O W \u001b[0;2m  ~  \u001b[mversion 24.04.4\u001b[m\n",
      "\u001b[K\n",
      "Launching\u001b[35m `channels_intro.nf` \u001b[0;2m[\u001b[0;1;36mjovial_kirch\u001b[0;2m] DSL2 - \u001b[36mrevision: \u001b[0;36m56c8c2e09a\u001b[m\n",
      "\u001b[K\n",
      "^C\n",
      "\n"
     ]
    }
   ],
   "source": [
    "# Task 1 - Create a channel that enumerates the numbers from 1 to 10\n",
    "!nextflow run channels_intro.nf --step 1"
   ]
  },
  {
   "cell_type": "code",
   "execution_count": 3,
   "metadata": {},
   "outputs": [
    {
     "name": "stdout",
     "output_type": "stream",
     "text": [
      "\n",
      "\u001b[1m\u001b[38;5;232m\u001b[48;5;43m N E X T F L O W \u001b[0;2m  ~  \u001b[mversion 24.04.4\u001b[m\n",
      "\u001b[K\n",
      "Launching\u001b[35m `channels_intro.nf` \u001b[0;2m[\u001b[0;1;36magitated_coulomb\u001b[0;2m] DSL2 - \u001b[36mrevision: \u001b[0;36mee6be06add\u001b[m\n",
      "\u001b[K\n",
      "1\n"
     ]
    }
   ],
   "source": [
    "# Task 2 - Create a channel that gives out the entire alphabet\n",
    "!nextflow run channels_intro.nf --step 2"
   ]
  },
  {
   "cell_type": "code",
   "execution_count": 7,
   "metadata": {},
   "outputs": [
    {
     "name": "stdout",
     "output_type": "stream",
     "text": [
      "\n",
      "\u001b[1m\u001b[38;5;232m\u001b[48;5;43m N E X T F L O W \u001b[0;2m  ~  \u001b[mversion 24.04.4\u001b[m\n",
      "\u001b[K\n",
      "Launching\u001b[35m `channels_intro.nf` \u001b[0;2m[\u001b[0;1;36mstupefied_dijkstra\u001b[0;2m] DSL2 - \u001b[36mrevision: \u001b[0;36mdc208f21f5\u001b[m\n",
      "\u001b[K\n",
      "/home/maikenaegele/Computational Workflow/Sheet 5/files_dir/fastq_1.fq\n",
      "/home/maikenaegele/Computational Workflow/Sheet 5/files_dir/fastq5_2.fq:Zone.Identifier\n",
      "/home/maikenaegele/Computational Workflow/Sheet 5/files_dir/SRR5_2.fq\n",
      "/home/maikenaegele/Computational Workflow/Sheet 5/files_dir/SRR4_1.fq:Zone.Identifier\n",
      "/home/maikenaegele/Computational Workflow/Sheet 5/files_dir/SRR5_1.fq\n",
      "/home/maikenaegele/Computational Workflow/Sheet 5/files_dir/file_5.txt\n",
      "/home/maikenaegele/Computational Workflow/Sheet 5/files_dir/file_5.txt:Zone.Identifier\n",
      "/home/maikenaegele/Computational Workflow/Sheet 5/files_dir/SRR5_2.fq:Zone.Identifier\n",
      "/home/maikenaegele/Computational Workflow/Sheet 5/files_dir/fastq4_1.fq\n",
      "/home/maikenaegele/Computational Workflow/Sheet 5/files_dir/fastq4_2.fq\n",
      "/home/maikenaegele/Computational Workflow/Sheet 5/files_dir/fastq5_1.fq:Zone.Identifier\n",
      "/home/maikenaegele/Computational Workflow/Sheet 5/files_dir/fastq1_2.fq:Zone.Identifier\n",
      "/home/maikenaegele/Computational Workflow/Sheet 5/files_dir/SRR2_1.fq\n",
      "/home/maikenaegele/Computational Workflow/Sheet 5/files_dir/SRR3_2.fq\n",
      "/home/maikenaegele/Computational Workflow/Sheet 5/files_dir/file_1.txt\n",
      "/home/maikenaegele/Computational Workflow/Sheet 5/files_dir/SRR1_1.fq:Zone.Identifier\n",
      "/home/maikenaegele/Computational Workflow/Sheet 5/files_dir/SRR3_1.fq:Zone.Identifier\n",
      "/home/maikenaegele/Computational Workflow/Sheet 5/files_dir/fastq2_2.fq:Zone.Identifier\n",
      "/home/maikenaegele/Computational Workflow/Sheet 5/files_dir/fastq3_1.fq:Zone.Identifier\n",
      "/home/maikenaegele/Computational Workflow/Sheet 5/files_dir/SRR1_2.fq\n",
      "/home/maikenaegele/Computational Workflow/Sheet 5/files_dir/fastq5_1.fq\n",
      "/home/maikenaegele/Computational Workflow/Sheet 5/files_dir/SRR2_2.fq:Zone.Identifier\n",
      "/home/maikenaegele/Computational Workflow/Sheet 5/files_dir/file_3.txt:Zone.Identifier\n",
      "/home/maikenaegele/Computational Workflow/Sheet 5/files_dir/file_2.txt\n",
      "/home/maikenaegele/Computational Workflow/Sheet 5/files_dir/fastq2_1.fq:Zone.Identifier\n",
      "/home/maikenaegele/Computational Workflow/Sheet 5/files_dir/fastq1_1.fq\n",
      "/home/maikenaegele/Computational Workflow/Sheet 5/files_dir/fastq4_1.fq:Zone.Identifier\n",
      "/home/maikenaegele/Computational Workflow/Sheet 5/files_dir/fastq1_1.fq:Zone.Identifier\n",
      "/home/maikenaegele/Computational Workflow/Sheet 5/files_dir/fastq2_2.fq\n",
      "/home/maikenaegele/Computational Workflow/Sheet 5/files_dir/SRR5_1.fq:Zone.Identifier\n",
      "/home/maikenaegele/Computational Workflow/Sheet 5/files_dir/SRR4_2.fq\n",
      "/home/maikenaegele/Computational Workflow/Sheet 5/files_dir/fastq2_1.fq\n",
      "/home/maikenaegele/Computational Workflow/Sheet 5/files_dir/SRR1_2.fq:Zone.Identifier\n",
      "/home/maikenaegele/Computational Workflow/Sheet 5/files_dir/fastq3_2.fq\n",
      "/home/maikenaegele/Computational Workflow/Sheet 5/files_dir/SRR2_1.fq:Zone.Identifier\n",
      "/home/maikenaegele/Computational Workflow/Sheet 5/files_dir/fastq.fq:Zone.Identifier\n",
      "/home/maikenaegele/Computational Workflow/Sheet 5/files_dir/SRR3_1.fq\n",
      "/home/maikenaegele/Computational Workflow/Sheet 5/files_dir/fastq.fq\n",
      "/home/maikenaegele/Computational Workflow/Sheet 5/files_dir/fastq_2.fq:Zone.Identifier\n",
      "/home/maikenaegele/Computational Workflow/Sheet 5/files_dir/fastq1_2.fq\n",
      "/home/maikenaegele/Computational Workflow/Sheet 5/files_dir/file_4.txt\n",
      "/home/maikenaegele/Computational Workflow/Sheet 5/files_dir/fastq_1.fq:Zone.Identifier\n",
      "/home/maikenaegele/Computational Workflow/Sheet 5/files_dir/SRR2_2.fq\n",
      "/home/maikenaegele/Computational Workflow/Sheet 5/files_dir/SRR4_2.fq:Zone.Identifier\n",
      "/home/maikenaegele/Computational Workflow/Sheet 5/files_dir/SRR4_1.fq\n",
      "/home/maikenaegele/Computational Workflow/Sheet 5/files_dir/SRR.fq\n",
      "/home/maikenaegele/Computational Workflow/Sheet 5/files_dir/fastq3_2.fq:Zone.Identifier\n",
      "/home/maikenaegele/Computational Workflow/Sheet 5/files_dir/fastq4_2.fq:Zone.Identifier\n",
      "/home/maikenaegele/Computational Workflow/Sheet 5/files_dir/SRR3_2.fq:Zone.Identifier\n",
      "/home/maikenaegele/Computational Workflow/Sheet 5/files_dir/fastq3_1.fq\n",
      "/home/maikenaegele/Computational Workflow/Sheet 5/files_dir/file_4.txt:Zone.Identifier\n",
      "/home/maikenaegele/Computational Workflow/Sheet 5/files_dir/SRR1_1.fq\n",
      "/home/maikenaegele/Computational Workflow/Sheet 5/files_dir/file_2.txt:Zone.Identifier\n",
      "/home/maikenaegele/Computational Workflow/Sheet 5/files_dir/SRR.fq:Zone.Identifier\n",
      "/home/maikenaegele/Computational Workflow/Sheet 5/files_dir/fastq_2.fq\n",
      "/home/maikenaegele/Computational Workflow/Sheet 5/files_dir/fastq5_2.fq\n",
      "/home/maikenaegele/Computational Workflow/Sheet 5/files_dir/file_3.txt\n",
      "/home/maikenaegele/Computational Workflow/Sheet 5/files_dir/file_1.txt:Zone.Identifier\n"
     ]
    }
   ],
   "source": [
    "# Task 3 - Create a channel that includes all files in the \"files_dir\" directory\n",
    "!nextflow run channels_intro.nf --step 3"
   ]
  },
  {
   "cell_type": "code",
   "execution_count": 1,
   "metadata": {},
   "outputs": [
    {
     "name": "stdout",
     "output_type": "stream",
     "text": [
      "\n",
      "\u001b[1m\u001b[38;5;232m\u001b[48;5;43m N E X T F L O W \u001b[0;2m  ~  \u001b[mversion 24.04.4\u001b[m\n",
      "\u001b[K\n",
      "Launching\u001b[35m `channels_intro.nf` \u001b[0;2m[\u001b[0;1;36msilly_hypatia\u001b[0;2m] DSL2 - \u001b[36mrevision: \u001b[0;36mfbacd7894b\u001b[m\n",
      "\u001b[K\n",
      "/home/maikenaegele/Computational Workflow/Sheet 5/files_dir/file_5.txt\n",
      "/home/maikenaegele/Computational Workflow/Sheet 5/files_dir/file_1.txt\n",
      "/home/maikenaegele/Computational Workflow/Sheet 5/files_dir/file_2.txt\n",
      "/home/maikenaegele/Computational Workflow/Sheet 5/files_dir/file_4.txt\n",
      "/home/maikenaegele/Computational Workflow/Sheet 5/files_dir/file_3.txt\n"
     ]
    }
   ],
   "source": [
    "# Task 4 - Create a channel that includes all TXT files in the \"files_dir\" directory\n",
    "!nextflow run channels_intro.nf --step 4"
   ]
  },
  {
   "cell_type": "code",
   "execution_count": 5,
   "metadata": {},
   "outputs": [
    {
     "name": "stdout",
     "output_type": "stream",
     "text": [
      "\n",
      "\u001b[1m\u001b[38;5;232m\u001b[48;5;43m N E X T F L O W \u001b[0;2m  ~  \u001b[mversion 24.04.4\u001b[m\n",
      "\u001b[K\n",
      "Launching\u001b[35m `channels_intro.nf` \u001b[0;2m[\u001b[0;1;36mbig_lamarr\u001b[0;2m] DSL2 - \u001b[36mrevision: \u001b[0;36m7599ba71d7\u001b[m\n",
      "\u001b[K\n",
      "/home/maikenaegele/Computational Workflow/Sheet 5/files_dir/fastq_1.fq\n",
      "/home/maikenaegele/Computational Workflow/Sheet 5/files_dir/fastq_2.fq\n"
     ]
    }
   ],
   "source": [
    "# Task 5 - Create a channel that includes the files \"fastq_1.fq\" and \"fastq_2.fq\" in the \"files_dir\" directory\n",
    "!nextflow run channels_intro.nf --step 5"
   ]
  },
  {
   "cell_type": "code",
   "execution_count": 7,
   "metadata": {},
   "outputs": [
    {
     "name": "stdout",
     "output_type": "stream",
     "text": [
      "\n",
      "\u001b[1m\u001b[38;5;232m\u001b[48;5;43m N E X T F L O W \u001b[0;2m  ~  \u001b[mversion 24.04.4\u001b[m\n",
      "\u001b[K\n",
      "Launching\u001b[35m `channels_intro.nf` \u001b[0;2m[\u001b[0;1;36mfurious_gilbert\u001b[0;2m] DSL2 - \u001b[36mrevision: \u001b[0;36me01fe64349\u001b[m\n",
      "\u001b[K\n",
      "/home/maikenaegele/Computational Workflow/Sheet 5/files_dir/fastq_1.fq\n",
      "/home/maikenaegele/Computational Workflow/Sheet 5/files_dir/fastq5_2.fq:Zone.Identifier\n",
      "/home/maikenaegele/Computational Workflow/Sheet 5/files_dir/SRR5_2.fq\n",
      "/home/maikenaegele/Computational Workflow/Sheet 5/files_dir/SRR4_1.fq:Zone.Identifier\n",
      "/home/maikenaegele/Computational Workflow/Sheet 5/files_dir/SRR5_1.fq\n",
      "/home/maikenaegele/Computational Workflow/Sheet 5/files_dir/file_5.txt\n",
      "/home/maikenaegele/Computational Workflow/Sheet 5/files_dir/file_5.txt:Zone.Identifier\n",
      "/home/maikenaegele/Computational Workflow/Sheet 5/files_dir/SRR5_2.fq:Zone.Identifier\n",
      "/home/maikenaegele/Computational Workflow/Sheet 5/files_dir/fastq4_1.fq\n",
      "/home/maikenaegele/Computational Workflow/Sheet 5/files_dir/.hidden_2.txt:Zone.Identifier\n",
      "/home/maikenaegele/Computational Workflow/Sheet 5/files_dir/fastq4_2.fq\n",
      "/home/maikenaegele/Computational Workflow/Sheet 5/files_dir/fastq5_1.fq:Zone.Identifier\n",
      "/home/maikenaegele/Computational Workflow/Sheet 5/files_dir/fastq1_2.fq:Zone.Identifier\n",
      "/home/maikenaegele/Computational Workflow/Sheet 5/files_dir/SRR2_1.fq\n",
      "/home/maikenaegele/Computational Workflow/Sheet 5/files_dir/SRR3_2.fq\n",
      "/home/maikenaegele/Computational Workflow/Sheet 5/files_dir/file_1.txt\n",
      "/home/maikenaegele/Computational Workflow/Sheet 5/files_dir/SRR1_1.fq:Zone.Identifier\n",
      "/home/maikenaegele/Computational Workflow/Sheet 5/files_dir/SRR3_1.fq:Zone.Identifier\n",
      "/home/maikenaegele/Computational Workflow/Sheet 5/files_dir/fastq2_2.fq:Zone.Identifier\n",
      "/home/maikenaegele/Computational Workflow/Sheet 5/files_dir/fastq3_1.fq:Zone.Identifier\n",
      "/home/maikenaegele/Computational Workflow/Sheet 5/files_dir/SRR1_2.fq\n",
      "/home/maikenaegele/Computational Workflow/Sheet 5/files_dir/fastq5_1.fq\n",
      "/home/maikenaegele/Computational Workflow/Sheet 5/files_dir/SRR2_2.fq:Zone.Identifier\n",
      "/home/maikenaegele/Computational Workflow/Sheet 5/files_dir/file_3.txt:Zone.Identifier\n",
      "/home/maikenaegele/Computational Workflow/Sheet 5/files_dir/file_2.txt\n",
      "/home/maikenaegele/Computational Workflow/Sheet 5/files_dir/fastq2_1.fq:Zone.Identifier\n",
      "/home/maikenaegele/Computational Workflow/Sheet 5/files_dir/fastq1_1.fq\n",
      "/home/maikenaegele/Computational Workflow/Sheet 5/files_dir/fastq4_1.fq:Zone.Identifier\n",
      "/home/maikenaegele/Computational Workflow/Sheet 5/files_dir/fastq1_1.fq:Zone.Identifier\n",
      "/home/maikenaegele/Computational Workflow/Sheet 5/files_dir/fastq2_2.fq\n",
      "/home/maikenaegele/Computational Workflow/Sheet 5/files_dir/SRR5_1.fq:Zone.Identifier\n",
      "/home/maikenaegele/Computational Workflow/Sheet 5/files_dir/SRR4_2.fq\n",
      "/home/maikenaegele/Computational Workflow/Sheet 5/files_dir/.hidden_2.txt\n",
      "/home/maikenaegele/Computational Workflow/Sheet 5/files_dir/fastq2_1.fq\n",
      "/home/maikenaegele/Computational Workflow/Sheet 5/files_dir/SRR1_2.fq:Zone.Identifier\n",
      "/home/maikenaegele/Computational Workflow/Sheet 5/files_dir/fastq3_2.fq\n",
      "/home/maikenaegele/Computational Workflow/Sheet 5/files_dir/SRR2_1.fq:Zone.Identifier\n",
      "/home/maikenaegele/Computational Workflow/Sheet 5/files_dir/fastq.fq:Zone.Identifier\n",
      "/home/maikenaegele/Computational Workflow/Sheet 5/files_dir/SRR3_1.fq\n",
      "/home/maikenaegele/Computational Workflow/Sheet 5/files_dir/fastq.fq\n",
      "/home/maikenaegele/Computational Workflow/Sheet 5/files_dir/fastq_2.fq:Zone.Identifier\n",
      "/home/maikenaegele/Computational Workflow/Sheet 5/files_dir/fastq1_2.fq\n",
      "/home/maikenaegele/Computational Workflow/Sheet 5/files_dir/file_4.txt\n",
      "/home/maikenaegele/Computational Workflow/Sheet 5/files_dir/fastq_1.fq:Zone.Identifier\n",
      "/home/maikenaegele/Computational Workflow/Sheet 5/files_dir/SRR2_2.fq\n",
      "/home/maikenaegele/Computational Workflow/Sheet 5/files_dir/SRR4_2.fq:Zone.Identifier\n",
      "/home/maikenaegele/Computational Workflow/Sheet 5/files_dir/SRR4_1.fq\n",
      "/home/maikenaegele/Computational Workflow/Sheet 5/files_dir/SRR.fq\n",
      "/home/maikenaegele/Computational Workflow/Sheet 5/files_dir/fastq3_2.fq:Zone.Identifier\n",
      "/home/maikenaegele/Computational Workflow/Sheet 5/files_dir/fastq4_2.fq:Zone.Identifier\n",
      "/home/maikenaegele/Computational Workflow/Sheet 5/files_dir/.hidden_1.txt\n",
      "/home/maikenaegele/Computational Workflow/Sheet 5/files_dir/SRR3_2.fq:Zone.Identifier\n",
      "/home/maikenaegele/Computational Workflow/Sheet 5/files_dir/fastq3_1.fq\n",
      "/home/maikenaegele/Computational Workflow/Sheet 5/files_dir/file_4.txt:Zone.Identifier\n",
      "/home/maikenaegele/Computational Workflow/Sheet 5/files_dir/.hidden_1.txt:Zone.Identifier\n",
      "/home/maikenaegele/Computational Workflow/Sheet 5/files_dir/SRR1_1.fq\n",
      "/home/maikenaegele/Computational Workflow/Sheet 5/files_dir/file_2.txt:Zone.Identifier\n",
      "/home/maikenaegele/Computational Workflow/Sheet 5/files_dir/SRR.fq:Zone.Identifier\n",
      "/home/maikenaegele/Computational Workflow/Sheet 5/files_dir/fastq_2.fq\n",
      "/home/maikenaegele/Computational Workflow/Sheet 5/files_dir/fastq5_2.fq\n",
      "/home/maikenaegele/Computational Workflow/Sheet 5/files_dir/file_3.txt\n",
      "/home/maikenaegele/Computational Workflow/Sheet 5/files_dir/file_1.txt:Zone.Identifier\n"
     ]
    }
   ],
   "source": [
    "# Task 6 - go back to the time when you included all files. Are you sure that really ALL files are included? If not, how can you include them?\n",
    "!nextflow run channels_intro.nf --step 6"
   ]
  },
  {
   "cell_type": "markdown",
   "metadata": {},
   "source": [
    "No, not all files included. The hidden files were missing because their filenames started with a dot ('.hidden_2')."
   ]
  },
  {
   "cell_type": "code",
   "execution_count": 11,
   "metadata": {},
   "outputs": [
    {
     "name": "stdout",
     "output_type": "stream",
     "text": [
      "\n",
      "\u001b[1m\u001b[38;5;232m\u001b[48;5;43m N E X T F L O W \u001b[0;2m  ~  \u001b[mversion 24.04.4\u001b[m\n",
      "\u001b[K\n",
      "Launching\u001b[35m `channels_intro.nf` \u001b[0;2m[\u001b[0;1;36msad_brenner\u001b[0;2m] DSL2 - \u001b[36mrevision: \u001b[0;36m56c8c2e09a\u001b[m\n",
      "\u001b[K\n",
      "[SRR5, [/home/maikenaegele/Computational Workflow/Sheet 5/files_dir/SRR5_1.fq, /home/maikenaegele/Computational Workflow/Sheet 5/files_dir/SRR5_2.fq]]\n",
      "[fastq4, [/home/maikenaegele/Computational Workflow/Sheet 5/files_dir/fastq4_1.fq, /home/maikenaegele/Computational Workflow/Sheet 5/files_dir/fastq4_2.fq]]\n",
      "[fastq2, [/home/maikenaegele/Computational Workflow/Sheet 5/files_dir/fastq2_1.fq, /home/maikenaegele/Computational Workflow/Sheet 5/files_dir/fastq2_2.fq]]\n",
      "[SRR3, [/home/maikenaegele/Computational Workflow/Sheet 5/files_dir/SRR3_1.fq, /home/maikenaegele/Computational Workflow/Sheet 5/files_dir/SRR3_2.fq]]\n",
      "[fastq1, [/home/maikenaegele/Computational Workflow/Sheet 5/files_dir/fastq1_1.fq, /home/maikenaegele/Computational Workflow/Sheet 5/files_dir/fastq1_2.fq]]\n",
      "[SRR2, [/home/maikenaegele/Computational Workflow/Sheet 5/files_dir/SRR2_1.fq, /home/maikenaegele/Computational Workflow/Sheet 5/files_dir/SRR2_2.fq]]\n",
      "[SRR4, [/home/maikenaegele/Computational Workflow/Sheet 5/files_dir/SRR4_1.fq, /home/maikenaegele/Computational Workflow/Sheet 5/files_dir/SRR4_2.fq]]\n",
      "[fastq3, [/home/maikenaegele/Computational Workflow/Sheet 5/files_dir/fastq3_1.fq, /home/maikenaegele/Computational Workflow/Sheet 5/files_dir/fastq3_2.fq]]\n",
      "[SRR1, [/home/maikenaegele/Computational Workflow/Sheet 5/files_dir/SRR1_1.fq, /home/maikenaegele/Computational Workflow/Sheet 5/files_dir/SRR1_2.fq]]\n",
      "[fastq, [/home/maikenaegele/Computational Workflow/Sheet 5/files_dir/fastq_1.fq, /home/maikenaegele/Computational Workflow/Sheet 5/files_dir/fastq_2.fq]]\n",
      "[fastq5, [/home/maikenaegele/Computational Workflow/Sheet 5/files_dir/fastq5_1.fq, /home/maikenaegele/Computational Workflow/Sheet 5/files_dir/fastq5_2.fq]]\n"
     ]
    }
   ],
   "source": [
    "# Task 7 - get all filepairs in the \"files_dir\" directory\n",
    "!nextflow run channels_intro.nf --step 7"
   ]
  },
  {
   "cell_type": "markdown",
   "metadata": {},
   "source": [
    "## Now that you have a solid understanding of the basic concepts of channels in Nextflow, it’s time to experiment and see how they work in practice."
   ]
  },
  {
   "cell_type": "markdown",
   "metadata": {},
   "source": [
    "To do so, Nextflow has the concept of Operators to give and pass information inbetween channels.\n",
    "\n",
    "Please answer the questions in $\\texttt{basic\\_channel\\_operations.nf}$ and run the code here. "
   ]
  },
  {
   "cell_type": "code",
   "execution_count": 110,
   "metadata": {},
   "outputs": [
    {
     "name": "stdout",
     "output_type": "stream",
     "text": [
      "\n",
      "\u001b[1m\u001b[38;5;232m\u001b[48;5;43m N E X T F L O W \u001b[0;2m  ~  \u001b[mversion 24.04.4\u001b[m\n",
      "\u001b[K\n",
      "Launching\u001b[35m `basic_channel_operations.nf` \u001b[0;2m[\u001b[0;1;36mcurious_wing\u001b[0;2m] DSL2 - \u001b[36mrevision: \u001b[0;36ma09a4b0142\u001b[m\n",
      "\u001b[K\n",
      "1\n"
     ]
    }
   ],
   "source": [
    "# Task 1 - Extract the first item from the channel\n",
    "!nextflow run basic_channel_operations.nf --step 1"
   ]
  },
  {
   "cell_type": "code",
   "execution_count": 111,
   "metadata": {},
   "outputs": [
    {
     "name": "stdout",
     "output_type": "stream",
     "text": [
      "\n",
      "\u001b[1m\u001b[38;5;232m\u001b[48;5;43m N E X T F L O W \u001b[0;2m  ~  \u001b[mversion 24.04.4\u001b[m\n",
      "\u001b[K\n",
      "Launching\u001b[35m `basic_channel_operations.nf` \u001b[0;2m[\u001b[0;1;36mlonely_hamilton\u001b[0;2m] DSL2 - \u001b[36mrevision: \u001b[0;36ma09a4b0142\u001b[m\n",
      "\u001b[K\n",
      "3\n"
     ]
    }
   ],
   "source": [
    "# Task 2 - Extract the last item from the channel\n",
    "!nextflow run basic_channel_operations.nf --step 2"
   ]
  },
  {
   "cell_type": "code",
   "execution_count": 115,
   "metadata": {},
   "outputs": [
    {
     "name": "stdout",
     "output_type": "stream",
     "text": [
      "\n",
      "\u001b[1m\u001b[38;5;232m\u001b[48;5;43m N E X T F L O W \u001b[0;2m  ~  \u001b[mversion 24.04.4\u001b[m\n",
      "\u001b[K\n",
      "Launching\u001b[35m `basic_channel_operations.nf` \u001b[0;2m[\u001b[0;1;36mtiny_banach\u001b[0;2m] DSL2 - \u001b[36mrevision: \u001b[0;36m67844eea4e\u001b[m\n",
      "\u001b[K\n",
      "1\n",
      "2\n"
     ]
    }
   ],
   "source": [
    "# Task 3 - Use an operator to extract the first two items from the channel\n",
    "!nextflow run basic_channel_operations.nf --step 3"
   ]
  },
  {
   "cell_type": "code",
   "execution_count": 122,
   "metadata": {},
   "outputs": [
    {
     "name": "stdout",
     "output_type": "stream",
     "text": [
      "\n",
      "\u001b[1m\u001b[38;5;232m\u001b[48;5;43m N E X T F L O W \u001b[0;2m  ~  \u001b[mversion 24.04.4\u001b[m\n",
      "\u001b[K\n",
      "Launching\u001b[35m `basic_channel_operations.nf` \u001b[0;2m[\u001b[0;1;36mtrusting_gutenberg\u001b[0;2m] DSL2 - \u001b[36mrevision: \u001b[0;36mee3c4c651a\u001b[m\n",
      "\u001b[K\n",
      "4\n",
      "9\n",
      "16\n"
     ]
    }
   ],
   "source": [
    "# Task 4 - Return the squared values of the channel\n",
    "!nextflow run basic_channel_operations.nf --step 4"
   ]
  },
  {
   "cell_type": "code",
   "execution_count": 123,
   "metadata": {},
   "outputs": [
    {
     "name": "stdout",
     "output_type": "stream",
     "text": [
      "\n",
      "\u001b[1m\u001b[38;5;232m\u001b[48;5;43m N E X T F L O W \u001b[0;2m  ~  \u001b[mversion 24.04.4\u001b[m\n",
      "\u001b[K\n",
      "Launching\u001b[35m `basic_channel_operations.nf` \u001b[0;2m[\u001b[0;1;36mhigh_solvay\u001b[0;2m] DSL2 - \u001b[36mrevision: \u001b[0;36mee3c4c651a\u001b[m\n",
      "\u001b[K\n",
      "4\n",
      "9\n"
     ]
    }
   ],
   "source": [
    "# Task 5 - Remember the previous task where you squared the values of the channel. Now, extract the first two items from the squared channel\n",
    "!nextflow run basic_channel_operations.nf --step 5"
   ]
  },
  {
   "cell_type": "code",
   "execution_count": 124,
   "metadata": {},
   "outputs": [
    {
     "name": "stdout",
     "output_type": "stream",
     "text": [
      "\n",
      "\u001b[1m\u001b[38;5;232m\u001b[48;5;43m N E X T F L O W \u001b[0;2m  ~  \u001b[mversion 24.04.4\u001b[m\n",
      "\u001b[K\n",
      "Launching\u001b[35m `basic_channel_operations.nf` \u001b[0;2m[\u001b[0;1;36msleepy_hoover\u001b[0;2m] DSL2 - \u001b[36mrevision: \u001b[0;36mee3c4c651a\u001b[m\n",
      "\u001b[K\n",
      "rolyaT\n",
      "tfiwS\n"
     ]
    }
   ],
   "source": [
    "# Task 6 - Remember when you used bash to reverse the output? Try to use map and Groovy to reverse the output\n",
    "!nextflow run basic_channel_operations.nf --step 6"
   ]
  },
  {
   "cell_type": "code",
   "execution_count": 125,
   "metadata": {},
   "outputs": [
    {
     "name": "stdout",
     "output_type": "stream",
     "text": [
      "\n",
      "\u001b[1m\u001b[38;5;232m\u001b[48;5;43m N E X T F L O W \u001b[0;2m  ~  \u001b[mversion 24.04.4\u001b[m\n",
      "\u001b[K\n",
      "Launching\u001b[35m `basic_channel_operations.nf` \u001b[0;2m[\u001b[0;1;36mcrazy_kalam\u001b[0;2m] DSL2 - \u001b[36mrevision: \u001b[0;36mee3c4c651a\u001b[m\n",
      "\u001b[K\n",
      "[/home/maikenaegele/Computational Workflow/Sheet 5/files_dir/fastq_1.fq, /home/maikenaegele/Computational Workflow/Sheet 5/files_dir/fastq_1.fq]\n",
      "[/home/maikenaegele/Computational Workflow/Sheet 5/files_dir/SRR5_2.fq, /home/maikenaegele/Computational Workflow/Sheet 5/files_dir/SRR5_2.fq]\n",
      "[/home/maikenaegele/Computational Workflow/Sheet 5/files_dir/SRR5_1.fq, /home/maikenaegele/Computational Workflow/Sheet 5/files_dir/SRR5_1.fq]\n",
      "[/home/maikenaegele/Computational Workflow/Sheet 5/files_dir/fastq4_1.fq, /home/maikenaegele/Computational Workflow/Sheet 5/files_dir/fastq4_1.fq]\n",
      "[/home/maikenaegele/Computational Workflow/Sheet 5/files_dir/fastq4_2.fq, /home/maikenaegele/Computational Workflow/Sheet 5/files_dir/fastq4_2.fq]\n",
      "[/home/maikenaegele/Computational Workflow/Sheet 5/files_dir/SRR2_1.fq, /home/maikenaegele/Computational Workflow/Sheet 5/files_dir/SRR2_1.fq]\n",
      "[/home/maikenaegele/Computational Workflow/Sheet 5/files_dir/SRR3_2.fq, /home/maikenaegele/Computational Workflow/Sheet 5/files_dir/SRR3_2.fq]\n",
      "[/home/maikenaegele/Computational Workflow/Sheet 5/files_dir/SRR1_2.fq, /home/maikenaegele/Computational Workflow/Sheet 5/files_dir/SRR1_2.fq]\n",
      "[/home/maikenaegele/Computational Workflow/Sheet 5/files_dir/fastq5_1.fq, /home/maikenaegele/Computational Workflow/Sheet 5/files_dir/fastq5_1.fq]\n",
      "[/home/maikenaegele/Computational Workflow/Sheet 5/files_dir/fastq1_1.fq, /home/maikenaegele/Computational Workflow/Sheet 5/files_dir/fastq1_1.fq]\n",
      "[/home/maikenaegele/Computational Workflow/Sheet 5/files_dir/fastq2_2.fq, /home/maikenaegele/Computational Workflow/Sheet 5/files_dir/fastq2_2.fq]\n",
      "[/home/maikenaegele/Computational Workflow/Sheet 5/files_dir/SRR4_2.fq, /home/maikenaegele/Computational Workflow/Sheet 5/files_dir/SRR4_2.fq]\n",
      "[/home/maikenaegele/Computational Workflow/Sheet 5/files_dir/fastq2_1.fq, /home/maikenaegele/Computational Workflow/Sheet 5/files_dir/fastq2_1.fq]\n",
      "[/home/maikenaegele/Computational Workflow/Sheet 5/files_dir/fastq3_2.fq, /home/maikenaegele/Computational Workflow/Sheet 5/files_dir/fastq3_2.fq]\n",
      "[/home/maikenaegele/Computational Workflow/Sheet 5/files_dir/SRR3_1.fq, /home/maikenaegele/Computational Workflow/Sheet 5/files_dir/SRR3_1.fq]\n",
      "[/home/maikenaegele/Computational Workflow/Sheet 5/files_dir/fastq.fq, /home/maikenaegele/Computational Workflow/Sheet 5/files_dir/fastq.fq]\n",
      "[/home/maikenaegele/Computational Workflow/Sheet 5/files_dir/fastq1_2.fq, /home/maikenaegele/Computational Workflow/Sheet 5/files_dir/fastq1_2.fq]\n",
      "[/home/maikenaegele/Computational Workflow/Sheet 5/files_dir/SRR2_2.fq, /home/maikenaegele/Computational Workflow/Sheet 5/files_dir/SRR2_2.fq]\n",
      "[/home/maikenaegele/Computational Workflow/Sheet 5/files_dir/SRR4_1.fq, /home/maikenaegele/Computational Workflow/Sheet 5/files_dir/SRR4_1.fq]\n",
      "[/home/maikenaegele/Computational Workflow/Sheet 5/files_dir/SRR.fq, /home/maikenaegele/Computational Workflow/Sheet 5/files_dir/SRR.fq]\n",
      "[/home/maikenaegele/Computational Workflow/Sheet 5/files_dir/fastq3_1.fq, /home/maikenaegele/Computational Workflow/Sheet 5/files_dir/fastq3_1.fq]\n",
      "[/home/maikenaegele/Computational Workflow/Sheet 5/files_dir/SRR1_1.fq, /home/maikenaegele/Computational Workflow/Sheet 5/files_dir/SRR1_1.fq]\n",
      "[/home/maikenaegele/Computational Workflow/Sheet 5/files_dir/fastq_2.fq, /home/maikenaegele/Computational Workflow/Sheet 5/files_dir/fastq_2.fq]\n",
      "[/home/maikenaegele/Computational Workflow/Sheet 5/files_dir/fastq5_2.fq, /home/maikenaegele/Computational Workflow/Sheet 5/files_dir/fastq5_2.fq]\n"
     ]
    }
   ],
   "source": [
    "# Task 7 - Use fromPath to include all fastq files in the \"files_dir\" directory, then use map to return a pair containing the file name and the file path (Hint: include groovy code)\n",
    "!nextflow run basic_channel_operations.nf --step 7"
   ]
  },
  {
   "cell_type": "code",
   "execution_count": 127,
   "metadata": {},
   "outputs": [
    {
     "name": "stdout",
     "output_type": "stream",
     "text": [
      "\n",
      "\u001b[1m\u001b[38;5;232m\u001b[48;5;43m N E X T F L O W \u001b[0;2m  ~  \u001b[mversion 24.04.4\u001b[m\n",
      "\u001b[K\n",
      "Launching\u001b[35m `basic_channel_operations.nf` \u001b[0;2m[\u001b[0;1;36mberserk_dijkstra\u001b[0;2m] DSL2 - \u001b[36mrevision: \u001b[0;36m8caf40c142\u001b[m\n",
      "\u001b[K\n",
      "a\n",
      "1\n",
      "4\n",
      "2\n",
      "b\n",
      "c\n",
      "3\n",
      "5\n",
      "6\n"
     ]
    }
   ],
   "source": [
    "# Task 8 - Combine the items from the two channels into a single channel\n",
    "!nextflow run basic_channel_operations.nf --step 8"
   ]
  },
  {
   "cell_type": "code",
   "execution_count": 128,
   "metadata": {},
   "outputs": [
    {
     "name": "stdout",
     "output_type": "stream",
     "text": [
      "\n",
      "\u001b[1m\u001b[38;5;232m\u001b[48;5;43m N E X T F L O W \u001b[0;2m  ~  \u001b[mversion 24.04.4\u001b[m\n",
      "\u001b[K\n",
      "Launching\u001b[35m `basic_channel_operations.nf` \u001b[0;2m[\u001b[0;1;36mhopeful_cuvier\u001b[0;2m] DSL2 - \u001b[36mrevision: \u001b[0;36m8caf40c142\u001b[m\n",
      "\u001b[K\n",
      "1\n",
      "2\n",
      "3\n",
      "4\n",
      "5\n",
      "6\n"
     ]
    }
   ],
   "source": [
    "# Task 9 - Flatten the list in the channel\n",
    "!nextflow run basic_channel_operations.nf --step 9"
   ]
  },
  {
   "cell_type": "code",
   "execution_count": 129,
   "metadata": {},
   "outputs": [
    {
     "name": "stdout",
     "output_type": "stream",
     "text": [
      "\n",
      "\u001b[1m\u001b[38;5;232m\u001b[48;5;43m N E X T F L O W \u001b[0;2m  ~  \u001b[mversion 24.04.4\u001b[m\n",
      "\u001b[K\n",
      "Launching\u001b[35m `basic_channel_operations.nf` \u001b[0;2m[\u001b[0;1;36mcondescending_lumiere\u001b[0;2m] DSL2 - \u001b[36mrevision: \u001b[0;36m8caf40c142\u001b[m\n",
      "\u001b[K\n",
      "[1, 2, 3]\n"
     ]
    }
   ],
   "source": [
    "# Task 10 - Collect the items of a channel into a list. What kind of channel is the output channel?\n",
    "!nextflow run basic_channel_operations.nf --step 10"
   ]
  },
  {
   "cell_type": "markdown",
   "metadata": {},
   "source": [
    "**What kind of channel is the output channel?**<br>\n",
    "The channel contains one single value (list) containing the items, so it is a value channel."
   ]
  },
  {
   "cell_type": "code",
   "execution_count": 130,
   "metadata": {},
   "outputs": [
    {
     "name": "stdout",
     "output_type": "stream",
     "text": [
      "\n",
      "\u001b[1m\u001b[38;5;232m\u001b[48;5;43m N E X T F L O W \u001b[0;2m  ~  \u001b[mversion 24.04.4\u001b[m\n",
      "\u001b[K\n",
      "Launching\u001b[35m `basic_channel_operations.nf` \u001b[0;2m[\u001b[0;1;36mtiny_pasteur\u001b[0;2m] DSL2 - \u001b[36mrevision: \u001b[0;36m8caf40c142\u001b[m\n",
      "\u001b[K\n",
      "[1, [V, f, B]]\n",
      "[3, [M, G, 33]]\n",
      "[2, [O, L, E]]\n"
     ]
    }
   ],
   "source": [
    "# Task 11 -  From the input channel, create lists where each first item in the list of lists is the first item in the output channel, followed by a list of all the items its paired with\n",
    "!nextflow run basic_channel_operations.nf --step 11"
   ]
  },
  {
   "cell_type": "code",
   "execution_count": 131,
   "metadata": {},
   "outputs": [
    {
     "name": "stdout",
     "output_type": "stream",
     "text": [
      "\n",
      "\u001b[1m\u001b[38;5;232m\u001b[48;5;43m N E X T F L O W \u001b[0;2m  ~  \u001b[mversion 24.04.4\u001b[m\n",
      "\u001b[K\n",
      "Launching\u001b[35m `basic_channel_operations.nf` \u001b[0;2m[\u001b[0;1;36mmighty_keller\u001b[0;2m] DSL2 - \u001b[36mrevision: \u001b[0;36m8caf40c142\u001b[m\n",
      "\u001b[K\n",
      "[1, V, f]\n",
      "[3, M, G]\n",
      "[2, O, L]\n"
     ]
    }
   ],
   "source": [
    "# Task 12 - Create a channel that joins the input to the output channel. What do you notice?\n",
    "!nextflow run basic_channel_operations.nf --step 12"
   ]
  },
  {
   "cell_type": "markdown",
   "metadata": {},
   "source": [
    "**Task 12 - What do you notice compared to Task 11?**\n",
    "It only pairs the first matching element from both channels."
   ]
  },
  {
   "cell_type": "code",
   "execution_count": 135,
   "metadata": {},
   "outputs": [
    {
     "name": "stdout",
     "output_type": "stream",
     "text": [
      "\n",
      "\u001b[1m\u001b[38;5;232m\u001b[48;5;43m N E X T F L O W \u001b[0;2m  ~  \u001b[mversion 24.04.4\u001b[m\n",
      "\u001b[K\n",
      "Launching\u001b[35m `basic_channel_operations.nf` \u001b[0;2m[\u001b[0;1;36mvoluminous_feynman\u001b[0;2m] DSL2 - \u001b[36mrevision: \u001b[0;36ma912133559\u001b[m\n",
      "\u001b[K\n",
      "[DUMP: odd] [1, 3, 5, 7, 9]\n",
      "[DUMP: even] [2, 4, 6, 8, 10]\n"
     ]
    }
   ],
   "source": [
    "# Task 13 - Split the input channel into two channels, one of all the even numbers and the other of all the odd numbers.\n",
    "#           Write them to stdout including information about which is which\n",
    "!nextflow run basic_channel_operations.nf --step 13 -dump-channels"
   ]
  },
  {
   "cell_type": "code",
   "execution_count": 136,
   "metadata": {},
   "outputs": [
    {
     "name": "stdout",
     "output_type": "stream",
     "text": [
      "\n",
      "\u001b[1m\u001b[38;5;232m\u001b[48;5;43m N E X T F L O W \u001b[0;2m  ~  \u001b[mversion 24.04.4\u001b[m\n",
      "\u001b[K\n",
      "Launching\u001b[35m `basic_channel_operations.nf` \u001b[0;2m[\u001b[0;1;36mtender_church\u001b[0;2m] DSL2 - \u001b[36mrevision: \u001b[0;36ma912133559\u001b[m\n",
      "\u001b[K\n",
      "results/names.txt\n",
      "Snape\n",
      "Albus\n",
      "Ron\n",
      "Hagrid\n",
      "Dobby\n",
      "Hermione\n",
      "Harry\n"
     ]
    }
   ],
   "source": [
    "# Task 14 - Nextflow has the concept of maps. Write the names in the maps in this channel to a file called \"names.txt\". Each name should be on a new line. \n",
    "#           Store the file in the \"results\" directory under the name \"names.txt\"\n",
    "\n",
    "!nextflow run basic_channel_operations.nf --step 14\n",
    "\n",
    "!cat results/names.txt\n"
   ]
  },
  {
   "cell_type": "markdown",
   "metadata": {},
   "source": [
    "## Now that we learned about Channels and Operators to deal with them, let's focus on Processes that make use of these channels."
   ]
  },
  {
   "cell_type": "markdown",
   "metadata": {},
   "source": [
    "Please answer the questions in $\\texttt{basics\\_processes.nf}$ and run the code here. "
   ]
  },
  {
   "cell_type": "code",
   "execution_count": 75,
   "metadata": {},
   "outputs": [
    {
     "name": "stdout",
     "output_type": "stream",
     "text": [
      "\n",
      "\u001b[1m\u001b[38;5;232m\u001b[48;5;43m N E X T F L O W \u001b[0;2m  ~  \u001b[mversion 24.04.4\u001b[m\n",
      "\u001b[K\n",
      "Launching\u001b[35m `basics_processes.nf` \u001b[0;2m[\u001b[0;1;36msmall_solvay\u001b[0;2m] DSL2 - \u001b[36mrevision: \u001b[0;36mfc006e6e6b\u001b[m\n",
      "\u001b[K\n",
      "\u001b[2m[\u001b[0;34m-        \u001b[0;2m] \u001b[0;2m\u001b[mSAYHELLO -\u001b[K\n",
      "\u001b[2A\n",
      "\u001b[2m[\u001b[0;34m-        \u001b[0;2m] \u001b[0;2m\u001b[mSAYHELLO\u001b[2m |\u001b[m 0 of 1\u001b[K\n",
      "\u001b[2A\n",
      "\u001b[2mexecutor >  local (1)\u001b[m\u001b[K\n",
      "\u001b[2m[\u001b[0;34mab/112ae1\u001b[0;2m] \u001b[0;2m\u001b[mSAYHELLO\u001b[2m |\u001b[m 1 of 1\u001b[32m ✔\u001b[m\u001b[K\n",
      "Hello World!\u001b[K\n",
      "\u001b[K\n",
      "\u001b[5A\n",
      "\u001b[2mexecutor >  local (1)\u001b[m\u001b[K\n",
      "\u001b[2m[\u001b[0;34mab/112ae1\u001b[0;2m] \u001b[0;2m\u001b[mSAYHELLO\u001b[2m |\u001b[m 1 of 1\u001b[32m ✔\u001b[m\u001b[K\n",
      "Hello World!\u001b[K\n",
      "\u001b[K\n",
      "\n"
     ]
    }
   ],
   "source": [
    "# Task 1 - create a process that says Hello World! (add debug true to the process right after initializing to be sable to print the output to the console)\n",
    "!nextflow run basics_processes.nf --step 1"
   ]
  },
  {
   "cell_type": "code",
   "execution_count": 76,
   "metadata": {},
   "outputs": [
    {
     "name": "stdout",
     "output_type": "stream",
     "text": [
      "\n",
      "\u001b[1m\u001b[38;5;232m\u001b[48;5;43m N E X T F L O W \u001b[0;2m  ~  \u001b[mversion 24.04.4\u001b[m\n",
      "\u001b[K\n",
      "Launching\u001b[35m `basics_processes.nf` \u001b[0;2m[\u001b[0;1;36madmiring_bell\u001b[0;2m] DSL2 - \u001b[36mrevision: \u001b[0;36mfc006e6e6b\u001b[m\n",
      "\u001b[K\n",
      "\u001b[2m[\u001b[0;34m-        \u001b[0;2m] \u001b[0;2m\u001b[mSAYHELLO_PYTHON -\u001b[K\n",
      "\u001b[2A\n",
      "\u001b[2m[\u001b[0;34m-        \u001b[0;2m] \u001b[0;2m\u001b[mSAYHELLO_PYTHON\u001b[2m |\u001b[m 0 of 1\u001b[K\n",
      "\u001b[2A\n",
      "\u001b[2mexecutor >  local (1)\u001b[m\u001b[K\n",
      "\u001b[2m[\u001b[0;34m33/f262a7\u001b[0;2m] \u001b[0;2m\u001b[mSAYHELLO_PYTHON\u001b[2m |\u001b[m 1 of 1\u001b[32m ✔\u001b[m\u001b[K\n",
      "Hello World!\u001b[K\n",
      "\u001b[K\n",
      "\u001b[5A\n",
      "\u001b[2mexecutor >  local (1)\u001b[m\u001b[K\n",
      "\u001b[2m[\u001b[0;34m33/f262a7\u001b[0;2m] \u001b[0;2m\u001b[mSAYHELLO_PYTHON\u001b[2m |\u001b[m 1 of 1\u001b[32m ✔\u001b[m\u001b[K\n",
      "Hello World!\u001b[K\n",
      "\u001b[K\n",
      "\n"
     ]
    }
   ],
   "source": [
    "# Task 2 - create a process that says Hello World! using Python\n",
    "!nextflow run basics_processes.nf --step 2"
   ]
  },
  {
   "cell_type": "code",
   "execution_count": 102,
   "metadata": {},
   "outputs": [
    {
     "name": "stdout",
     "output_type": "stream",
     "text": [
      "\n",
      "\u001b[1m\u001b[38;5;232m\u001b[48;5;43m N E X T F L O W \u001b[0;2m  ~  \u001b[mversion 24.04.4\u001b[m\n",
      "\u001b[K\n",
      "Launching\u001b[35m `basics_processes.nf` \u001b[0;2m[\u001b[0;1;36mintergalactic_maxwell\u001b[0;2m] DSL2 - \u001b[36mrevision: \u001b[0;36m1bd548457d\u001b[m\n",
      "\u001b[K\n",
      "\u001b[2m[\u001b[0;34m-        \u001b[0;2m] \u001b[0;2m\u001b[mSAYHELLO_PARAM -\u001b[K\n",
      "\u001b[2A\n",
      "\u001b[2m[\u001b[0;34m-        \u001b[0;2m] \u001b[0;2m\u001b[mSAYHELLO_PARAM\u001b[2m |\u001b[m 0 of 1\u001b[K\n",
      "\u001b[2A\n",
      "\u001b[2mexecutor >  local (1)\u001b[m\u001b[K\n",
      "\u001b[2m[\u001b[0;34m0e/f1a8a5\u001b[0;2m] \u001b[0;2m\u001b[mSAYHELLO_PARAM\u001b[33;2m (\u001b[0;33m1\u001b[2m)\u001b[m\u001b[2m |\u001b[m 1 of 1\u001b[32m ✔\u001b[m\u001b[K\n",
      "Hello world! // Print the greeting to the command line\u001b[K\n",
      "\u001b[K\n",
      "\n"
     ]
    }
   ],
   "source": [
    "# Task 3 - create a process that reads in the string \"Hello world!\" from a channel and write it to command line\n",
    "!nextflow run basics_processes.nf --step 3"
   ]
  },
  {
   "cell_type": "code",
   "execution_count": 104,
   "metadata": {},
   "outputs": [
    {
     "name": "stdout",
     "output_type": "stream",
     "text": [
      "\n",
      "\u001b[1m\u001b[38;5;232m\u001b[48;5;43m N E X T F L O W \u001b[0;2m  ~  \u001b[mversion 24.04.4\u001b[m\n",
      "\u001b[K\n",
      "Launching\u001b[35m `basics_processes.nf` \u001b[0;2m[\u001b[0;1;36mdistracted_meitner\u001b[0;2m] DSL2 - \u001b[36mrevision: \u001b[0;36m425ff9eef9\u001b[m\n",
      "\u001b[K\n",
      "\u001b[2m[\u001b[0;34m-        \u001b[0;2m] \u001b[0;2m\u001b[mSAYHELLO_FILE -\u001b[K\n",
      "\u001b[2A\n",
      "\u001b[2mexecutor >  local (1)\u001b[m\u001b[K\n",
      "\u001b[2m[\u001b[0;34m66/7c680f\u001b[0;2m] \u001b[0;2m\u001b[mSAYHELLO_FILE\u001b[33;2m (\u001b[0;33m1\u001b[2m)\u001b[m\u001b[2m |\u001b[m 0 of 1\u001b[K\n",
      "\u001b[3A\n",
      "\u001b[2mexecutor >  local (1)\u001b[m\u001b[K\n",
      "\u001b[2m[\u001b[0;34m66/7c680f\u001b[0;2m] \u001b[0;2m\u001b[mSAYHELLO_FILE\u001b[33;2m (\u001b[0;33m1\u001b[2m)\u001b[m\u001b[2m |\u001b[m 1 of 1\u001b[32m ✔\u001b[m\u001b[K\n",
      "\n"
     ]
    }
   ],
   "source": [
    "# Task 4 - create a process that reads in the string \"Hello world!\" from a channel and write it to a file. \n",
    "!nextflow run basics_processes.nf --step 4"
   ]
  },
  {
   "cell_type": "markdown",
   "metadata": {},
   "source": [
    "It might be that you created the file but it doesnt appear in the directory. Use the work folder and the output on the command line to find the file."
   ]
  },
  {
   "cell_type": "code",
   "execution_count": 105,
   "metadata": {},
   "outputs": [
    {
     "name": "stdout",
     "output_type": "stream",
     "text": [
      "\n",
      "\u001b[1m\u001b[38;5;232m\u001b[48;5;43m N E X T F L O W \u001b[0;2m  ~  \u001b[mversion 24.04.4\u001b[m\n",
      "\u001b[K\n",
      "Launching\u001b[35m `basics_processes.nf` \u001b[0;2m[\u001b[0;1;36mcompassionate_bell\u001b[0;2m] DSL2 - \u001b[36mrevision: \u001b[0;36m425ff9eef9\u001b[m\n",
      "\u001b[K\n",
      "\u001b[2m[\u001b[0;34m-        \u001b[0;2m] \u001b[0;2m\u001b[mUPPERCASE -\u001b[K\n",
      "\u001b[2A\n",
      "\u001b[2mexecutor >  local (1)\u001b[m\u001b[K\n",
      "\u001b[2m[\u001b[0;34m81/681257\u001b[0;2m] \u001b[0;2m\u001b[mUPPERCASE\u001b[33;2m (\u001b[0;33m1\u001b[2m)\u001b[m\u001b[2m |\u001b[m 0 of 1\u001b[K\n",
      "\u001b[3A\n",
      "\u001b[2mexecutor >  local (1)\u001b[m\u001b[K\n",
      "\u001b[2m[\u001b[0;34m81/681257\u001b[0;2m] \u001b[0;2m\u001b[mUPPERCASE\u001b[33;2m (\u001b[0;33m1\u001b[2m)\u001b[m\u001b[2m |\u001b[m 1 of 1\u001b[32m ✔\u001b[m\u001b[K\n",
      "/home/maikenaegele/Computational Workflow/Sheet 5/work/81/681257808010f6789328ca0904cf01/uppercase_greeting.txt\u001b[K\n",
      "\n"
     ]
    }
   ],
   "source": [
    "# Task 5 - create a process that reads in a string and converts it to uppercase and saves it to a file as output.\n",
    "# View the path to the file in the console\n",
    "!nextflow run basics_processes.nf --step 5\n"
   ]
  },
  {
   "cell_type": "code",
   "execution_count": 200,
   "metadata": {},
   "outputs": [
    {
     "name": "stdout",
     "output_type": "stream",
     "text": [
      "\n",
      "\u001b[1m\u001b[38;5;232m\u001b[48;5;43m N E X T F L O W \u001b[0;2m  ~  \u001b[mversion 24.04.4\u001b[m\n",
      "\u001b[K\n",
      "Launching\u001b[35m `basics_processes.nf` \u001b[0;2m[\u001b[0;1;36mwise_meitner\u001b[0;2m] DSL2 - \u001b[36mrevision: \u001b[0;36mf680e346d6\u001b[m\n",
      "\u001b[K\n",
      "\u001b[2m[\u001b[0;34m-        \u001b[0;2m] \u001b[0;2m\u001b[mUPPERCASE  -\u001b[K\n",
      "\u001b[2m[\u001b[0;34m-        \u001b[0;2m] \u001b[0;2m\u001b[mPRINTUPPER -\u001b[K\n",
      "\u001b[3A\n",
      "\u001b[2m[\u001b[0;34m-        \u001b[0;2m] \u001b[0;2m\u001b[mUPPERCASE \u001b[2m |\u001b[m 0 of 1\u001b[K\n",
      "\u001b[2m[\u001b[0;34m-        \u001b[0;2m] \u001b[0;2m\u001b[mPRINTUPPER -\u001b[K\n",
      "\u001b[3A\n",
      "\u001b[2mexecutor >  local (2)\u001b[m\u001b[K\n",
      "\u001b[2m[\u001b[0;34m56/e2f646\u001b[0;2m] \u001b[0;2m\u001b[mUPPERCASE\u001b[33;2m (\u001b[0;33m1\u001b[2m)\u001b[m \u001b[2m |\u001b[m 1 of 1\u001b[32m ✔\u001b[m\u001b[K\n",
      "\u001b[2m[\u001b[0;34mc3/130d99\u001b[0;2m] \u001b[0;2m\u001b[mPRINTUPPER\u001b[33;2m (\u001b[0;33m1\u001b[2m)\u001b[m\u001b[2m |\u001b[m 0 of 1\u001b[32m ✔\u001b[m\u001b[K\n",
      "HELLO WORLD!\u001b[K\n",
      "\u001b[K\n",
      "\u001b[6A\n",
      "\u001b[2mexecutor >  local (2)\u001b[m\u001b[K\n",
      "\u001b[2m[\u001b[0;34m56/e2f646\u001b[0;2m] \u001b[0;2m\u001b[mUPPERCASE\u001b[33;2m (\u001b[0;33m1\u001b[2m)\u001b[m \u001b[2m |\u001b[m 1 of 1\u001b[32m ✔\u001b[m\u001b[K\n",
      "\u001b[2m[\u001b[0;34mc3/130d99\u001b[0;2m] \u001b[0;2m\u001b[mPRINTUPPER\u001b[33;2m (\u001b[0;33m1\u001b[2m)\u001b[m\u001b[2m |\u001b[m 1 of 1\u001b[32m ✔\u001b[m\u001b[K\n",
      "HELLO WORLD!\u001b[K\n",
      "\u001b[K\n",
      "\n"
     ]
    }
   ],
   "source": [
    "# Task 6 - add another process that reads in the resulting file from UPPERCASE and print the content to the console (debug true).\n",
    "!nextflow run basics_processes.nf --step 6"
   ]
  },
  {
   "cell_type": "markdown",
   "metadata": {},
   "source": [
    "Comared to all the other runs. What changed in the output here and why?"
   ]
  },
  {
   "cell_type": "code",
   "execution_count": 204,
   "metadata": {},
   "outputs": [
    {
     "name": "stdout",
     "output_type": "stream",
     "text": [
      "\n",
      "\u001b[1m\u001b[38;5;232m\u001b[48;5;43m N E X T F L O W \u001b[0;2m  ~  \u001b[mversion 24.04.4\u001b[m\n",
      "\u001b[K\n",
      "Launching\u001b[35m `basics_processes.nf` \u001b[0;2m[\u001b[0;1;36mmad_kare\u001b[0;2m] DSL2 - \u001b[36mrevision: \u001b[0;36md15c5899e2\u001b[m\n",
      "\u001b[K\n",
      "\u001b[2m[\u001b[0;34m-        \u001b[0;2m] \u001b[0;2m\u001b[mUPPERCASE         -\u001b[K\n",
      "\u001b[2m[\u001b[0;34m-        \u001b[0;2m] \u001b[0;2m\u001b[mZIPFILE_PARAMETER -\u001b[K\n",
      "\u001b[3A\n",
      "\u001b[2mexecutor >  local (1)\u001b[m\u001b[K\n",
      "\u001b[2m[\u001b[0;34mb3/76b4dd\u001b[0;2m] \u001b[0;2m\u001b[mUPPERCASE\u001b[33;2m (\u001b[0;33m1\u001b[2m)\u001b[m    \u001b[2m |\u001b[m 0 of 1\u001b[K\n",
      "\u001b[2m[\u001b[0;34m-        \u001b[0;2m] \u001b[0;2m\u001b[mZIPFILE_PARAMETER -\u001b[K\n",
      "\u001b[4A\n",
      "\u001b[2mexecutor >  local (2)\u001b[m\u001b[K\n",
      "\u001b[2m[\u001b[0;34mb3/76b4dd\u001b[0;2m] \u001b[0;2m\u001b[mUPPERCASE\u001b[33;2m (\u001b[0;33m1\u001b[2m)\u001b[m        \u001b[2m |\u001b[m 1 of 1\u001b[32m ✔\u001b[m\u001b[K\n",
      "\u001b[2m[\u001b[0;34mf1/647285\u001b[0;2m] \u001b[0;2m\u001b[mZIPFILE_PARAMETER\u001b[33;2m (\u001b[0;33m1\u001b[2m)\u001b[m\u001b[2m |\u001b[m 1 of 1\u001b[32m ✔\u001b[m\u001b[K\n",
      "/home/maikenaegele/Computational Workflow/Sheet 5/work/f1/64728577f6404c1f2fd9abd09cd9c2/uppercase_greeting.txt.bz2\u001b[K\n",
      "\u001b[5A\n",
      "\u001b[2mexecutor >  local (2)\u001b[m\u001b[K\n",
      "\u001b[2m[\u001b[0;34mb3/76b4dd\u001b[0;2m] \u001b[0;2m\u001b[mUPPERCASE\u001b[33;2m (\u001b[0;33m1\u001b[2m)\u001b[m        \u001b[2m |\u001b[m 1 of 1\u001b[32m ✔\u001b[m\u001b[K\n",
      "\u001b[2m[\u001b[0;34mf1/647285\u001b[0;2m] \u001b[0;2m\u001b[mZIPFILE_PARAMETER\u001b[33;2m (\u001b[0;33m1\u001b[2m)\u001b[m\u001b[2m |\u001b[m 1 of 1\u001b[32m ✔\u001b[m\u001b[K\n",
      "/home/maikenaegele/Computational Workflow/Sheet 5/work/f1/64728577f6404c1f2fd9abd09cd9c2/uppercase_greeting.txt.bz2\u001b[K\n",
      "\n"
     ]
    }
   ],
   "source": [
    "# Task 7 - based on the paramater \"zip\" (see at the head of the file), create a process that zips the file created in the UPPERCASE process either in \"zip\", \"gzip\" OR \"bzip2\" format.\n",
    "#          Print out the path to the zipped file in the console\n",
    "!nextflow run basics_processes.nf --step 7"
   ]
  },
  {
   "cell_type": "code",
   "execution_count": 210,
   "metadata": {},
   "outputs": [
    {
     "name": "stdout",
     "output_type": "stream",
     "text": [
      "\n",
      "\u001b[1m\u001b[38;5;232m\u001b[48;5;43m N E X T F L O W \u001b[0;2m  ~  \u001b[mversion 24.04.4\u001b[m\n",
      "\u001b[K\n",
      "Launching\u001b[35m `basics_processes.nf` \u001b[0;2m[\u001b[0;1;36minsane_yonath\u001b[0;2m] DSL2 - \u001b[36mrevision: \u001b[0;36mb94c6d19f1\u001b[m\n",
      "\u001b[K\n",
      "\u001b[2m[\u001b[0;34m-        \u001b[0;2m] \u001b[0;2m\u001b[mUPPERCASE -\u001b[K\n",
      "\u001b[2m[\u001b[0;34m-        \u001b[0;2m] \u001b[0;2m\u001b[mZIPFILE   -\u001b[K\n",
      "\u001b[3A\n",
      "\u001b[2mexecutor >  local (1)\u001b[m\u001b[K\n",
      "\u001b[2m[\u001b[0;34m0a/e129e7\u001b[0;2m] \u001b[0;2m\u001b[mUPPERCASE\u001b[33;2m (\u001b[0;33m1\u001b[2m)\u001b[m\u001b[2m |\u001b[m 0 of 1\u001b[32m ✔\u001b[m\u001b[K\n",
      "\u001b[2m[\u001b[0;34m-        \u001b[0;2m] \u001b[0;2m\u001b[mZIPFILE       -\u001b[K\n",
      "\u001b[4A\n",
      "\u001b[2mexecutor >  local (2)\u001b[m\u001b[K\n",
      "\u001b[2m[\u001b[0;34m0a/e129e7\u001b[0;2m] \u001b[0;2m\u001b[mUPPERCASE\u001b[33;2m (\u001b[0;33m1\u001b[2m)\u001b[m\u001b[2m |\u001b[m 1 of 1\u001b[32m ✔\u001b[m\u001b[K\n",
      "\u001b[2m[\u001b[0;34mc4/f3077d\u001b[0;2m] \u001b[0;2m\u001b[mZIPFILE\u001b[33;2m (\u001b[0;33m1\u001b[2m)\u001b[m  \u001b[2m |\u001b[m 1 of 1\u001b[32m ✔\u001b[m\u001b[K\n",
      "[/home/maikenaegele/Computational Workflow/Sheet 5/work/c4/f3077d2e83933d576d6f4afe708c88/uppercase_greeting.txt.bz2, /home/maikenaegele/Computational Workflow/Sheet 5/work/c4/f3077d2e83933d576d6f4afe708c88/uppercase_greeting.txt.gz, /home/maikenaegele/Computational Workflow/Sheet 5/work/c4/f3077d2e83933d576d6f4afe708c88/uppercase_greeting.txt.zip]\u001b[K\n",
      "\u001b[5A\n",
      "\u001b[2mexecutor >  local (2)\u001b[m\u001b[K\n",
      "\u001b[2m[\u001b[0;34m0a/e129e7\u001b[0;2m] \u001b[0;2m\u001b[mUPPERCASE\u001b[33;2m (\u001b[0;33m1\u001b[2m)\u001b[m\u001b[2m |\u001b[m 1 of 1\u001b[32m ✔\u001b[m\u001b[K\n",
      "\u001b[2m[\u001b[0;34mc4/f3077d\u001b[0;2m] \u001b[0;2m\u001b[mZIPFILE\u001b[33;2m (\u001b[0;33m1\u001b[2m)\u001b[m  \u001b[2m |\u001b[m 1 of 1\u001b[32m ✔\u001b[m\u001b[K\n",
      "[/home/maikenaegele/Computational Workflow/Sheet 5/work/c4/f3077d2e83933d576d6f4afe708c88/uppercase_greeting.txt.bz2, /home/maikenaegele/Computational Workflow/Sheet 5/work/c4/f3077d2e83933d576d6f4afe708c88/uppercase_greeting.txt.gz, /home/maikenaegele/Computational Workflow/Sheet 5/work/c4/f3077d2e83933d576d6f4afe708c88/uppercase_greeting.txt.zip]\u001b[K\n",
      "\n"
     ]
    }
   ],
   "source": [
    "# Task 8 - Create a process that zips the file created in the UPPERCASE process in \"zip\", \"gzip\" AND \"bzip2\" format. Print out the paths to the zipped files in the console\n",
    "!nextflow run basics_processes.nf --step 8"
   ]
  },
  {
   "cell_type": "code",
   "execution_count": 218,
   "metadata": {},
   "outputs": [
    {
     "name": "stdout",
     "output_type": "stream",
     "text": [
      "\n",
      "\u001b[1m\u001b[38;5;232m\u001b[48;5;43m N E X T F L O W \u001b[0;2m  ~  \u001b[mversion 24.04.4\u001b[m\n",
      "\u001b[K\n",
      "Launching\u001b[35m `basics_processes.nf` \u001b[0;2m[\u001b[0;1;36mnauseous_stone\u001b[0;2m] DSL2 - \u001b[36mrevision: \u001b[0;36mf46888aab8\u001b[m\n",
      "\u001b[K\n",
      "\u001b[2m[\u001b[0;34m-        \u001b[0;2m] \u001b[0;2m\u001b[mWRITETOFILE -\u001b[K\n",
      "\u001b[2A\n",
      "\u001b[2m[\u001b[0;34m-        \u001b[0;2m] \u001b[0;2m\u001b[mWRITETOFILE\u001b[2m |\u001b[m 0 of 7\u001b[K\n",
      "\u001b[2A\n",
      "\u001b[2mexecutor >  local (7)\u001b[m\u001b[K\n",
      "\u001b[2m[\u001b[0;34mbc/99b7f7\u001b[0;2m] \u001b[0;2m\u001b[mWRITETOFILE\u001b[33;2m (\u001b[0;33m2\u001b[2m)\u001b[m\u001b[2m |\u001b[m 7 of 7\u001b[32m ✔\u001b[m\u001b[K\n",
      "\u001b[3A\n",
      "\u001b[2mexecutor >  local (7)\u001b[m\u001b[K\n",
      "\u001b[2m[\u001b[0;34mbc/99b7f7\u001b[0;2m] \u001b[0;2m\u001b[mWRITETOFILE\u001b[33;2m (\u001b[0;33m2\u001b[2m)\u001b[m\u001b[2m |\u001b[m 7 of 7\u001b[32m ✔\u001b[m\u001b[K\n",
      "results/names.tsv\u001b[K\n",
      "\u001b[4A\n",
      "\u001b[2mexecutor >  local (7)\u001b[m\u001b[K\n",
      "\u001b[2m[\u001b[0;34mbc/99b7f7\u001b[0;2m] \u001b[0;2m\u001b[mWRITETOFILE\u001b[33;2m (\u001b[0;33m2\u001b[2m)\u001b[m\u001b[2m |\u001b[m 7 of 7\u001b[32m ✔\u001b[m\u001b[K\n",
      "results/names.tsv\u001b[K\n",
      "\n"
     ]
    }
   ],
   "source": [
    " # Task 9 - Create a process that reads in a list of names and titles from a channel and writes them to a file.\n",
    "#           Store the file in the \"results\" directory under the name \"names.tsv\"\n",
    "!nextflow run basics_processes.nf --step 9"
   ]
  },
  {
   "cell_type": "code",
   "execution_count": null,
   "metadata": {},
   "outputs": [],
   "source": [
    "import pandas as pd\n",
    "\n",
    "df = pd.read_csv(\"results/names.tsv\", sep=\"\\t\")\n",
    "df"
   ]
  },
  {
   "cell_type": "markdown",
   "metadata": {},
   "source": [
    "## Now, let's try some more advanced Operators"
   ]
  },
  {
   "cell_type": "markdown",
   "metadata": {},
   "source": [
    "Please answer the questions in $\\texttt{advanced\\_channel\\_operations.nf}$ and run the code here. "
   ]
  },
  {
   "cell_type": "markdown",
   "metadata": {},
   "source": [
    "To come closer to actual pipelines, we introduce the concept of \"meta-maps\" which you can imagine as dictionaries that are passed with data via channels containing crucial metadata on the sample. \n",
    "\n",
    "Also, we will come back to samplesheets which you should remember from last week."
   ]
  },
  {
   "cell_type": "code",
   "execution_count": 62,
   "metadata": {},
   "outputs": [
    {
     "name": "stdout",
     "output_type": "stream",
     "text": [
      "\n",
      "\u001b[1m\u001b[38;5;232m\u001b[48;5;43m N E X T F L O W \u001b[0;2m  ~  \u001b[mversion 24.04.4\u001b[m\n",
      "\u001b[K\n",
      "Launching\u001b[35m `advanced_channel_operations.nf` \u001b[0;2m[\u001b[0;1;36mfervent_curry\u001b[0;2m] DSL2 - \u001b[36mrevision: \u001b[0;36mab03679917\u001b[m\n",
      "\u001b[K\n",
      "[sample:CONTROL_REP1, fastq_1:fq_1_R1.fastq.gz, fastq_2:fq_1_R2.fastq.gz, strandedness:auto]\n",
      "[sample:CONTROL_REP2, fastq_1:fq_2_R1.fastq.gz, fastq_2:fq_2_R2.fastq.gz, strandedness:forward]\n",
      "[sample:CONTROL_REP3, fastq_1:fq_3_R1.fastq.gz, fastq_2:fq_3_R2.fastq.gz, strandedness:reverse]\n",
      "[sample:CONTROL_REP1, fastq_1:fq_4_R1.fastq.gz, fastq_2:fq_4_R2.fastq.gz, strandedness:auto]\n"
     ]
    }
   ],
   "source": [
    "# Task 1 - Read in the samplesheet.\n",
    "\n",
    "!nextflow run advanced_channel_operations.nf --step 1"
   ]
  },
  {
   "cell_type": "code",
   "execution_count": 63,
   "metadata": {},
   "outputs": [
    {
     "name": "stdout",
     "output_type": "stream",
     "text": [
      "\n",
      "\u001b[1m\u001b[38;5;232m\u001b[48;5;43m N E X T F L O W \u001b[0;2m  ~  \u001b[mversion 24.04.4\u001b[m\n",
      "\u001b[K\n",
      "Launching\u001b[35m `advanced_channel_operations.nf` \u001b[0;2m[\u001b[0;1;36mextravagant_fourier\u001b[0;2m] DSL2 - \u001b[36mrevision: \u001b[0;36mab03679917\u001b[m\n",
      "\u001b[K\n",
      "[[sample:CONTROL_REP1, strandedness:auto], [/home/maikenaegele/Computational Workflow/Sheet 5/fq_1_R1.fastq.gz, /home/maikenaegele/Computational Workflow/Sheet 5/fq_1_R2.fastq.gz]]\n",
      "[[sample:CONTROL_REP2, strandedness:forward], [/home/maikenaegele/Computational Workflow/Sheet 5/fq_2_R1.fastq.gz, /home/maikenaegele/Computational Workflow/Sheet 5/fq_2_R2.fastq.gz]]\n",
      "[[sample:CONTROL_REP3, strandedness:reverse], [/home/maikenaegele/Computational Workflow/Sheet 5/fq_3_R1.fastq.gz, /home/maikenaegele/Computational Workflow/Sheet 5/fq_3_R2.fastq.gz]]\n",
      "[[sample:CONTROL_REP1, strandedness:auto], [/home/maikenaegele/Computational Workflow/Sheet 5/fq_4_R1.fastq.gz, /home/maikenaegele/Computational Workflow/Sheet 5/fq_4_R2.fastq.gz]]\n"
     ]
    }
   ],
   "source": [
    "# Task 2 - Read in the samplesheet and create a meta-map with all metadata and another list with the filenames ([[metadata_1 : metadata_1, ...], [fastq_1, fastq_2]]).\n",
    "#          Set the output to a new channel \"in_ch\" and view the channel. YOU WILL NEED TO COPY AND PASTE THIS CODE INTO SOME OF THE FOLLOWING TASKS (sorry for that).\n",
    "\n",
    "!nextflow run advanced_channel_operations.nf --step 2"
   ]
  },
  {
   "cell_type": "code",
   "execution_count": 64,
   "metadata": {},
   "outputs": [
    {
     "name": "stdout",
     "output_type": "stream",
     "text": [
      "\n",
      "\u001b[1m\u001b[38;5;232m\u001b[48;5;43m N E X T F L O W \u001b[0;2m  ~  \u001b[mversion 24.04.4\u001b[m\n",
      "\u001b[K\n",
      "Launching\u001b[35m `advanced_channel_operations.nf` \u001b[0;2m[\u001b[0;1;36mhopeful_thompson\u001b[0;2m] DSL2 - \u001b[36mrevision: \u001b[0;36m4e8630378b\u001b[m\n",
      "\u001b[K\n",
      "[DUMP: auto] [['sample':'CONTROL_REP1', 'strandedness':'auto'], [/home/maikenaegele/Computational Workflow/Sheet 5/fq_1_R1.fastq.gz, /home/maikenaegele/Computational Workflow/Sheet 5/fq_1_R2.fastq.gz]]\n",
      "[DUMP: reverse] [['sample':'CONTROL_REP3', 'strandedness':'reverse'], [/home/maikenaegele/Computational Workflow/Sheet 5/fq_3_R1.fastq.gz, /home/maikenaegele/Computational Workflow/Sheet 5/fq_3_R2.fastq.gz]]\n",
      "[DUMP: forward] [['sample':'CONTROL_REP2', 'strandedness':'forward'], [/home/maikenaegele/Computational Workflow/Sheet 5/fq_2_R1.fastq.gz, /home/maikenaegele/Computational Workflow/Sheet 5/fq_2_R2.fastq.gz]]\n",
      "[DUMP: auto] [['sample':'CONTROL_REP1', 'strandedness':'auto'], [/home/maikenaegele/Computational Workflow/Sheet 5/fq_4_R1.fastq.gz, /home/maikenaegele/Computational Workflow/Sheet 5/fq_4_R2.fastq.gz]]\n"
     ]
    }
   ],
   "source": [
    "# Task 3 - Now we assume that we want to handle different \"strandedness\" values differently. \n",
    "#          Split the channel into the right amount of channels and write them all to stdout so that we can understand which is which.\n",
    "\n",
    "!nextflow run advanced_channel_operations.nf --step 3 -dump-channels"
   ]
  },
  {
   "cell_type": "code",
   "execution_count": 75,
   "metadata": {},
   "outputs": [
    {
     "name": "stdout",
     "output_type": "stream",
     "text": [
      "\n",
      "\u001b[1m\u001b[38;5;232m\u001b[48;5;43m N E X T F L O W \u001b[0;2m  ~  \u001b[mversion 24.04.4\u001b[m\n",
      "\u001b[K\n",
      "Launching\u001b[35m `advanced_channel_operations.nf` \u001b[0;2m[\u001b[0;1;36melegant_ritchie\u001b[0;2m] DSL2 - \u001b[36mrevision: \u001b[0;36mae2e7e9464\u001b[m\n",
      "\u001b[K\n",
      "[[sample:CONTROL_REP1, strandedness:auto], [[/home/maikenaegele/Computational Workflow/Sheet 5/fq_1_R1.fastq.gz, /home/maikenaegele/Computational Workflow/Sheet 5/fq_1_R2.fastq.gz], [/home/maikenaegele/Computational Workflow/Sheet 5/fq_4_R1.fastq.gz, /home/maikenaegele/Computational Workflow/Sheet 5/fq_4_R2.fastq.gz]]]\n",
      "[[sample:CONTROL_REP2, strandedness:forward], [[/home/maikenaegele/Computational Workflow/Sheet 5/fq_2_R1.fastq.gz, /home/maikenaegele/Computational Workflow/Sheet 5/fq_2_R2.fastq.gz]]]\n",
      "[[sample:CONTROL_REP3, strandedness:reverse], [[/home/maikenaegele/Computational Workflow/Sheet 5/fq_3_R1.fastq.gz, /home/maikenaegele/Computational Workflow/Sheet 5/fq_3_R2.fastq.gz]]]\n"
     ]
    }
   ],
   "source": [
    "# Task 4 - Group together all files with the same sample-id and strandedness value.\n",
    "\n",
    "!nextflow run advanced_channel_operations.nf --step 4"
   ]
  },
  {
   "cell_type": "markdown",
   "metadata": {},
   "source": [
    "## It's finally time to link processes and channels with each other"
   ]
  },
  {
   "cell_type": "markdown",
   "metadata": {},
   "source": [
    "Please go to the file $\\texttt{link\\_p\\_c.nf}$"
   ]
  },
  {
   "cell_type": "code",
   "execution_count": 83,
   "metadata": {},
   "outputs": [
    {
     "name": "stdout",
     "output_type": "stream",
     "text": [
      "\n",
      "\u001b[1m\u001b[38;5;232m\u001b[48;5;43m N E X T F L O W \u001b[0;2m  ~  \u001b[mversion 24.04.4\u001b[m\n",
      "\u001b[K\n",
      "Launching\u001b[35m `link_p_c.nf` \u001b[0;2m[\u001b[0;1;36mastonishing_pasteur\u001b[0;2m] DSL2 - \u001b[36mrevision: \u001b[0;36ma78c17bdb9\u001b[m\n",
      "\u001b[K\n",
      "\u001b[2m[\u001b[0;34m-        \u001b[0;2m] \u001b[0;2m\u001b[mSPLITLETTERS   -\u001b[K\n",
      "\u001b[2m[\u001b[0;34m-        \u001b[0;2m] \u001b[0;2m\u001b[mCONVERTTOUPPER -\u001b[K\n",
      "\u001b[3A\n",
      "\u001b[2m[\u001b[0;34m-        \u001b[0;2m] \u001b[0;2m\u001b[mSPLITLETTERS  \u001b[2m |\u001b[m 0 of 2\u001b[K\n",
      "\u001b[2m[\u001b[0;34m-        \u001b[0;2m] \u001b[0;2m\u001b[mCONVERTTOUPPER -\u001b[K\n",
      "\u001b[3A\n",
      "\u001b[2mexecutor >  local (2)\u001b[m\u001b[K\n",
      "\u001b[2m[\u001b[0;34m26/97799d\u001b[0;2m] \u001b[0;2m\u001b[mSPLITLETTERS\u001b[33;2m (\u001b[0;33m2\u001b[2m)\u001b[m\u001b[2m |\u001b[m 2 of 2\u001b[32m ✔\u001b[m\u001b[K\n",
      "\u001b[2m[\u001b[0;34m-        \u001b[0;2m] \u001b[0;2m\u001b[mCONVERTTOUPPER   -\u001b[K\n",
      "\u001b[4A\n",
      "\u001b[2mexecutor >  local (13)\u001b[m\u001b[K\n",
      "\u001b[2m[\u001b[0;34m26/97799d\u001b[0;2m] \u001b[0;2m\u001b[mSPLITLETTERS\u001b[33;2m (\u001b[0;33m2\u001b[2m)\u001b[m  \u001b[2m |\u001b[m 2 of 2\u001b[32m ✔\u001b[m\u001b[K\n",
      "\u001b[2m[\u001b[0;34mf7/31bb69\u001b[0;2m] \u001b[0;2m\u001b[mCONVERTTOUPPER\u001b[33;2m (\u001b[0;33m9\u001b[2m)\u001b[m\u001b[2m |\u001b[m 9 of 11\u001b[K\n",
      "COM\u001b[K\n",
      "ONA\u001b[K\n",
      "O WO\u001b[K\n",
      "PUT\u001b[K\n",
      "ATI\u001b[K\n",
      "L W\u001b[K\n",
      "RLD\u001b[K\n",
      "HELL\u001b[K\n",
      "FLO\u001b[K\n",
      "\u001b[13A\n",
      "\u001b[2mexecutor >  local (13)\u001b[m\u001b[K\n",
      "\u001b[2m[\u001b[0;34m26/97799d\u001b[0;2m] \u001b[0;2m\u001b[mSPLITLETTERS\u001b[33;2m (\u001b[0;33m2\u001b[2m)\u001b[m  \u001b[2m |\u001b[m 2 of 2\u001b[32m ✔\u001b[m\u001b[K\n",
      "\u001b[2m[\u001b[0;34mf7/31bb69\u001b[0;2m] \u001b[0;2m\u001b[mCONVERTTOUPPER\u001b[33;2m (\u001b[0;33m9\u001b[2m)\u001b[m\u001b[2m |\u001b[m 11 of 11\u001b[32m ✔\u001b[m\u001b[K\n",
      "COM\u001b[K\n",
      "ONA\u001b[K\n",
      "O WO\u001b[K\n",
      "PUT\u001b[K\n",
      "ATI\u001b[K\n",
      "L W\u001b[K\n",
      "RLD\u001b[K\n",
      "HELL\u001b[K\n",
      "FLO\u001b[K\n",
      "WS\u001b[K\n",
      "ORK\u001b[K\n",
      "\n"
     ]
    }
   ],
   "source": [
    "!nextflow run link_p_c.nf"
   ]
  },
  {
   "cell_type": "markdown",
   "metadata": {},
   "source": [
    "### Give a list with the paths to the chunk files"
   ]
  },
  {
   "cell_type": "code",
   "execution_count": null,
   "metadata": {},
   "outputs": [],
   "source": []
  },
  {
   "cell_type": "markdown",
   "metadata": {},
   "source": [
    "### Why was CONVERTTOUPPER run so often?"
   ]
  },
  {
   "cell_type": "code",
   "execution_count": null,
   "metadata": {},
   "outputs": [],
   "source": []
  },
  {
   "cell_type": "code",
   "execution_count": null,
   "metadata": {},
   "outputs": [],
   "source": []
  },
  {
   "cell_type": "code",
   "execution_count": null,
   "metadata": {},
   "outputs": [],
   "source": []
  },
  {
   "cell_type": "code",
   "execution_count": null,
   "metadata": {},
   "outputs": [],
   "source": []
  },
  {
   "cell_type": "code",
   "execution_count": null,
   "metadata": {},
   "outputs": [],
   "source": []
  },
  {
   "cell_type": "code",
   "execution_count": null,
   "metadata": {},
   "outputs": [],
   "source": []
  },
  {
   "cell_type": "code",
   "execution_count": null,
   "metadata": {},
   "outputs": [],
   "source": []
  },
  {
   "cell_type": "code",
   "execution_count": null,
   "metadata": {},
   "outputs": [],
   "source": []
  },
  {
   "cell_type": "code",
   "execution_count": null,
   "metadata": {},
   "outputs": [],
   "source": []
  },
  {
   "cell_type": "code",
   "execution_count": null,
   "metadata": {},
   "outputs": [],
   "source": []
  },
  {
   "cell_type": "code",
   "execution_count": null,
   "metadata": {},
   "outputs": [],
   "source": []
  },
  {
   "cell_type": "code",
   "execution_count": null,
   "metadata": {},
   "outputs": [],
   "source": []
  }
 ],
 "metadata": {
  "kernelspec": {
   "display_name": "nextflow-env",
   "language": "python",
   "name": "python3"
  },
  "language_info": {
   "codemirror_mode": {
    "name": "ipython",
    "version": 3
   },
   "file_extension": ".py",
   "mimetype": "text/x-python",
   "name": "python",
   "nbconvert_exporter": "python",
   "pygments_lexer": "ipython3",
   "version": "3.10.15"
  }
 },
 "nbformat": 4,
 "nbformat_minor": 2
}
