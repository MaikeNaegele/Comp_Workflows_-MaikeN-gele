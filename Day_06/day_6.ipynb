{
 "cells": [
  {
   "cell_type": "markdown",
   "metadata": {},
   "source": [
    "# Day 6 - Nextflow Basics: Introduction to channels and operators"
   ]
  },
  {
   "cell_type": "markdown",
   "metadata": {},
   "source": [
    "Today, we will begin exploring Nextflow, the programming language that powers the advanced nf-core pipelines you worked with last week. Your task is to dive into the core concepts and syntax of Nextflow, understanding how this language enables the development of scalable and reproducible workflows.\n",
    "\n",
    "Nextflow works quite differently from traditional programming languages like Python or Java that you may already be familiar with. To get started, it is essential to understand the foundational concepts that set Nextflow apart."
   ]
  },
  {
   "cell_type": "markdown",
   "metadata": {},
   "source": [
    "### 1. Describe the concept of Workflows, Processes and Channels we deal with in Nextflow"
   ]
  },
  {
   "cell_type": "markdown",
   "metadata": {},
   "source": [
    "Workflows: it specifies a sequence of processes that are linked via channels. \n",
    "\n",
    "\n",
    "\n",
    "\n",
    "\n",
    "Processes: A process is part of the workflow and executes one specific task in the whole analysis (worklfow)\n",
    "\n",
    "\n",
    "\n",
    "\n",
    "\n",
    "\n",
    "Channels: Channels are part of worklows and are used to pass the data between processes such that we get a chain of individual tasks that can be all executed in a single workflow."
   ]
  },
  {
   "cell_type": "markdown",
   "metadata": {},
   "source": [
    "## Introduction to channels\n",
    "\n",
    "Please refer to the file  $\\texttt{channels\\_intro.nf}$ for the next exercises. Then run the code with the respective flag here below. "
   ]
  },
  {
   "cell_type": "code",
   "execution_count": 3,
   "metadata": {},
   "outputs": [
    {
     "name": "stdout",
     "output_type": "stream",
     "text": [
      "\n",
      "\u001b[1m\u001b[38;5;232m\u001b[48;5;43m N E X T F L O W \u001b[0;2m  ~  \u001b[mversion 24.04.4\u001b[m\n",
      "\u001b[K\n",
      "Launching\u001b[35m `channels_intro.nf` \u001b[0;2m[\u001b[0;1;36mpeaceful_visvesvaraya\u001b[0;2m] DSL2 - \u001b[36mrevision: \u001b[0;36m56c8c2e09a\u001b[m\n",
      "\u001b[K\n",
      "1\n",
      "2\n",
      "3\n",
      "4\n",
      "5\n",
      "6\n",
      "7\n",
      "8\n",
      "9\n",
      "10\n"
     ]
    }
   ],
   "source": [
    "# Task 1 - Create a channel that enumerates the numbers from 1 to 10\n",
    "!nextflow run channels_intro.nf --step 1"
   ]
  },
  {
   "cell_type": "code",
   "execution_count": 4,
   "metadata": {},
   "outputs": [
    {
     "name": "stdout",
     "output_type": "stream",
     "text": [
      "\n",
      "\u001b[1m\u001b[38;5;232m\u001b[48;5;43m N E X T F L O W \u001b[0;2m  ~  \u001b[mversion 24.04.4\u001b[m\n",
      "\u001b[K\n",
      "Launching\u001b[35m `channels_intro.nf` \u001b[0;2m[\u001b[0;1;36mbig_hodgkin\u001b[0;2m] DSL2 - \u001b[36mrevision: \u001b[0;36m56c8c2e09a\u001b[m\n",
      "\u001b[K\n",
      "A\n",
      "B\n",
      "C\n",
      "D\n",
      "E\n",
      "F\n",
      "G\n",
      "H\n",
      "I\n",
      "J\n",
      "K\n",
      "L\n",
      "M\n",
      "N\n",
      "O\n",
      "P\n",
      "Q\n",
      "R\n",
      "S\n",
      "T\n",
      "U\n",
      "V\n",
      "W\n",
      "X\n",
      "Y\n",
      "Z\n"
     ]
    }
   ],
   "source": [
    "# Task 2 - Create a channel that gives out the entire alphabet\n",
    "!nextflow run channels_intro.nf --step 2"
   ]
  },
  {
   "cell_type": "code",
   "execution_count": 5,
   "metadata": {},
   "outputs": [
    {
     "name": "stdout",
     "output_type": "stream",
     "text": [
      "\n",
      "\u001b[1m\u001b[38;5;232m\u001b[48;5;43m N E X T F L O W \u001b[0;2m  ~  \u001b[mversion 24.04.4\u001b[m\n",
      "\u001b[K\n",
      "Launching\u001b[35m `channels_intro.nf` \u001b[0;2m[\u001b[0;1;36mmarvelous_curie\u001b[0;2m] DSL2 - \u001b[36mrevision: \u001b[0;36m56c8c2e09a\u001b[m\n",
      "\u001b[K\n",
      "/home/maikenaegele/ComputationalWorkflow/Sheet 5/files_dir/fastq_1.fq\n",
      "/home/maikenaegele/ComputationalWorkflow/Sheet 5/files_dir/fastq5_2.fq:Zone.Identifier\n",
      "/home/maikenaegele/ComputationalWorkflow/Sheet 5/files_dir/SRR5_2.fq\n",
      "/home/maikenaegele/ComputationalWorkflow/Sheet 5/files_dir/SRR4_1.fq:Zone.Identifier\n",
      "/home/maikenaegele/ComputationalWorkflow/Sheet 5/files_dir/SRR5_1.fq\n",
      "/home/maikenaegele/ComputationalWorkflow/Sheet 5/files_dir/file_5.txt\n",
      "/home/maikenaegele/ComputationalWorkflow/Sheet 5/files_dir/file_5.txt:Zone.Identifier\n",
      "/home/maikenaegele/ComputationalWorkflow/Sheet 5/files_dir/SRR5_2.fq:Zone.Identifier\n",
      "/home/maikenaegele/ComputationalWorkflow/Sheet 5/files_dir/fastq4_1.fq\n",
      "/home/maikenaegele/ComputationalWorkflow/Sheet 5/files_dir/fastq4_2.fq\n",
      "/home/maikenaegele/ComputationalWorkflow/Sheet 5/files_dir/fastq5_1.fq:Zone.Identifier\n",
      "/home/maikenaegele/ComputationalWorkflow/Sheet 5/files_dir/fastq1_2.fq:Zone.Identifier\n",
      "/home/maikenaegele/ComputationalWorkflow/Sheet 5/files_dir/SRR2_1.fq\n",
      "/home/maikenaegele/ComputationalWorkflow/Sheet 5/files_dir/SRR3_2.fq\n",
      "/home/maikenaegele/ComputationalWorkflow/Sheet 5/files_dir/file_1.txt\n",
      "/home/maikenaegele/ComputationalWorkflow/Sheet 5/files_dir/SRR1_1.fq:Zone.Identifier\n",
      "/home/maikenaegele/ComputationalWorkflow/Sheet 5/files_dir/SRR3_1.fq:Zone.Identifier\n",
      "/home/maikenaegele/ComputationalWorkflow/Sheet 5/files_dir/fastq2_2.fq:Zone.Identifier\n",
      "/home/maikenaegele/ComputationalWorkflow/Sheet 5/files_dir/fastq3_1.fq:Zone.Identifier\n",
      "/home/maikenaegele/ComputationalWorkflow/Sheet 5/files_dir/SRR1_2.fq\n",
      "/home/maikenaegele/ComputationalWorkflow/Sheet 5/files_dir/fastq5_1.fq\n",
      "/home/maikenaegele/ComputationalWorkflow/Sheet 5/files_dir/SRR2_2.fq:Zone.Identifier\n",
      "/home/maikenaegele/ComputationalWorkflow/Sheet 5/files_dir/file_3.txt:Zone.Identifier\n",
      "/home/maikenaegele/ComputationalWorkflow/Sheet 5/files_dir/file_2.txt\n",
      "/home/maikenaegele/ComputationalWorkflow/Sheet 5/files_dir/fastq2_1.fq:Zone.Identifier\n",
      "/home/maikenaegele/ComputationalWorkflow/Sheet 5/files_dir/fastq1_1.fq\n",
      "/home/maikenaegele/ComputationalWorkflow/Sheet 5/files_dir/fastq4_1.fq:Zone.Identifier\n",
      "/home/maikenaegele/ComputationalWorkflow/Sheet 5/files_dir/fastq1_1.fq:Zone.Identifier\n",
      "/home/maikenaegele/ComputationalWorkflow/Sheet 5/files_dir/fastq2_2.fq\n",
      "/home/maikenaegele/ComputationalWorkflow/Sheet 5/files_dir/SRR5_1.fq:Zone.Identifier\n",
      "/home/maikenaegele/ComputationalWorkflow/Sheet 5/files_dir/SRR4_2.fq\n",
      "/home/maikenaegele/ComputationalWorkflow/Sheet 5/files_dir/fastq2_1.fq\n",
      "/home/maikenaegele/ComputationalWorkflow/Sheet 5/files_dir/SRR1_2.fq:Zone.Identifier\n",
      "/home/maikenaegele/ComputationalWorkflow/Sheet 5/files_dir/fastq3_2.fq\n",
      "/home/maikenaegele/ComputationalWorkflow/Sheet 5/files_dir/SRR2_1.fq:Zone.Identifier\n",
      "/home/maikenaegele/ComputationalWorkflow/Sheet 5/files_dir/fastq.fq:Zone.Identifier\n",
      "/home/maikenaegele/ComputationalWorkflow/Sheet 5/files_dir/SRR3_1.fq\n",
      "/home/maikenaegele/ComputationalWorkflow/Sheet 5/files_dir/fastq.fq\n",
      "/home/maikenaegele/ComputationalWorkflow/Sheet 5/files_dir/fastq_2.fq:Zone.Identifier\n",
      "/home/maikenaegele/ComputationalWorkflow/Sheet 5/files_dir/fastq1_2.fq\n",
      "/home/maikenaegele/ComputationalWorkflow/Sheet 5/files_dir/file_4.txt\n",
      "/home/maikenaegele/ComputationalWorkflow/Sheet 5/files_dir/fastq_1.fq:Zone.Identifier\n",
      "/home/maikenaegele/ComputationalWorkflow/Sheet 5/files_dir/SRR2_2.fq\n",
      "/home/maikenaegele/ComputationalWorkflow/Sheet 5/files_dir/SRR4_2.fq:Zone.Identifier\n",
      "/home/maikenaegele/ComputationalWorkflow/Sheet 5/files_dir/SRR4_1.fq\n",
      "/home/maikenaegele/ComputationalWorkflow/Sheet 5/files_dir/SRR.fq\n",
      "/home/maikenaegele/ComputationalWorkflow/Sheet 5/files_dir/fastq3_2.fq:Zone.Identifier\n",
      "/home/maikenaegele/ComputationalWorkflow/Sheet 5/files_dir/fastq4_2.fq:Zone.Identifier\n",
      "/home/maikenaegele/ComputationalWorkflow/Sheet 5/files_dir/SRR3_2.fq:Zone.Identifier\n",
      "/home/maikenaegele/ComputationalWorkflow/Sheet 5/files_dir/fastq3_1.fq\n",
      "/home/maikenaegele/ComputationalWorkflow/Sheet 5/files_dir/file_4.txt:Zone.Identifier\n",
      "/home/maikenaegele/ComputationalWorkflow/Sheet 5/files_dir/SRR1_1.fq\n",
      "/home/maikenaegele/ComputationalWorkflow/Sheet 5/files_dir/file_2.txt:Zone.Identifier\n",
      "/home/maikenaegele/ComputationalWorkflow/Sheet 5/files_dir/SRR.fq:Zone.Identifier\n",
      "/home/maikenaegele/ComputationalWorkflow/Sheet 5/files_dir/fastq_2.fq\n",
      "/home/maikenaegele/ComputationalWorkflow/Sheet 5/files_dir/fastq5_2.fq\n",
      "/home/maikenaegele/ComputationalWorkflow/Sheet 5/files_dir/file_3.txt\n",
      "/home/maikenaegele/ComputationalWorkflow/Sheet 5/files_dir/file_1.txt:Zone.Identifier\n"
     ]
    }
   ],
   "source": [
    "# Task 3 - Create a channel that includes all files in the \"files_dir\" directory\n",
    "!nextflow run channels_intro.nf --step 3"
   ]
  },
  {
   "cell_type": "code",
   "execution_count": 6,
   "metadata": {},
   "outputs": [
    {
     "name": "stdout",
     "output_type": "stream",
     "text": [
      "\n",
      "\u001b[1m\u001b[38;5;232m\u001b[48;5;43m N E X T F L O W \u001b[0;2m  ~  \u001b[mversion 24.04.4\u001b[m\n",
      "\u001b[K\n",
      "Launching\u001b[35m `channels_intro.nf` \u001b[0;2m[\u001b[0;1;36mcheesy_bose\u001b[0;2m] DSL2 - \u001b[36mrevision: \u001b[0;36m56c8c2e09a\u001b[m\n",
      "\u001b[K\n",
      "/home/maikenaegele/ComputationalWorkflow/Sheet 5/files_dir/file_5.txt\n",
      "/home/maikenaegele/ComputationalWorkflow/Sheet 5/files_dir/file_1.txt\n",
      "/home/maikenaegele/ComputationalWorkflow/Sheet 5/files_dir/file_2.txt\n",
      "/home/maikenaegele/ComputationalWorkflow/Sheet 5/files_dir/file_4.txt\n",
      "/home/maikenaegele/ComputationalWorkflow/Sheet 5/files_dir/file_3.txt\n"
     ]
    }
   ],
   "source": [
    "# Task 4 - Create a channel that includes all TXT files in the \"files_dir\" directory\n",
    "!nextflow run channels_intro.nf --step 4"
   ]
  },
  {
   "cell_type": "code",
   "execution_count": 7,
   "metadata": {},
   "outputs": [
    {
     "name": "stdout",
     "output_type": "stream",
     "text": [
      "\n",
      "\u001b[1m\u001b[38;5;232m\u001b[48;5;43m N E X T F L O W \u001b[0;2m  ~  \u001b[mversion 24.04.4\u001b[m\n",
      "\u001b[K\n",
      "Launching\u001b[35m `channels_intro.nf` \u001b[0;2m[\u001b[0;1;36mastonishing_dubinsky\u001b[0;2m] DSL2 - \u001b[36mrevision: \u001b[0;36m56c8c2e09a\u001b[m\n",
      "\u001b[K\n",
      "/home/maikenaegele/ComputationalWorkflow/Sheet 5/files_dir/fastq_1.fq\n",
      "/home/maikenaegele/ComputationalWorkflow/Sheet 5/files_dir/fastq_2.fq\n"
     ]
    }
   ],
   "source": [
    "# Task 5 - Create a channel that includes the files \"fastq_1.fq\" and \"fastq_2.fq\" in the \"files_dir\" directory\n",
    "!nextflow run channels_intro.nf --step 5"
   ]
  },
  {
   "cell_type": "code",
   "execution_count": 8,
   "metadata": {},
   "outputs": [
    {
     "name": "stdout",
     "output_type": "stream",
     "text": [
      "\n",
      "\u001b[1m\u001b[38;5;232m\u001b[48;5;43m N E X T F L O W \u001b[0;2m  ~  \u001b[mversion 24.04.4\u001b[m\n",
      "\u001b[K\n",
      "Launching\u001b[35m `channels_intro.nf` \u001b[0;2m[\u001b[0;1;36mgloomy_faraday\u001b[0;2m] DSL2 - \u001b[36mrevision: \u001b[0;36m56c8c2e09a\u001b[m\n",
      "\u001b[K\n",
      "/home/maikenaegele/ComputationalWorkflow/Sheet 5/files_dir/fastq_1.fq\n",
      "/home/maikenaegele/ComputationalWorkflow/Sheet 5/files_dir/fastq5_2.fq:Zone.Identifier\n",
      "/home/maikenaegele/ComputationalWorkflow/Sheet 5/files_dir/SRR5_2.fq\n",
      "/home/maikenaegele/ComputationalWorkflow/Sheet 5/files_dir/SRR4_1.fq:Zone.Identifier\n",
      "/home/maikenaegele/ComputationalWorkflow/Sheet 5/files_dir/SRR5_1.fq\n",
      "/home/maikenaegele/ComputationalWorkflow/Sheet 5/files_dir/file_5.txt\n",
      "/home/maikenaegele/ComputationalWorkflow/Sheet 5/files_dir/file_5.txt:Zone.Identifier\n",
      "/home/maikenaegele/ComputationalWorkflow/Sheet 5/files_dir/SRR5_2.fq:Zone.Identifier\n",
      "/home/maikenaegele/ComputationalWorkflow/Sheet 5/files_dir/fastq4_1.fq\n",
      "/home/maikenaegele/ComputationalWorkflow/Sheet 5/files_dir/.hidden_2.txt:Zone.Identifier\n",
      "/home/maikenaegele/ComputationalWorkflow/Sheet 5/files_dir/fastq4_2.fq\n",
      "/home/maikenaegele/ComputationalWorkflow/Sheet 5/files_dir/fastq5_1.fq:Zone.Identifier\n",
      "/home/maikenaegele/ComputationalWorkflow/Sheet 5/files_dir/fastq1_2.fq:Zone.Identifier\n",
      "/home/maikenaegele/ComputationalWorkflow/Sheet 5/files_dir/SRR2_1.fq\n",
      "/home/maikenaegele/ComputationalWorkflow/Sheet 5/files_dir/SRR3_2.fq\n",
      "/home/maikenaegele/ComputationalWorkflow/Sheet 5/files_dir/file_1.txt\n",
      "/home/maikenaegele/ComputationalWorkflow/Sheet 5/files_dir/SRR1_1.fq:Zone.Identifier\n",
      "/home/maikenaegele/ComputationalWorkflow/Sheet 5/files_dir/SRR3_1.fq:Zone.Identifier\n",
      "/home/maikenaegele/ComputationalWorkflow/Sheet 5/files_dir/fastq2_2.fq:Zone.Identifier\n",
      "/home/maikenaegele/ComputationalWorkflow/Sheet 5/files_dir/fastq3_1.fq:Zone.Identifier\n",
      "/home/maikenaegele/ComputationalWorkflow/Sheet 5/files_dir/SRR1_2.fq\n",
      "/home/maikenaegele/ComputationalWorkflow/Sheet 5/files_dir/fastq5_1.fq\n",
      "/home/maikenaegele/ComputationalWorkflow/Sheet 5/files_dir/SRR2_2.fq:Zone.Identifier\n",
      "/home/maikenaegele/ComputationalWorkflow/Sheet 5/files_dir/file_3.txt:Zone.Identifier\n",
      "/home/maikenaegele/ComputationalWorkflow/Sheet 5/files_dir/file_2.txt\n",
      "/home/maikenaegele/ComputationalWorkflow/Sheet 5/files_dir/fastq2_1.fq:Zone.Identifier\n",
      "/home/maikenaegele/ComputationalWorkflow/Sheet 5/files_dir/fastq1_1.fq\n",
      "/home/maikenaegele/ComputationalWorkflow/Sheet 5/files_dir/fastq4_1.fq:Zone.Identifier\n",
      "/home/maikenaegele/ComputationalWorkflow/Sheet 5/files_dir/fastq1_1.fq:Zone.Identifier\n",
      "/home/maikenaegele/ComputationalWorkflow/Sheet 5/files_dir/fastq2_2.fq\n",
      "/home/maikenaegele/ComputationalWorkflow/Sheet 5/files_dir/SRR5_1.fq:Zone.Identifier\n",
      "/home/maikenaegele/ComputationalWorkflow/Sheet 5/files_dir/SRR4_2.fq\n",
      "/home/maikenaegele/ComputationalWorkflow/Sheet 5/files_dir/.hidden_2.txt\n",
      "/home/maikenaegele/ComputationalWorkflow/Sheet 5/files_dir/fastq2_1.fq\n",
      "/home/maikenaegele/ComputationalWorkflow/Sheet 5/files_dir/SRR1_2.fq:Zone.Identifier\n",
      "/home/maikenaegele/ComputationalWorkflow/Sheet 5/files_dir/fastq3_2.fq\n",
      "/home/maikenaegele/ComputationalWorkflow/Sheet 5/files_dir/SRR2_1.fq:Zone.Identifier\n",
      "/home/maikenaegele/ComputationalWorkflow/Sheet 5/files_dir/fastq.fq:Zone.Identifier\n",
      "/home/maikenaegele/ComputationalWorkflow/Sheet 5/files_dir/SRR3_1.fq\n",
      "/home/maikenaegele/ComputationalWorkflow/Sheet 5/files_dir/fastq.fq\n",
      "/home/maikenaegele/ComputationalWorkflow/Sheet 5/files_dir/fastq_2.fq:Zone.Identifier\n",
      "/home/maikenaegele/ComputationalWorkflow/Sheet 5/files_dir/fastq1_2.fq\n",
      "/home/maikenaegele/ComputationalWorkflow/Sheet 5/files_dir/file_4.txt\n",
      "/home/maikenaegele/ComputationalWorkflow/Sheet 5/files_dir/fastq_1.fq:Zone.Identifier\n",
      "/home/maikenaegele/ComputationalWorkflow/Sheet 5/files_dir/SRR2_2.fq\n",
      "/home/maikenaegele/ComputationalWorkflow/Sheet 5/files_dir/SRR4_2.fq:Zone.Identifier\n",
      "/home/maikenaegele/ComputationalWorkflow/Sheet 5/files_dir/SRR4_1.fq\n",
      "/home/maikenaegele/ComputationalWorkflow/Sheet 5/files_dir/SRR.fq\n",
      "/home/maikenaegele/ComputationalWorkflow/Sheet 5/files_dir/fastq3_2.fq:Zone.Identifier\n",
      "/home/maikenaegele/ComputationalWorkflow/Sheet 5/files_dir/fastq4_2.fq:Zone.Identifier\n",
      "/home/maikenaegele/ComputationalWorkflow/Sheet 5/files_dir/.hidden_1.txt\n",
      "/home/maikenaegele/ComputationalWorkflow/Sheet 5/files_dir/SRR3_2.fq:Zone.Identifier\n",
      "/home/maikenaegele/ComputationalWorkflow/Sheet 5/files_dir/fastq3_1.fq\n",
      "/home/maikenaegele/ComputationalWorkflow/Sheet 5/files_dir/file_4.txt:Zone.Identifier\n",
      "/home/maikenaegele/ComputationalWorkflow/Sheet 5/files_dir/.hidden_1.txt:Zone.Identifier\n",
      "/home/maikenaegele/ComputationalWorkflow/Sheet 5/files_dir/SRR1_1.fq\n",
      "/home/maikenaegele/ComputationalWorkflow/Sheet 5/files_dir/file_2.txt:Zone.Identifier\n",
      "/home/maikenaegele/ComputationalWorkflow/Sheet 5/files_dir/SRR.fq:Zone.Identifier\n",
      "/home/maikenaegele/ComputationalWorkflow/Sheet 5/files_dir/fastq_2.fq\n",
      "/home/maikenaegele/ComputationalWorkflow/Sheet 5/files_dir/fastq5_2.fq\n",
      "/home/maikenaegele/ComputationalWorkflow/Sheet 5/files_dir/file_3.txt\n",
      "/home/maikenaegele/ComputationalWorkflow/Sheet 5/files_dir/file_1.txt:Zone.Identifier\n"
     ]
    }
   ],
   "source": [
    "# Task 6 - go back to the time when you included all files. Are you sure that really ALL files are included? If not, how can you include them?\n",
    "!nextflow run channels_intro.nf --step 6"
   ]
  },
  {
   "cell_type": "markdown",
   "metadata": {},
   "source": [
    "No, not all files included. The hidden files were missing because their filenames started with a dot ('.hidden_2')."
   ]
  },
  {
   "cell_type": "code",
   "execution_count": 9,
   "metadata": {},
   "outputs": [
    {
     "name": "stdout",
     "output_type": "stream",
     "text": [
      "\n",
      "\u001b[1m\u001b[38;5;232m\u001b[48;5;43m N E X T F L O W \u001b[0;2m  ~  \u001b[mversion 24.04.4\u001b[m\n",
      "\u001b[K\n",
      "Launching\u001b[35m `channels_intro.nf` \u001b[0;2m[\u001b[0;1;36mangry_neumann\u001b[0;2m] DSL2 - \u001b[36mrevision: \u001b[0;36m56c8c2e09a\u001b[m\n",
      "\u001b[K\n",
      "[SRR5, [/home/maikenaegele/ComputationalWorkflow/Sheet 5/files_dir/SRR5_1.fq, /home/maikenaegele/ComputationalWorkflow/Sheet 5/files_dir/SRR5_2.fq]]\n",
      "[fastq4, [/home/maikenaegele/ComputationalWorkflow/Sheet 5/files_dir/fastq4_1.fq, /home/maikenaegele/ComputationalWorkflow/Sheet 5/files_dir/fastq4_2.fq]]\n",
      "[fastq2, [/home/maikenaegele/ComputationalWorkflow/Sheet 5/files_dir/fastq2_1.fq, /home/maikenaegele/ComputationalWorkflow/Sheet 5/files_dir/fastq2_2.fq]]\n",
      "[SRR3, [/home/maikenaegele/ComputationalWorkflow/Sheet 5/files_dir/SRR3_1.fq, /home/maikenaegele/ComputationalWorkflow/Sheet 5/files_dir/SRR3_2.fq]]\n",
      "[fastq1, [/home/maikenaegele/ComputationalWorkflow/Sheet 5/files_dir/fastq1_1.fq, /home/maikenaegele/ComputationalWorkflow/Sheet 5/files_dir/fastq1_2.fq]]\n",
      "[SRR2, [/home/maikenaegele/ComputationalWorkflow/Sheet 5/files_dir/SRR2_1.fq, /home/maikenaegele/ComputationalWorkflow/Sheet 5/files_dir/SRR2_2.fq]]\n",
      "[SRR4, [/home/maikenaegele/ComputationalWorkflow/Sheet 5/files_dir/SRR4_1.fq, /home/maikenaegele/ComputationalWorkflow/Sheet 5/files_dir/SRR4_2.fq]]\n",
      "[fastq3, [/home/maikenaegele/ComputationalWorkflow/Sheet 5/files_dir/fastq3_1.fq, /home/maikenaegele/ComputationalWorkflow/Sheet 5/files_dir/fastq3_2.fq]]\n",
      "[SRR1, [/home/maikenaegele/ComputationalWorkflow/Sheet 5/files_dir/SRR1_1.fq, /home/maikenaegele/ComputationalWorkflow/Sheet 5/files_dir/SRR1_2.fq]]\n",
      "[fastq, [/home/maikenaegele/ComputationalWorkflow/Sheet 5/files_dir/fastq_1.fq, /home/maikenaegele/ComputationalWorkflow/Sheet 5/files_dir/fastq_2.fq]]\n",
      "[fastq5, [/home/maikenaegele/ComputationalWorkflow/Sheet 5/files_dir/fastq5_1.fq, /home/maikenaegele/ComputationalWorkflow/Sheet 5/files_dir/fastq5_2.fq]]\n"
     ]
    }
   ],
   "source": [
    "# Task 7 - get all filepairs in the \"files_dir\" directory\n",
    "!nextflow run channels_intro.nf --step 7"
   ]
  },
  {
   "cell_type": "markdown",
   "metadata": {},
   "source": [
    "## Now that you have a solid understanding of the basic concepts of channels in Nextflow, it’s time to experiment and see how they work in practice."
   ]
  },
  {
   "cell_type": "markdown",
   "metadata": {},
   "source": [
    "To do so, Nextflow has the concept of Operators to give and pass information inbetween channels.\n",
    "\n",
    "Please answer the questions in $\\texttt{basic\\_channel\\_operations.nf}$ and run the code here. "
   ]
  },
  {
   "cell_type": "code",
   "execution_count": 10,
   "metadata": {},
   "outputs": [
    {
     "name": "stdout",
     "output_type": "stream",
     "text": [
      "\n",
      "\u001b[1m\u001b[38;5;232m\u001b[48;5;43m N E X T F L O W \u001b[0;2m  ~  \u001b[mversion 24.04.4\u001b[m\n",
      "\u001b[K\n",
      "Launching\u001b[35m `basic_channel_operations.nf` \u001b[0;2m[\u001b[0;1;36mdistracted_mclean\u001b[0;2m] DSL2 - \u001b[36mrevision: \u001b[0;36m95408301fe\u001b[m\n",
      "\u001b[K\n",
      "1\n"
     ]
    }
   ],
   "source": [
    "# Task 1 - Extract the first item from the channel\n",
    "!nextflow run basic_channel_operations.nf --step 1"
   ]
  },
  {
   "cell_type": "code",
   "execution_count": 11,
   "metadata": {},
   "outputs": [
    {
     "name": "stdout",
     "output_type": "stream",
     "text": [
      "\n",
      "\u001b[1m\u001b[38;5;232m\u001b[48;5;43m N E X T F L O W \u001b[0;2m  ~  \u001b[mversion 24.04.4\u001b[m\n",
      "\u001b[K\n",
      "Launching\u001b[35m `basic_channel_operations.nf` \u001b[0;2m[\u001b[0;1;36mboring_caravaggio\u001b[0;2m] DSL2 - \u001b[36mrevision: \u001b[0;36m95408301fe\u001b[m\n",
      "\u001b[K\n",
      "3\n"
     ]
    }
   ],
   "source": [
    "# Task 2 - Extract the last item from the channel\n",
    "!nextflow run basic_channel_operations.nf --step 2"
   ]
  },
  {
   "cell_type": "code",
   "execution_count": 12,
   "metadata": {},
   "outputs": [
    {
     "name": "stdout",
     "output_type": "stream",
     "text": [
      "\n",
      "\u001b[1m\u001b[38;5;232m\u001b[48;5;43m N E X T F L O W \u001b[0;2m  ~  \u001b[mversion 24.04.4\u001b[m\n",
      "\u001b[K\n",
      "Launching\u001b[35m `basic_channel_operations.nf` \u001b[0;2m[\u001b[0;1;36mgoofy_becquerel\u001b[0;2m] DSL2 - \u001b[36mrevision: \u001b[0;36m95408301fe\u001b[m\n",
      "\u001b[K\n",
      "1\n",
      "2\n"
     ]
    }
   ],
   "source": [
    "# Task 3 - Use an operator to extract the first two items from the channel\n",
    "!nextflow run basic_channel_operations.nf --step 3"
   ]
  },
  {
   "cell_type": "code",
   "execution_count": 13,
   "metadata": {},
   "outputs": [
    {
     "name": "stdout",
     "output_type": "stream",
     "text": [
      "\n",
      "\u001b[1m\u001b[38;5;232m\u001b[48;5;43m N E X T F L O W \u001b[0;2m  ~  \u001b[mversion 24.04.4\u001b[m\n",
      "\u001b[K\n",
      "Launching\u001b[35m `basic_channel_operations.nf` \u001b[0;2m[\u001b[0;1;36mberserk_mercator\u001b[0;2m] DSL2 - \u001b[36mrevision: \u001b[0;36m95408301fe\u001b[m\n",
      "\u001b[K\n",
      "4\n",
      "9\n",
      "16\n"
     ]
    }
   ],
   "source": [
    "# Task 4 - Return the squared values of the channel\n",
    "!nextflow run basic_channel_operations.nf --step 4"
   ]
  },
  {
   "cell_type": "code",
   "execution_count": 14,
   "metadata": {},
   "outputs": [
    {
     "name": "stdout",
     "output_type": "stream",
     "text": [
      "\n",
      "\u001b[1m\u001b[38;5;232m\u001b[48;5;43m N E X T F L O W \u001b[0;2m  ~  \u001b[mversion 24.04.4\u001b[m\n",
      "\u001b[K\n",
      "Launching\u001b[35m `basic_channel_operations.nf` \u001b[0;2m[\u001b[0;1;36mserene_pesquet\u001b[0;2m] DSL2 - \u001b[36mrevision: \u001b[0;36m95408301fe\u001b[m\n",
      "\u001b[K\n",
      "4\n",
      "9\n"
     ]
    }
   ],
   "source": [
    "# Task 5 - Remember the previous task where you squared the values of the channel. Now, extract the first two items from the squared channel\n",
    "!nextflow run basic_channel_operations.nf --step 5"
   ]
  },
  {
   "cell_type": "code",
   "execution_count": 15,
   "metadata": {},
   "outputs": [
    {
     "name": "stdout",
     "output_type": "stream",
     "text": [
      "\n",
      "\u001b[1m\u001b[38;5;232m\u001b[48;5;43m N E X T F L O W \u001b[0;2m  ~  \u001b[mversion 24.04.4\u001b[m\n",
      "\u001b[K\n",
      "Launching\u001b[35m `basic_channel_operations.nf` \u001b[0;2m[\u001b[0;1;36mdetermined_williams\u001b[0;2m] DSL2 - \u001b[36mrevision: \u001b[0;36m95408301fe\u001b[m\n",
      "\u001b[K\n",
      "rolyaT\n",
      "tfiwS\n"
     ]
    }
   ],
   "source": [
    "# Task 6 - Remember when you used bash to reverse the output? Try to use map and Groovy to reverse the output\n",
    "!nextflow run basic_channel_operations.nf --step 6"
   ]
  },
  {
   "cell_type": "code",
   "execution_count": 18,
   "metadata": {},
   "outputs": [
    {
     "name": "stdout",
     "output_type": "stream",
     "text": [
      "\n",
      "\u001b[1m\u001b[38;5;232m\u001b[48;5;43m N E X T F L O W \u001b[0;2m  ~  \u001b[mversion 24.04.4\u001b[m\n",
      "\u001b[K\n",
      "Launching\u001b[35m `basic_channel_operations.nf` \u001b[0;2m[\u001b[0;1;36mdrunk_descartes\u001b[0;2m] DSL2 - \u001b[36mrevision: \u001b[0;36m3285abf87b\u001b[m\n",
      "\u001b[K\n",
      "[fastq_1.fq, /home/maikenaegele/ComputationalWorkflow/Sheet 5/files_dir/fastq_1.fq]\n",
      "[SRR5_2.fq, /home/maikenaegele/ComputationalWorkflow/Sheet 5/files_dir/SRR5_2.fq]\n",
      "[SRR5_1.fq, /home/maikenaegele/ComputationalWorkflow/Sheet 5/files_dir/SRR5_1.fq]\n",
      "[fastq4_1.fq, /home/maikenaegele/ComputationalWorkflow/Sheet 5/files_dir/fastq4_1.fq]\n",
      "[fastq4_2.fq, /home/maikenaegele/ComputationalWorkflow/Sheet 5/files_dir/fastq4_2.fq]\n",
      "[SRR2_1.fq, /home/maikenaegele/ComputationalWorkflow/Sheet 5/files_dir/SRR2_1.fq]\n",
      "[SRR3_2.fq, /home/maikenaegele/ComputationalWorkflow/Sheet 5/files_dir/SRR3_2.fq]\n",
      "[SRR1_2.fq, /home/maikenaegele/ComputationalWorkflow/Sheet 5/files_dir/SRR1_2.fq]\n",
      "[fastq5_1.fq, /home/maikenaegele/ComputationalWorkflow/Sheet 5/files_dir/fastq5_1.fq]\n",
      "[fastq1_1.fq, /home/maikenaegele/ComputationalWorkflow/Sheet 5/files_dir/fastq1_1.fq]\n",
      "[fastq2_2.fq, /home/maikenaegele/ComputationalWorkflow/Sheet 5/files_dir/fastq2_2.fq]\n",
      "[SRR4_2.fq, /home/maikenaegele/ComputationalWorkflow/Sheet 5/files_dir/SRR4_2.fq]\n",
      "[fastq2_1.fq, /home/maikenaegele/ComputationalWorkflow/Sheet 5/files_dir/fastq2_1.fq]\n",
      "[fastq3_2.fq, /home/maikenaegele/ComputationalWorkflow/Sheet 5/files_dir/fastq3_2.fq]\n",
      "[SRR3_1.fq, /home/maikenaegele/ComputationalWorkflow/Sheet 5/files_dir/SRR3_1.fq]\n",
      "[fastq.fq, /home/maikenaegele/ComputationalWorkflow/Sheet 5/files_dir/fastq.fq]\n",
      "[fastq1_2.fq, /home/maikenaegele/ComputationalWorkflow/Sheet 5/files_dir/fastq1_2.fq]\n",
      "[SRR2_2.fq, /home/maikenaegele/ComputationalWorkflow/Sheet 5/files_dir/SRR2_2.fq]\n",
      "[SRR4_1.fq, /home/maikenaegele/ComputationalWorkflow/Sheet 5/files_dir/SRR4_1.fq]\n",
      "[SRR.fq, /home/maikenaegele/ComputationalWorkflow/Sheet 5/files_dir/SRR.fq]\n",
      "[fastq3_1.fq, /home/maikenaegele/ComputationalWorkflow/Sheet 5/files_dir/fastq3_1.fq]\n",
      "[SRR1_1.fq, /home/maikenaegele/ComputationalWorkflow/Sheet 5/files_dir/SRR1_1.fq]\n",
      "[fastq_2.fq, /home/maikenaegele/ComputationalWorkflow/Sheet 5/files_dir/fastq_2.fq]\n",
      "[fastq5_2.fq, /home/maikenaegele/ComputationalWorkflow/Sheet 5/files_dir/fastq5_2.fq]\n"
     ]
    }
   ],
   "source": [
    "# Task 7 - Use fromPath to include all fastq files in the \"files_dir\" directory, then use map to return a pair containing the file name and the file path (Hint: include groovy code)\n",
    "!nextflow run basic_channel_operations.nf --step 7"
   ]
  },
  {
   "cell_type": "code",
   "execution_count": 19,
   "metadata": {},
   "outputs": [
    {
     "name": "stdout",
     "output_type": "stream",
     "text": [
      "\n",
      "\u001b[1m\u001b[38;5;232m\u001b[48;5;43m N E X T F L O W \u001b[0;2m  ~  \u001b[mversion 24.04.4\u001b[m\n",
      "\u001b[K\n",
      "Launching\u001b[35m `basic_channel_operations.nf` \u001b[0;2m[\u001b[0;1;36mmarvelous_williams\u001b[0;2m] DSL2 - \u001b[36mrevision: \u001b[0;36m3285abf87b\u001b[m\n",
      "\u001b[K\n",
      "4\n",
      "1\n",
      "a\n",
      "b\n",
      "2\n",
      "5\n",
      "c\n",
      "3\n",
      "6\n"
     ]
    }
   ],
   "source": [
    "# Task 8 - Combine the items from the two channels into a single channel\n",
    "!nextflow run basic_channel_operations.nf --step 8"
   ]
  },
  {
   "cell_type": "code",
   "execution_count": 20,
   "metadata": {},
   "outputs": [
    {
     "name": "stdout",
     "output_type": "stream",
     "text": [
      "\n",
      "\u001b[1m\u001b[38;5;232m\u001b[48;5;43m N E X T F L O W \u001b[0;2m  ~  \u001b[mversion 24.04.4\u001b[m\n",
      "\u001b[K\n",
      "Launching\u001b[35m `basic_channel_operations.nf` \u001b[0;2m[\u001b[0;1;36mnauseous_bassi\u001b[0;2m] DSL2 - \u001b[36mrevision: \u001b[0;36m3285abf87b\u001b[m\n",
      "\u001b[K\n",
      "1\n",
      "2\n",
      "3\n",
      "4\n",
      "5\n",
      "6\n"
     ]
    }
   ],
   "source": [
    "# Task 9 - Flatten the list in the channel\n",
    "!nextflow run basic_channel_operations.nf --step 9"
   ]
  },
  {
   "cell_type": "code",
   "execution_count": 21,
   "metadata": {},
   "outputs": [
    {
     "name": "stdout",
     "output_type": "stream",
     "text": [
      "\n",
      "\u001b[1m\u001b[38;5;232m\u001b[48;5;43m N E X T F L O W \u001b[0;2m  ~  \u001b[mversion 24.04.4\u001b[m\n",
      "\u001b[K\n",
      "Launching\u001b[35m `basic_channel_operations.nf` \u001b[0;2m[\u001b[0;1;36magitated_koch\u001b[0;2m] DSL2 - \u001b[36mrevision: \u001b[0;36m3285abf87b\u001b[m\n",
      "\u001b[K\n",
      "[1, 2, 3]\n"
     ]
    }
   ],
   "source": [
    "# Task 10 - Collect the items of a channel into a list. What kind of channel is the output channel?\n",
    "!nextflow run basic_channel_operations.nf --step 10"
   ]
  },
  {
   "cell_type": "markdown",
   "metadata": {},
   "source": [
    "**What kind of channel is the output channel?**<br>\n",
    "The output channel is a value channel. This means it emits a single item (the list of numbers)."
   ]
  },
  {
   "cell_type": "code",
   "execution_count": 130,
   "metadata": {},
   "outputs": [
    {
     "name": "stdout",
     "output_type": "stream",
     "text": [
      "\n",
      "\u001b[1m\u001b[38;5;232m\u001b[48;5;43m N E X T F L O W \u001b[0;2m  ~  \u001b[mversion 24.04.4\u001b[m\n",
      "\u001b[K\n",
      "Launching\u001b[35m `basic_channel_operations.nf` \u001b[0;2m[\u001b[0;1;36mtiny_pasteur\u001b[0;2m] DSL2 - \u001b[36mrevision: \u001b[0;36m8caf40c142\u001b[m\n",
      "\u001b[K\n",
      "[1, [V, f, B]]\n",
      "[3, [M, G, 33]]\n",
      "[2, [O, L, E]]\n"
     ]
    }
   ],
   "source": [
    "# Task 11 -  From the input channel, create lists where each first item in the list of lists is the first item in the output channel, followed by a list of all the items its paired with\n",
    "!nextflow run basic_channel_operations.nf --step 11"
   ]
  },
  {
   "cell_type": "code",
   "execution_count": 131,
   "metadata": {},
   "outputs": [
    {
     "name": "stdout",
     "output_type": "stream",
     "text": [
      "\n",
      "\u001b[1m\u001b[38;5;232m\u001b[48;5;43m N E X T F L O W \u001b[0;2m  ~  \u001b[mversion 24.04.4\u001b[m\n",
      "\u001b[K\n",
      "Launching\u001b[35m `basic_channel_operations.nf` \u001b[0;2m[\u001b[0;1;36mmighty_keller\u001b[0;2m] DSL2 - \u001b[36mrevision: \u001b[0;36m8caf40c142\u001b[m\n",
      "\u001b[K\n",
      "[1, V, f]\n",
      "[3, M, G]\n",
      "[2, O, L]\n"
     ]
    }
   ],
   "source": [
    "# Task 12 - Create a channel that joins the input to the output channel. What do you notice?\n",
    "!nextflow run basic_channel_operations.nf --step 12"
   ]
  },
  {
   "cell_type": "markdown",
   "metadata": {},
   "source": [
    "**Task 12 - What do you notice compared to Task 11?**<br>\n",
    "It only pairs the first matching element from both channels."
   ]
  },
  {
   "cell_type": "code",
   "execution_count": 135,
   "metadata": {},
   "outputs": [
    {
     "name": "stdout",
     "output_type": "stream",
     "text": [
      "\n",
      "\u001b[1m\u001b[38;5;232m\u001b[48;5;43m N E X T F L O W \u001b[0;2m  ~  \u001b[mversion 24.04.4\u001b[m\n",
      "\u001b[K\n",
      "Launching\u001b[35m `basic_channel_operations.nf` \u001b[0;2m[\u001b[0;1;36mvoluminous_feynman\u001b[0;2m] DSL2 - \u001b[36mrevision: \u001b[0;36ma912133559\u001b[m\n",
      "\u001b[K\n",
      "[DUMP: odd] [1, 3, 5, 7, 9]\n",
      "[DUMP: even] [2, 4, 6, 8, 10]\n"
     ]
    }
   ],
   "source": [
    "# Task 13 - Split the input channel into two channels, one of all the even numbers and the other of all the odd numbers.\n",
    "#           Write them to stdout including information about which is which\n",
    "!nextflow run basic_channel_operations.nf --step 13 -dump-channels"
   ]
  },
  {
   "cell_type": "code",
   "execution_count": 136,
   "metadata": {},
   "outputs": [
    {
     "name": "stdout",
     "output_type": "stream",
     "text": [
      "\n",
      "\u001b[1m\u001b[38;5;232m\u001b[48;5;43m N E X T F L O W \u001b[0;2m  ~  \u001b[mversion 24.04.4\u001b[m\n",
      "\u001b[K\n",
      "Launching\u001b[35m `basic_channel_operations.nf` \u001b[0;2m[\u001b[0;1;36mtender_church\u001b[0;2m] DSL2 - \u001b[36mrevision: \u001b[0;36ma912133559\u001b[m\n",
      "\u001b[K\n",
      "results/names.txt\n",
      "Snape\n",
      "Albus\n",
      "Ron\n",
      "Hagrid\n",
      "Dobby\n",
      "Hermione\n",
      "Harry\n"
     ]
    }
   ],
   "source": [
    "# Task 14 - Nextflow has the concept of maps. Write the names in the maps in this channel to a file called \"names.txt\". Each name should be on a new line. \n",
    "#           Store the file in the \"results\" directory under the name \"names.txt\"\n",
    "\n",
    "!nextflow run basic_channel_operations.nf --step 14\n",
    "\n",
    "!cat results/names.txt\n"
   ]
  },
  {
   "cell_type": "markdown",
   "metadata": {},
   "source": [
    "## Now that we learned about Channels and Operators to deal with them, let's focus on Processes that make use of these channels."
   ]
  },
  {
   "cell_type": "markdown",
   "metadata": {},
   "source": [
    "Please answer the questions in $\\texttt{basics\\_processes.nf}$ and run the code here. "
   ]
  },
  {
   "cell_type": "code",
   "execution_count": 75,
   "metadata": {},
   "outputs": [
    {
     "name": "stdout",
     "output_type": "stream",
     "text": [
      "\n",
      "\u001b[1m\u001b[38;5;232m\u001b[48;5;43m N E X T F L O W \u001b[0;2m  ~  \u001b[mversion 24.04.4\u001b[m\n",
      "\u001b[K\n",
      "Launching\u001b[35m `basics_processes.nf` \u001b[0;2m[\u001b[0;1;36msmall_solvay\u001b[0;2m] DSL2 - \u001b[36mrevision: \u001b[0;36mfc006e6e6b\u001b[m\n",
      "\u001b[K\n",
      "\u001b[2m[\u001b[0;34m-        \u001b[0;2m] \u001b[0;2m\u001b[mSAYHELLO -\u001b[K\n",
      "\u001b[2A\n",
      "\u001b[2m[\u001b[0;34m-        \u001b[0;2m] \u001b[0;2m\u001b[mSAYHELLO\u001b[2m |\u001b[m 0 of 1\u001b[K\n",
      "\u001b[2A\n",
      "\u001b[2mexecutor >  local (1)\u001b[m\u001b[K\n",
      "\u001b[2m[\u001b[0;34mab/112ae1\u001b[0;2m] \u001b[0;2m\u001b[mSAYHELLO\u001b[2m |\u001b[m 1 of 1\u001b[32m ✔\u001b[m\u001b[K\n",
      "Hello World!\u001b[K\n",
      "\u001b[K\n",
      "\u001b[5A\n",
      "\u001b[2mexecutor >  local (1)\u001b[m\u001b[K\n",
      "\u001b[2m[\u001b[0;34mab/112ae1\u001b[0;2m] \u001b[0;2m\u001b[mSAYHELLO\u001b[2m |\u001b[m 1 of 1\u001b[32m ✔\u001b[m\u001b[K\n",
      "Hello World!\u001b[K\n",
      "\u001b[K\n",
      "\n"
     ]
    }
   ],
   "source": [
    "# Task 1 - create a process that says Hello World! (add debug true to the process right after initializing to be sable to print the output to the console)\n",
    "!nextflow run basics_processes.nf --step 1"
   ]
  },
  {
   "cell_type": "code",
   "execution_count": 76,
   "metadata": {},
   "outputs": [
    {
     "name": "stdout",
     "output_type": "stream",
     "text": [
      "\n",
      "\u001b[1m\u001b[38;5;232m\u001b[48;5;43m N E X T F L O W \u001b[0;2m  ~  \u001b[mversion 24.04.4\u001b[m\n",
      "\u001b[K\n",
      "Launching\u001b[35m `basics_processes.nf` \u001b[0;2m[\u001b[0;1;36madmiring_bell\u001b[0;2m] DSL2 - \u001b[36mrevision: \u001b[0;36mfc006e6e6b\u001b[m\n",
      "\u001b[K\n",
      "\u001b[2m[\u001b[0;34m-        \u001b[0;2m] \u001b[0;2m\u001b[mSAYHELLO_PYTHON -\u001b[K\n",
      "\u001b[2A\n",
      "\u001b[2m[\u001b[0;34m-        \u001b[0;2m] \u001b[0;2m\u001b[mSAYHELLO_PYTHON\u001b[2m |\u001b[m 0 of 1\u001b[K\n",
      "\u001b[2A\n",
      "\u001b[2mexecutor >  local (1)\u001b[m\u001b[K\n",
      "\u001b[2m[\u001b[0;34m33/f262a7\u001b[0;2m] \u001b[0;2m\u001b[mSAYHELLO_PYTHON\u001b[2m |\u001b[m 1 of 1\u001b[32m ✔\u001b[m\u001b[K\n",
      "Hello World!\u001b[K\n",
      "\u001b[K\n",
      "\u001b[5A\n",
      "\u001b[2mexecutor >  local (1)\u001b[m\u001b[K\n",
      "\u001b[2m[\u001b[0;34m33/f262a7\u001b[0;2m] \u001b[0;2m\u001b[mSAYHELLO_PYTHON\u001b[2m |\u001b[m 1 of 1\u001b[32m ✔\u001b[m\u001b[K\n",
      "Hello World!\u001b[K\n",
      "\u001b[K\n",
      "\n"
     ]
    }
   ],
   "source": [
    "# Task 2 - create a process that says Hello World! using Python\n",
    "!nextflow run basics_processes.nf --step 2"
   ]
  },
  {
   "cell_type": "code",
   "execution_count": 23,
   "metadata": {},
   "outputs": [
    {
     "name": "stdout",
     "output_type": "stream",
     "text": [
      "\n",
      "\u001b[1m\u001b[38;5;232m\u001b[48;5;43m N E X T F L O W \u001b[0;2m  ~  \u001b[mversion 24.04.4\u001b[m\n",
      "\u001b[K\n",
      "Launching\u001b[35m `basics_processes.nf` \u001b[0;2m[\u001b[0;1;36minsane_mercator\u001b[0;2m] DSL2 - \u001b[36mrevision: \u001b[0;36m5f0995137b\u001b[m\n",
      "\u001b[K\n",
      "\u001b[2m[\u001b[0;34m-        \u001b[0;2m] \u001b[0;2m\u001b[mSAYHELLO_PARAM -\u001b[K\n",
      "\u001b[2A\n",
      "\u001b[2m[\u001b[0;34m-        \u001b[0;2m] \u001b[0;2m\u001b[mSAYHELLO_PARAM\u001b[2m |\u001b[m 0 of 1\u001b[K\n",
      "\u001b[2A\n",
      "\u001b[2mexecutor >  local (1)\u001b[m\u001b[K\n",
      "\u001b[2m[\u001b[0;34mac/16c624\u001b[0;2m] \u001b[0;2m\u001b[mSAYHELLO_PARAM\u001b[33;2m (\u001b[0;33m1\u001b[2m)\u001b[m\u001b[2m |\u001b[m 1 of 1\u001b[32m ✔\u001b[m\u001b[K\n",
      "Hello world!\u001b[K\n",
      "\u001b[K\n",
      "\u001b[5A\n",
      "\u001b[2mexecutor >  local (1)\u001b[m\u001b[K\n",
      "\u001b[2m[\u001b[0;34mac/16c624\u001b[0;2m] \u001b[0;2m\u001b[mSAYHELLO_PARAM\u001b[33;2m (\u001b[0;33m1\u001b[2m)\u001b[m\u001b[2m |\u001b[m 1 of 1\u001b[32m ✔\u001b[m\u001b[K\n",
      "Hello world!\u001b[K\n",
      "\u001b[K\n",
      "\n"
     ]
    }
   ],
   "source": [
    "# Task 3 - create a process that reads in the string \"Hello world!\" from a channel and write it to command line\n",
    "!nextflow run basics_processes.nf --step 3"
   ]
  },
  {
   "cell_type": "code",
   "execution_count": 25,
   "metadata": {},
   "outputs": [
    {
     "name": "stdout",
     "output_type": "stream",
     "text": [
      "\n",
      "\u001b[1m\u001b[38;5;232m\u001b[48;5;43m N E X T F L O W \u001b[0;2m  ~  \u001b[mversion 24.04.4\u001b[m\n",
      "\u001b[K\n",
      "Launching\u001b[35m `basics_processes.nf` \u001b[0;2m[\u001b[0;1;36mshrivelled_gautier\u001b[0;2m] DSL2 - \u001b[36mrevision: \u001b[0;36m5f0995137b\u001b[m\n",
      "\u001b[K\n",
      "\u001b[2m[\u001b[0;34m-        \u001b[0;2m] \u001b[0;2m\u001b[mSAYHELLO_FILE -\u001b[K\n",
      "\u001b[2A\n",
      "\u001b[2m[\u001b[0;34m-        \u001b[0;2m] \u001b[0;2m\u001b[mSAYHELLO_FILE\u001b[2m |\u001b[m 0 of 1\u001b[K\n",
      "\u001b[2A\n",
      "\u001b[2mexecutor >  local (1)\u001b[m\u001b[K\n",
      "\u001b[2m[\u001b[0;34m96/a30ef0\u001b[0;2m] \u001b[0;2m\u001b[mSAYHELLO_FILE\u001b[33;2m (\u001b[0;33m1\u001b[2m)\u001b[m\u001b[2m |\u001b[m 0 of 1\u001b[K\n",
      "\u001b[3A\n",
      "\u001b[2mexecutor >  local (1)\u001b[m\u001b[K\n",
      "\u001b[2m[\u001b[0;34m96/a30ef0\u001b[0;2m] \u001b[0;2m\u001b[mSAYHELLO_FILE\u001b[33;2m (\u001b[0;33m1\u001b[2m)\u001b[m\u001b[2m |\u001b[m 1 of 1\u001b[32m ✔\u001b[m\u001b[K\n",
      "\n"
     ]
    }
   ],
   "source": [
    "# Task 4 - create a process that reads in the string \"Hello world!\" from a channel and write it to a file. \n",
    "!nextflow run basics_processes.nf --step 4"
   ]
  },
  {
   "cell_type": "markdown",
   "metadata": {},
   "source": [
    "It might be that you created the file but it doesnt appear in the directory. Use the work folder and the output on the command line to find the file."
   ]
  },
  {
   "cell_type": "code",
   "execution_count": 30,
   "metadata": {},
   "outputs": [
    {
     "name": "stdout",
     "output_type": "stream",
     "text": [
      "./work/96/a30ef0b543e9ef0aaec08250120c9d/greeting.txt\n"
     ]
    }
   ],
   "source": [
    "! find ./work -name \"greeting*\""
   ]
  },
  {
   "cell_type": "code",
   "execution_count": 31,
   "metadata": {},
   "outputs": [
    {
     "name": "stdout",
     "output_type": "stream",
     "text": [
      "\n",
      "\u001b[1m\u001b[38;5;232m\u001b[48;5;43m N E X T F L O W \u001b[0;2m  ~  \u001b[mversion 24.04.4\u001b[m\n",
      "\u001b[K\n",
      "Launching\u001b[35m `basics_processes.nf` \u001b[0;2m[\u001b[0;1;36mgrave_mendel\u001b[0;2m] DSL2 - \u001b[36mrevision: \u001b[0;36m5f0995137b\u001b[m\n",
      "\u001b[K\n",
      "\u001b[2m[\u001b[0;34m-        \u001b[0;2m] \u001b[0;2m\u001b[mUPPERCASE -\u001b[K\n",
      "\u001b[2A\n",
      "\u001b[2mexecutor >  local (1)\u001b[m\u001b[K\n",
      "\u001b[2m[\u001b[0;34mcf/f22c5d\u001b[0;2m] \u001b[0;2m\u001b[mUPPERCASE\u001b[33;2m (\u001b[0;33m1\u001b[2m)\u001b[m\u001b[2m |\u001b[m 0 of 1\u001b[K\n",
      "\u001b[3A\n",
      "\u001b[2mexecutor >  local (1)\u001b[m\u001b[K\n",
      "\u001b[2m[\u001b[0;34mcf/f22c5d\u001b[0;2m] \u001b[0;2m\u001b[mUPPERCASE\u001b[33;2m (\u001b[0;33m1\u001b[2m)\u001b[m\u001b[2m |\u001b[m 1 of 1\u001b[32m ✔\u001b[m\u001b[K\n",
      "/home/maikenaegele/ComputationalWorkflow/Sheet 5/work/cf/f22c5d9d9984aa648e94cfcf9405ed/uppercase_greeting.txt\u001b[K\n",
      "\n"
     ]
    }
   ],
   "source": [
    "# Task 5 - create a process that reads in a string and converts it to uppercase and saves it to a file as output.\n",
    "# View the path to the file in the console\n",
    "!nextflow run basics_processes.nf --step 5\n"
   ]
  },
  {
   "cell_type": "code",
   "execution_count": 200,
   "metadata": {},
   "outputs": [
    {
     "name": "stdout",
     "output_type": "stream",
     "text": [
      "\n",
      "\u001b[1m\u001b[38;5;232m\u001b[48;5;43m N E X T F L O W \u001b[0;2m  ~  \u001b[mversion 24.04.4\u001b[m\n",
      "\u001b[K\n",
      "Launching\u001b[35m `basics_processes.nf` \u001b[0;2m[\u001b[0;1;36mwise_meitner\u001b[0;2m] DSL2 - \u001b[36mrevision: \u001b[0;36mf680e346d6\u001b[m\n",
      "\u001b[K\n",
      "\u001b[2m[\u001b[0;34m-        \u001b[0;2m] \u001b[0;2m\u001b[mUPPERCASE  -\u001b[K\n",
      "\u001b[2m[\u001b[0;34m-        \u001b[0;2m] \u001b[0;2m\u001b[mPRINTUPPER -\u001b[K\n",
      "\u001b[3A\n",
      "\u001b[2m[\u001b[0;34m-        \u001b[0;2m] \u001b[0;2m\u001b[mUPPERCASE \u001b[2m |\u001b[m 0 of 1\u001b[K\n",
      "\u001b[2m[\u001b[0;34m-        \u001b[0;2m] \u001b[0;2m\u001b[mPRINTUPPER -\u001b[K\n",
      "\u001b[3A\n",
      "\u001b[2mexecutor >  local (2)\u001b[m\u001b[K\n",
      "\u001b[2m[\u001b[0;34m56/e2f646\u001b[0;2m] \u001b[0;2m\u001b[mUPPERCASE\u001b[33;2m (\u001b[0;33m1\u001b[2m)\u001b[m \u001b[2m |\u001b[m 1 of 1\u001b[32m ✔\u001b[m\u001b[K\n",
      "\u001b[2m[\u001b[0;34mc3/130d99\u001b[0;2m] \u001b[0;2m\u001b[mPRINTUPPER\u001b[33;2m (\u001b[0;33m1\u001b[2m)\u001b[m\u001b[2m |\u001b[m 0 of 1\u001b[32m ✔\u001b[m\u001b[K\n",
      "HELLO WORLD!\u001b[K\n",
      "\u001b[K\n",
      "\u001b[6A\n",
      "\u001b[2mexecutor >  local (2)\u001b[m\u001b[K\n",
      "\u001b[2m[\u001b[0;34m56/e2f646\u001b[0;2m] \u001b[0;2m\u001b[mUPPERCASE\u001b[33;2m (\u001b[0;33m1\u001b[2m)\u001b[m \u001b[2m |\u001b[m 1 of 1\u001b[32m ✔\u001b[m\u001b[K\n",
      "\u001b[2m[\u001b[0;34mc3/130d99\u001b[0;2m] \u001b[0;2m\u001b[mPRINTUPPER\u001b[33;2m (\u001b[0;33m1\u001b[2m)\u001b[m\u001b[2m |\u001b[m 1 of 1\u001b[32m ✔\u001b[m\u001b[K\n",
      "HELLO WORLD!\u001b[K\n",
      "\u001b[K\n",
      "\n"
     ]
    }
   ],
   "source": [
    "# Task 6 - add another process that reads in the resulting file from UPPERCASE and print the content to the console (debug true).\n",
    "!nextflow run basics_processes.nf --step 6"
   ]
  },
  {
   "cell_type": "code",
   "execution_count": 32,
   "metadata": {},
   "outputs": [
    {
     "name": "stdout",
     "output_type": "stream",
     "text": [
      "./work/cf/f22c5d9d9984aa648e94cfcf9405ed/uppercase_greeting.txt\n"
     ]
    }
   ],
   "source": [
    "! find ./work -name \"uppercase_greeting*\""
   ]
  },
  {
   "cell_type": "markdown",
   "metadata": {},
   "source": [
    "Comared to all the other runs. What changed in the output here and why?"
   ]
  },
  {
   "cell_type": "markdown",
   "metadata": {},
   "source": [
    "In the latest run, there are two processes (UPPERCASE and PRINTUPPER) being executed, while in previous runs, there have been only one process.<br>\n",
    "Each process is responsible for a specific task.<br>\n",
    "The UPPERCASE process transforms a string to uppercase which the process PRINTUPPER takes as the input and prints it.\n",
    "This allows for modular workflows where different operations can be defined separately and connected logically, meaning the output of one process can be used as the input to another."
   ]
  },
  {
   "cell_type": "code",
   "execution_count": 33,
   "metadata": {},
   "outputs": [
    {
     "name": "stdout",
     "output_type": "stream",
     "text": [
      "\n",
      "\u001b[1m\u001b[38;5;232m\u001b[48;5;43m N E X T F L O W \u001b[0;2m  ~  \u001b[mversion 24.04.4\u001b[m\n",
      "\u001b[K\n",
      "Launching\u001b[35m `basics_processes.nf` \u001b[0;2m[\u001b[0;1;36melated_joliot\u001b[0;2m] DSL2 - \u001b[36mrevision: \u001b[0;36m5f0995137b\u001b[m\n",
      "\u001b[K\n",
      "\u001b[2m[\u001b[0;34m-        \u001b[0;2m] \u001b[0;2m\u001b[mUPPERCASE         -\u001b[K\n",
      "\u001b[2m[\u001b[0;34m-        \u001b[0;2m] \u001b[0;2m\u001b[mZIPFILE_PARAMETER -\u001b[K\n",
      "\u001b[3A\n",
      "\u001b[2mexecutor >  local (1)\u001b[m\u001b[K\n",
      "\u001b[2m[\u001b[0;34m01/527e8b\u001b[0;2m] \u001b[0;2m\u001b[mUPPERCASE\u001b[33;2m (\u001b[0;33m1\u001b[2m)\u001b[m    \u001b[2m |\u001b[m 0 of 1\u001b[K\n",
      "\u001b[2m[\u001b[0;34m-        \u001b[0;2m] \u001b[0;2m\u001b[mZIPFILE_PARAMETER -\u001b[K\n",
      "\u001b[4A\n",
      "\u001b[2mexecutor >  local (1)\u001b[m\u001b[K\n",
      "\u001b[2m[\u001b[0;34m01/527e8b\u001b[0;2m] \u001b[0;2m\u001b[mUPPERCASE\u001b[33;2m (\u001b[0;33m1\u001b[2m)\u001b[m    \u001b[2m |\u001b[m 1 of 1\u001b[32m ✔\u001b[m\u001b[K\n",
      "\u001b[2m[\u001b[0;34m-        \u001b[0;2m] \u001b[0;2m\u001b[mZIPFILE_PARAMETER -\u001b[K\n",
      "\u001b[4A\n",
      "\u001b[2mexecutor >  local (2)\u001b[m\u001b[K\n",
      "\u001b[2m[\u001b[0;34m01/527e8b\u001b[0;2m] \u001b[0;2m\u001b[mUPPERCASE\u001b[33;2m (\u001b[0;33m1\u001b[2m)\u001b[m        \u001b[2m |\u001b[m 1 of 1\u001b[32m ✔\u001b[m\u001b[K\n",
      "\u001b[2m[\u001b[0;34m85/c3a8e2\u001b[0;2m] \u001b[0;2m\u001b[mZIPFILE_PARAMETER\u001b[33;2m (\u001b[0;33m1\u001b[2m)\u001b[m\u001b[2m |\u001b[m 1 of 1\u001b[32m ✔\u001b[m\u001b[K\n",
      "/home/maikenaegele/ComputationalWorkflow/Sheet 5/work/85/c3a8e231ee0ba9d5b194e3bf355928/uppercase_greeting.txt.bz2\u001b[K\n",
      "\u001b[5A\n",
      "\u001b[2mexecutor >  local (2)\u001b[m\u001b[K\n",
      "\u001b[2m[\u001b[0;34m01/527e8b\u001b[0;2m] \u001b[0;2m\u001b[mUPPERCASE\u001b[33;2m (\u001b[0;33m1\u001b[2m)\u001b[m        \u001b[2m |\u001b[m 1 of 1\u001b[32m ✔\u001b[m\u001b[K\n",
      "\u001b[2m[\u001b[0;34m85/c3a8e2\u001b[0;2m] \u001b[0;2m\u001b[mZIPFILE_PARAMETER\u001b[33;2m (\u001b[0;33m1\u001b[2m)\u001b[m\u001b[2m |\u001b[m 1 of 1\u001b[32m ✔\u001b[m\u001b[K\n",
      "/home/maikenaegele/ComputationalWorkflow/Sheet 5/work/85/c3a8e231ee0ba9d5b194e3bf355928/uppercase_greeting.txt.bz2\u001b[K\n",
      "\n"
     ]
    }
   ],
   "source": [
    "# Task 7 - based on the paramater \"zip\" (see at the head of the file), create a process that zips the file created in the UPPERCASE process either in \"zip\", \"gzip\" OR \"bzip2\" format.\n",
    "#          Print out the path to the zipped file in the console\n",
    "!nextflow run basics_processes.nf --step 7"
   ]
  },
  {
   "cell_type": "code",
   "execution_count": 34,
   "metadata": {},
   "outputs": [
    {
     "name": "stdout",
     "output_type": "stream",
     "text": [
      "\n",
      "\u001b[1m\u001b[38;5;232m\u001b[48;5;43m N E X T F L O W \u001b[0;2m  ~  \u001b[mversion 24.04.4\u001b[m\n",
      "\u001b[K\n",
      "Launching\u001b[35m `basics_processes.nf` \u001b[0;2m[\u001b[0;1;36mdreamy_angela\u001b[0;2m] DSL2 - \u001b[36mrevision: \u001b[0;36m5f0995137b\u001b[m\n",
      "\u001b[K\n",
      "\u001b[2m[\u001b[0;34m-        \u001b[0;2m] \u001b[0;2m\u001b[mUPPERCASE -\u001b[K\n",
      "\u001b[2A\n",
      "\u001b[2m[\u001b[0;34m-        \u001b[0;2m] \u001b[0;2m\u001b[mUPPERCASE -\u001b[K\n",
      "\u001b[2m[\u001b[0;34m-        \u001b[0;2m] \u001b[0;2m\u001b[mZIPFILE   -\u001b[K\n",
      "\u001b[3A\n",
      "\u001b[2m[\u001b[0;34m-        \u001b[0;2m] \u001b[0;2m\u001b[mUPPERCASE\u001b[2m |\u001b[m 0 of 1\u001b[K\n",
      "\u001b[2m[\u001b[0;34m-        \u001b[0;2m] \u001b[0;2m\u001b[mZIPFILE   -\u001b[K\n",
      "\u001b[3A\n",
      "\u001b[2mexecutor >  local (2)\u001b[m\u001b[K\n",
      "\u001b[2m[\u001b[0;34m07/75f2af\u001b[0;2m] \u001b[0;2m\u001b[mUPPERCASE\u001b[33;2m (\u001b[0;33m1\u001b[2m)\u001b[m\u001b[2m |\u001b[m 1 of 1\u001b[32m ✔\u001b[m\u001b[K\n",
      "\u001b[2m[\u001b[0;34md3/5f8f04\u001b[0;2m] \u001b[0;2m\u001b[mZIPFILE\u001b[33;2m (\u001b[0;33m1\u001b[2m)\u001b[m  \u001b[2m |\u001b[m 0 of 1\u001b[K\n",
      "\u001b[4A\n",
      "\u001b[2mexecutor >  local (2)\u001b[m\u001b[K\n",
      "\u001b[2m[\u001b[0;34m07/75f2af\u001b[0;2m] \u001b[0;2m\u001b[mUPPERCASE\u001b[33;2m (\u001b[0;33m1\u001b[2m)\u001b[m\u001b[2m |\u001b[m 1 of 1\u001b[32m ✔\u001b[m\u001b[K\n",
      "\u001b[2m[\u001b[0;34md3/5f8f04\u001b[0;2m] \u001b[0;2m\u001b[mZIPFILE\u001b[33;2m (\u001b[0;33m1\u001b[2m)\u001b[m  \u001b[2m |\u001b[m 1 of 1\u001b[32m ✔\u001b[m\u001b[K\n",
      "[/home/maikenaegele/ComputationalWorkflow/Sheet 5/work/d3/5f8f04ca022a207337110485ea8f24/uppercase_greeting.txt.bz2, /home/maikenaegele/ComputationalWorkflow/Sheet 5/work/d3/5f8f04ca022a207337110485ea8f24/uppercase_greeting.txt.gz, /home/maikenaegele/ComputationalWorkflow/Sheet 5/work/d3/5f8f04ca022a207337110485ea8f24/uppercase_greeting.txt.zip]\u001b[K\n",
      "\n"
     ]
    }
   ],
   "source": [
    "# Task 8 - Create a process that zips the file created in the UPPERCASE process in \"zip\", \"gzip\" AND \"bzip2\" format. Print out the paths to the zipped files in the console\n",
    "!nextflow run basics_processes.nf --step 8"
   ]
  },
  {
   "cell_type": "code",
   "execution_count": 218,
   "metadata": {},
   "outputs": [
    {
     "name": "stdout",
     "output_type": "stream",
     "text": [
      "\n",
      "\u001b[1m\u001b[38;5;232m\u001b[48;5;43m N E X T F L O W \u001b[0;2m  ~  \u001b[mversion 24.04.4\u001b[m\n",
      "\u001b[K\n",
      "Launching\u001b[35m `basics_processes.nf` \u001b[0;2m[\u001b[0;1;36mnauseous_stone\u001b[0;2m] DSL2 - \u001b[36mrevision: \u001b[0;36mf46888aab8\u001b[m\n",
      "\u001b[K\n",
      "\u001b[2m[\u001b[0;34m-        \u001b[0;2m] \u001b[0;2m\u001b[mWRITETOFILE -\u001b[K\n",
      "\u001b[2A\n",
      "\u001b[2m[\u001b[0;34m-        \u001b[0;2m] \u001b[0;2m\u001b[mWRITETOFILE\u001b[2m |\u001b[m 0 of 7\u001b[K\n",
      "\u001b[2A\n",
      "\u001b[2mexecutor >  local (7)\u001b[m\u001b[K\n",
      "\u001b[2m[\u001b[0;34mbc/99b7f7\u001b[0;2m] \u001b[0;2m\u001b[mWRITETOFILE\u001b[33;2m (\u001b[0;33m2\u001b[2m)\u001b[m\u001b[2m |\u001b[m 7 of 7\u001b[32m ✔\u001b[m\u001b[K\n",
      "\u001b[3A\n",
      "\u001b[2mexecutor >  local (7)\u001b[m\u001b[K\n",
      "\u001b[2m[\u001b[0;34mbc/99b7f7\u001b[0;2m] \u001b[0;2m\u001b[mWRITETOFILE\u001b[33;2m (\u001b[0;33m2\u001b[2m)\u001b[m\u001b[2m |\u001b[m 7 of 7\u001b[32m ✔\u001b[m\u001b[K\n",
      "results/names.tsv\u001b[K\n",
      "\u001b[4A\n",
      "\u001b[2mexecutor >  local (7)\u001b[m\u001b[K\n",
      "\u001b[2m[\u001b[0;34mbc/99b7f7\u001b[0;2m] \u001b[0;2m\u001b[mWRITETOFILE\u001b[33;2m (\u001b[0;33m2\u001b[2m)\u001b[m\u001b[2m |\u001b[m 7 of 7\u001b[32m ✔\u001b[m\u001b[K\n",
      "results/names.tsv\u001b[K\n",
      "\n"
     ]
    }
   ],
   "source": [
    " # Task 9 - Create a process that reads in a list of names and titles from a channel and writes them to a file.\n",
    "#           Store the file in the \"results\" directory under the name \"names.tsv\"\n",
    "!nextflow run basics_processes.nf --step 9"
   ]
  },
  {
   "cell_type": "code",
   "execution_count": 35,
   "metadata": {},
   "outputs": [
    {
     "data": {
      "text/html": [
       "<div>\n",
       "<style scoped>\n",
       "    .dataframe tbody tr th:only-of-type {\n",
       "        vertical-align: middle;\n",
       "    }\n",
       "\n",
       "    .dataframe tbody tr th {\n",
       "        vertical-align: top;\n",
       "    }\n",
       "\n",
       "    .dataframe thead th {\n",
       "        text-align: right;\n",
       "    }\n",
       "</style>\n",
       "<table border=\"1\" class=\"dataframe\">\n",
       "  <thead>\n",
       "    <tr style=\"text-align: right;\">\n",
       "      <th></th>\n",
       "      <th>name</th>\n",
       "      <th>title</th>\n",
       "    </tr>\n",
       "  </thead>\n",
       "  <tbody>\n",
       "    <tr>\n",
       "      <th>0</th>\n",
       "      <td>Albus</td>\n",
       "      <td>headmaster</td>\n",
       "    </tr>\n",
       "    <tr>\n",
       "      <th>1</th>\n",
       "      <td>Dobby</td>\n",
       "      <td>hero</td>\n",
       "    </tr>\n",
       "    <tr>\n",
       "      <th>2</th>\n",
       "      <td>Harry</td>\n",
       "      <td>student</td>\n",
       "    </tr>\n",
       "    <tr>\n",
       "      <th>3</th>\n",
       "      <td>Ron</td>\n",
       "      <td>student</td>\n",
       "    </tr>\n",
       "    <tr>\n",
       "      <th>4</th>\n",
       "      <td>Hermione</td>\n",
       "      <td>student</td>\n",
       "    </tr>\n",
       "    <tr>\n",
       "      <th>5</th>\n",
       "      <td>Snape</td>\n",
       "      <td>teacher</td>\n",
       "    </tr>\n",
       "    <tr>\n",
       "      <th>6</th>\n",
       "      <td>Hagrid</td>\n",
       "      <td>groundkeeper</td>\n",
       "    </tr>\n",
       "  </tbody>\n",
       "</table>\n",
       "</div>"
      ],
      "text/plain": [
       "       name         title\n",
       "0     Albus    headmaster\n",
       "1     Dobby          hero\n",
       "2     Harry       student\n",
       "3       Ron       student\n",
       "4  Hermione       student\n",
       "5     Snape       teacher\n",
       "6    Hagrid  groundkeeper"
      ]
     },
     "execution_count": 35,
     "metadata": {},
     "output_type": "execute_result"
    }
   ],
   "source": [
    "import pandas as pd\n",
    "\n",
    "df = pd.read_csv(\"results/names.tsv\", sep=\"\\t\")\n",
    "df"
   ]
  },
  {
   "cell_type": "markdown",
   "metadata": {},
   "source": [
    "## Now, let's try some more advanced Operators"
   ]
  },
  {
   "cell_type": "markdown",
   "metadata": {},
   "source": [
    "Please answer the questions in $\\texttt{advanced\\_channel\\_operations.nf}$ and run the code here. "
   ]
  },
  {
   "cell_type": "markdown",
   "metadata": {},
   "source": [
    "To come closer to actual pipelines, we introduce the concept of \"meta-maps\" which you can imagine as dictionaries that are passed with data via channels containing crucial metadata on the sample. \n",
    "\n",
    "Also, we will come back to samplesheets which you should remember from last week."
   ]
  },
  {
   "cell_type": "code",
   "execution_count": 62,
   "metadata": {},
   "outputs": [
    {
     "name": "stdout",
     "output_type": "stream",
     "text": [
      "\n",
      "\u001b[1m\u001b[38;5;232m\u001b[48;5;43m N E X T F L O W \u001b[0;2m  ~  \u001b[mversion 24.04.4\u001b[m\n",
      "\u001b[K\n",
      "Launching\u001b[35m `advanced_channel_operations.nf` \u001b[0;2m[\u001b[0;1;36mfervent_curry\u001b[0;2m] DSL2 - \u001b[36mrevision: \u001b[0;36mab03679917\u001b[m\n",
      "\u001b[K\n",
      "[sample:CONTROL_REP1, fastq_1:fq_1_R1.fastq.gz, fastq_2:fq_1_R2.fastq.gz, strandedness:auto]\n",
      "[sample:CONTROL_REP2, fastq_1:fq_2_R1.fastq.gz, fastq_2:fq_2_R2.fastq.gz, strandedness:forward]\n",
      "[sample:CONTROL_REP3, fastq_1:fq_3_R1.fastq.gz, fastq_2:fq_3_R2.fastq.gz, strandedness:reverse]\n",
      "[sample:CONTROL_REP1, fastq_1:fq_4_R1.fastq.gz, fastq_2:fq_4_R2.fastq.gz, strandedness:auto]\n"
     ]
    }
   ],
   "source": [
    "# Task 1 - Read in the samplesheet.\n",
    "\n",
    "!nextflow run advanced_channel_operations.nf --step 1"
   ]
  },
  {
   "cell_type": "code",
   "execution_count": 63,
   "metadata": {},
   "outputs": [
    {
     "name": "stdout",
     "output_type": "stream",
     "text": [
      "\n",
      "\u001b[1m\u001b[38;5;232m\u001b[48;5;43m N E X T F L O W \u001b[0;2m  ~  \u001b[mversion 24.04.4\u001b[m\n",
      "\u001b[K\n",
      "Launching\u001b[35m `advanced_channel_operations.nf` \u001b[0;2m[\u001b[0;1;36mextravagant_fourier\u001b[0;2m] DSL2 - \u001b[36mrevision: \u001b[0;36mab03679917\u001b[m\n",
      "\u001b[K\n",
      "[[sample:CONTROL_REP1, strandedness:auto], [/home/maikenaegele/Computational Workflow/Sheet 5/fq_1_R1.fastq.gz, /home/maikenaegele/Computational Workflow/Sheet 5/fq_1_R2.fastq.gz]]\n",
      "[[sample:CONTROL_REP2, strandedness:forward], [/home/maikenaegele/Computational Workflow/Sheet 5/fq_2_R1.fastq.gz, /home/maikenaegele/Computational Workflow/Sheet 5/fq_2_R2.fastq.gz]]\n",
      "[[sample:CONTROL_REP3, strandedness:reverse], [/home/maikenaegele/Computational Workflow/Sheet 5/fq_3_R1.fastq.gz, /home/maikenaegele/Computational Workflow/Sheet 5/fq_3_R2.fastq.gz]]\n",
      "[[sample:CONTROL_REP1, strandedness:auto], [/home/maikenaegele/Computational Workflow/Sheet 5/fq_4_R1.fastq.gz, /home/maikenaegele/Computational Workflow/Sheet 5/fq_4_R2.fastq.gz]]\n"
     ]
    }
   ],
   "source": [
    "# Task 2 - Read in the samplesheet and create a meta-map with all metadata and another list with the filenames ([[metadata_1 : metadata_1, ...], [fastq_1, fastq_2]]).\n",
    "#          Set the output to a new channel \"in_ch\" and view the channel. YOU WILL NEED TO COPY AND PASTE THIS CODE INTO SOME OF THE FOLLOWING TASKS (sorry for that).\n",
    "\n",
    "!nextflow run advanced_channel_operations.nf --step 2"
   ]
  },
  {
   "cell_type": "code",
   "execution_count": 36,
   "metadata": {},
   "outputs": [
    {
     "name": "stdout",
     "output_type": "stream",
     "text": [
      "\n",
      "\u001b[1m\u001b[38;5;232m\u001b[48;5;43m N E X T F L O W \u001b[0;2m  ~  \u001b[mversion 24.04.4\u001b[m\n",
      "\u001b[K\n",
      "Launching\u001b[35m `advanced_channel_operations.nf` \u001b[0;2m[\u001b[0;1;36mstupefied_tuckerman\u001b[0;2m] DSL2 - \u001b[36mrevision: \u001b[0;36mae2e7e9464\u001b[m\n",
      "\u001b[K\n",
      "[DUMP: auto] [['sample':'CONTROL_REP1', 'strandedness':'auto'], [/home/maikenaegele/ComputationalWorkflow/Sheet 5/fq_1_R1.fastq.gz, /home/maikenaegele/ComputationalWorkflow/Sheet 5/fq_1_R2.fastq.gz]]\n",
      "[DUMP: reverse] [['sample':'CONTROL_REP3', 'strandedness':'reverse'], [/home/maikenaegele/ComputationalWorkflow/Sheet 5/fq_3_R1.fastq.gz, /home/maikenaegele/ComputationalWorkflow/Sheet 5/fq_3_R2.fastq.gz]]\n",
      "[DUMP: forward] [['sample':'CONTROL_REP2', 'strandedness':'forward'], [/home/maikenaegele/ComputationalWorkflow/Sheet 5/fq_2_R1.fastq.gz, /home/maikenaegele/ComputationalWorkflow/Sheet 5/fq_2_R2.fastq.gz]]\n",
      "[DUMP: auto] [['sample':'CONTROL_REP1', 'strandedness':'auto'], [/home/maikenaegele/ComputationalWorkflow/Sheet 5/fq_4_R1.fastq.gz, /home/maikenaegele/ComputationalWorkflow/Sheet 5/fq_4_R2.fastq.gz]]\n"
     ]
    }
   ],
   "source": [
    "# Task 3 - Now we assume that we want to handle different \"strandedness\" values differently. \n",
    "#          Split the channel into the right amount of channels and write them all to stdout so that we can understand which is which.\n",
    "\n",
    "!nextflow run advanced_channel_operations.nf --step 3 -dump-channels"
   ]
  },
  {
   "cell_type": "code",
   "execution_count": 37,
   "metadata": {},
   "outputs": [
    {
     "name": "stdout",
     "output_type": "stream",
     "text": [
      "\n",
      "\u001b[1m\u001b[38;5;232m\u001b[48;5;43m N E X T F L O W \u001b[0;2m  ~  \u001b[mversion 24.04.4\u001b[m\n",
      "\u001b[K\n",
      "Launching\u001b[35m `advanced_channel_operations.nf` \u001b[0;2m[\u001b[0;1;36mcranky_aryabhata\u001b[0;2m] DSL2 - \u001b[36mrevision: \u001b[0;36mae2e7e9464\u001b[m\n",
      "\u001b[K\n",
      "[[sample:CONTROL_REP1, strandedness:auto], [[/home/maikenaegele/ComputationalWorkflow/Sheet 5/fq_1_R1.fastq.gz, /home/maikenaegele/ComputationalWorkflow/Sheet 5/fq_1_R2.fastq.gz], [/home/maikenaegele/ComputationalWorkflow/Sheet 5/fq_4_R1.fastq.gz, /home/maikenaegele/ComputationalWorkflow/Sheet 5/fq_4_R2.fastq.gz]]]\n",
      "[[sample:CONTROL_REP2, strandedness:forward], [[/home/maikenaegele/ComputationalWorkflow/Sheet 5/fq_2_R1.fastq.gz, /home/maikenaegele/ComputationalWorkflow/Sheet 5/fq_2_R2.fastq.gz]]]\n",
      "[[sample:CONTROL_REP3, strandedness:reverse], [[/home/maikenaegele/ComputationalWorkflow/Sheet 5/fq_3_R1.fastq.gz, /home/maikenaegele/ComputationalWorkflow/Sheet 5/fq_3_R2.fastq.gz]]]\n"
     ]
    }
   ],
   "source": [
    "# Task 4 - Group together all files with the same sample-id and strandedness value.\n",
    "\n",
    "!nextflow run advanced_channel_operations.nf --step 4"
   ]
  },
  {
   "cell_type": "markdown",
   "metadata": {},
   "source": [
    "## It's finally time to link processes and channels with each other"
   ]
  },
  {
   "cell_type": "markdown",
   "metadata": {},
   "source": [
    "Please go to the file $\\texttt{link\\_p\\_c.nf}$"
   ]
  },
  {
   "cell_type": "code",
   "execution_count": 2,
   "metadata": {},
   "outputs": [
    {
     "name": "stdout",
     "output_type": "stream",
     "text": [
      "\n",
      "\u001b[1m\u001b[38;5;232m\u001b[48;5;43m N E X T F L O W \u001b[0;2m  ~  \u001b[mversion 24.04.4\u001b[m\n",
      "\u001b[K\n",
      "Launching\u001b[35m `link_p_c.nf` \u001b[0;2m[\u001b[0;1;36mdetermined_lovelace\u001b[0;2m] DSL2 - \u001b[36mrevision: \u001b[0;36ma78c17bdb9\u001b[m\n",
      "\u001b[K\n",
      "\u001b[2m[\u001b[0;34m-        \u001b[0;2m] \u001b[0;2m\u001b[mSPLITLETTERS   -\u001b[K\n",
      "\u001b[2m[\u001b[0;34m-        \u001b[0;2m] \u001b[0;2m\u001b[mCONVERTTOUPPER -\u001b[K\n",
      "\u001b[3A\n",
      "\u001b[2m[\u001b[0;34m-        \u001b[0;2m] \u001b[0;2m\u001b[mSPLITLETTERS  \u001b[2m |\u001b[m 0 of 2\u001b[K\n",
      "\u001b[2m[\u001b[0;34m-        \u001b[0;2m] \u001b[0;2m\u001b[mCONVERTTOUPPER -\u001b[K\n",
      "\u001b[3A\n",
      "\u001b[2mexecutor >  local (2)\u001b[m\u001b[K\n",
      "\u001b[2m[\u001b[0;34mff/02890c\u001b[0;2m] \u001b[0;2m\u001b[mSPLITLETTERS\u001b[33;2m (\u001b[0;33m1\u001b[2m)\u001b[m\u001b[2m |\u001b[m 2 of 2\u001b[32m ✔\u001b[m\u001b[K\n",
      "\u001b[2m[\u001b[0;34m-        \u001b[0;2m] \u001b[0;2m\u001b[mCONVERTTOUPPER   -\u001b[K\n",
      "\u001b[4A\n",
      "\u001b[2mexecutor >  local (10)\u001b[m\u001b[K\n",
      "\u001b[2m[\u001b[0;34mff/02890c\u001b[0;2m] \u001b[0;2m\u001b[mSPLITLETTERS\u001b[33;2m (\u001b[0;33m1\u001b[2m)\u001b[m  \u001b[2m |\u001b[m 2 of 2\u001b[32m ✔\u001b[m\u001b[K\n",
      "\u001b[2m[\u001b[0;34m3e/48e904\u001b[0;2m] \u001b[0;2m\u001b[mCONVERTTOUPPER\u001b[33;2m (\u001b[0;33m2\u001b[2m)\u001b[m\u001b[2m |\u001b[m 6 of 11\u001b[K\n",
      "PUT\u001b[K\n",
      "HELL\u001b[K\n",
      "ONA\u001b[K\n",
      "L W\u001b[K\n",
      "ATI\u001b[K\n",
      "O WO\u001b[K\n",
      "\u001b[10A\n",
      "\u001b[2mexecutor >  local (13)\u001b[m\u001b[K\n",
      "\u001b[2m[\u001b[0;34mff/02890c\u001b[0;2m] \u001b[0;2m\u001b[mSPLITLETTERS\u001b[33;2m (\u001b[0;33m1\u001b[2m)\u001b[m   \u001b[2m |\u001b[m 2 of 2\u001b[32m ✔\u001b[m\u001b[K\n",
      "\u001b[2m[\u001b[0;34m62/0dfaf3\u001b[0;2m] \u001b[0;2m\u001b[mCONVERTTOUPPER\u001b[33;2m (\u001b[0;33m11\u001b[2m)\u001b[m\u001b[2m |\u001b[m 11 of 11\u001b[32m ✔\u001b[m\u001b[K\n",
      "PUT\u001b[K\n",
      "HELL\u001b[K\n",
      "ONA\u001b[K\n",
      "L W\u001b[K\n",
      "ATI\u001b[K\n",
      "O WO\u001b[K\n",
      "RLD\u001b[K\n",
      "COM\u001b[K\n",
      "ORK\u001b[K\n",
      "FLO\u001b[K\n",
      "WS\u001b[K\n",
      "\u001b[15A\n",
      "\u001b[2mexecutor >  local (13)\u001b[m\u001b[K\n",
      "\u001b[2m[\u001b[0;34mff/02890c\u001b[0;2m] \u001b[0;2m\u001b[mSPLITLETTERS\u001b[33;2m (\u001b[0;33m1\u001b[2m)\u001b[m   \u001b[2m |\u001b[m 2 of 2\u001b[32m ✔\u001b[m\u001b[K\n",
      "\u001b[2m[\u001b[0;34m62/0dfaf3\u001b[0;2m] \u001b[0;2m\u001b[mCONVERTTOUPPER\u001b[33;2m (\u001b[0;33m11\u001b[2m)\u001b[m\u001b[2m |\u001b[m 11 of 11\u001b[32m ✔\u001b[m\u001b[K\n",
      "PUT\u001b[K\n",
      "HELL\u001b[K\n",
      "ONA\u001b[K\n",
      "L W\u001b[K\n",
      "ATI\u001b[K\n",
      "O WO\u001b[K\n",
      "RLD\u001b[K\n",
      "COM\u001b[K\n",
      "ORK\u001b[K\n",
      "FLO\u001b[K\n",
      "WS\u001b[K\n",
      "\n"
     ]
    }
   ],
   "source": [
    "!nextflow run link_p_c.nf"
   ]
  },
  {
   "cell_type": "markdown",
   "metadata": {},
   "source": [
    "### Give a list with the paths to the chunk files"
   ]
  },
  {
   "cell_type": "code",
   "execution_count": null,
   "metadata": {},
   "outputs": [],
   "source": [
    "'/home/maikenaegele/ComputationalWorkflow/Sheet 5/work/68/8ff1136703e90d4464004bcb0f1f11/c_w_chunk_aa'\n",
    "'/home/maikenaegele/ComputationalWorkflow/Sheet 5/work/68/8ff1136703e90d4464004bcb0f1f11/c_w_chunk_ab'\n",
    "'/home/maikenaegele/ComputationalWorkflow/Sheet 5/work/68/8ff1136703e90d4464004bcb0f1f11/c_w_chunk_ac'\n",
    "'/home/maikenaegele/ComputationalWorkflow/Sheet 5/work/68/8ff1136703e90d4464004bcb0f1f11/c_w_chunk_ad'\n",
    "'/home/maikenaegele/ComputationalWorkflow/Sheet 5/work/68/8ff1136703e90d4464004bcb0f1f11/c_w_chunk_ae'\n",
    "'/home/maikenaegele/ComputationalWorkflow/Sheet 5/work/68/8ff1136703e90d4464004bcb0f1f11/c_w_chunk_af'\n",
    "'/home/maikenaegele/ComputationalWorkflow/Sheet 5/work/68/8ff1136703e90d4464004bcb0f1f11/c_w_chunk_ag'\n",
    "'/home/maikenaegele/ComputationalWorkflow/Sheet 5/work/68/8ff1136703e90d4464004bcb0f1f11/c_w_chunk_ah'\n",
    "\n",
    "'/home/maikenaegele/ComputationalWorkflow/Sheet 5/work/ff/02890cdea2e52140eee9b9d83cc3a8/h_w_chunk_aa'\n",
    "'/home/maikenaegele/ComputationalWorkflow/Sheet 5/work/ff/02890cdea2e52140eee9b9d83cc3a8/h_w_chunk_ab'\n",
    "'/home/maikenaegele/ComputationalWorkflow/Sheet 5/work/ff/02890cdea2e52140eee9b9d83cc3a8/h_w_chunk_ac'"
   ]
  },
  {
   "cell_type": "markdown",
   "metadata": {},
   "source": [
    "### Why was CONVERTTOUPPER run so often?"
   ]
  },
  {
   "cell_type": "markdown",
   "metadata": {},
   "source": [
    "The Nextflow process CONVERTTOUPPER is designed to operate on each individual chunk.<br>\n",
    "The total number of chunks across all input strings determines how many times CONVERTTOUPPER will be run."
   ]
  }
 ],
 "metadata": {
  "kernelspec": {
   "display_name": "CompWorkflow",
   "language": "python",
   "name": "python3"
  },
  "language_info": {
   "codemirror_mode": {
    "name": "ipython",
    "version": 3
   },
   "file_extension": ".py",
   "mimetype": "text/x-python",
   "name": "python",
   "nbconvert_exporter": "python",
   "pygments_lexer": "ipython3",
   "version": "3.12.2"
  }
 },
 "nbformat": 4,
 "nbformat_minor": 2
}
